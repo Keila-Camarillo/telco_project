{
 "cells": [
  {
   "cell_type": "code",
   "execution_count": 2,
   "id": "c1e026da",
   "metadata": {},
   "outputs": [],
   "source": [
    "# imports\n",
    "import warnings\n",
    "warnings.filterwarnings(\"ignore\")\n",
    "import os\n",
    "import pandas as pd\n",
    "import numpy as np\n",
    "import matplotlib.pyplot as plt\n",
    "import seaborn as sns\n",
    "from scipy import stats\n",
    "\n",
    "# sklearn imports\n",
    "from sklearn.model_selection import train_test_split\n",
    "from sklearn.metrics import confusion_matrix, classification_report, accuracy_score\n",
    "\n",
    "# tree classifier\n",
    "from sklearn.model_selection import train_test_split\n",
    "from sklearn.tree import DecisionTreeClassifier, plot_tree\n",
    "\n",
    "# rainforest classifier\n",
    "from sklearn.ensemble import RandomForestClassifier\n",
    "\n",
    "# linear regession classifier\n",
    "from sklearn.linear_model import LogisticRegression\n",
    "\n",
    "# knn classifier\n",
    "from sklearn.neighbors import KNeighborsClassifier\n",
    "import wrangle as w\n",
    "import explore as e\n",
    "import model as m\n"
   ]
  },
  {
   "cell_type": "markdown",
   "id": "f10a6b39",
   "metadata": {},
   "source": [
    "# Project Description\n",
    "Telco is a communication service provider (CSP) company that transports information electronically through telephony and data communication services in the networking industry. The Telco Churn dataset is utilized in this project to find drivers for customer churn at Telco. "
   ]
  },
  {
   "cell_type": "markdown",
   "id": "dbdc9218",
   "metadata": {},
   "source": [
    "\n",
    "# Project Goal\n",
    "\n",
    "* Discover drivers of churn in the telco dataset \n",
    "* Use drivers to develop a machine learning model to classify customers with the probablity of churning or not churning\n",
    "* Churn is defined as a customer who left within the last month.\n",
    "* This information could be used to further our understanding of which elements contribute to a customer churning.\n",
    "\n",
    "# Initial Thoughts\n",
    "\n",
    "My initial hypothesis is that drivers of churn will be elements such as dependents/partners, payment type (manual/ automatic), gender, paperless billing, and tenure."
   ]
  },
  {
   "cell_type": "markdown",
   "id": "e3473025",
   "metadata": {},
   "source": [
    "# Acquire\n",
    "* Aquire dataset from Codeup database\n",
    "* It contained 7043 rows and 26 columns before cleaning\n",
    "* Each row represents a customer at Telco\n",
    "* Each column represents a feature of those customers"
   ]
  },
  {
   "cell_type": "markdown",
   "id": "da454eb8",
   "metadata": {},
   "source": [
    "# Prepare\n",
    "- Prepare Actions:\n",
    "\n",
    "    * Removed columns that did not contain useful information\n",
    "    * Renamed columns to promote readability\n",
    "    * Checked for nulls in the data (there were nulls within churn_month column, which was dropped)\n",
    "    * Checked that column data types were appropriate\n",
    "    * Added automatic_payment column, which divides the four payment types in payment_type column into two categories: automatic or non-automatic\n",
    "    * Removed features:\n",
    "        - customer_id            \n",
    "        - senior_citizen                         \n",
    "        - phone_service            \n",
    "        - monthly_charges        \n",
    "        - total_charges          \n",
    "        - payment_type\n",
    "    * Encoded categorical variables\n",
    "    * Split data into train, validate and test (approx. 60/20/20), stratifying on 'churn'\n",
    "    * Outliers have not been removed for this iteration of the project"
   ]
  },
  {
   "cell_type": "markdown",
   "id": "f1d8846f",
   "metadata": {},
   "source": [
    "# Data Dictionary "
   ]
  },
  {
   "cell_type": "markdown",
   "id": "682be5b7",
   "metadata": {},
   "source": [
    "| Feature | Definition |\n",
    "|:--------|:-----------|\n",
    "|Churn (Target)| 0 (Did Not Churn) or 1 (Did Churn), The customer churned|\n",
    "|Automatic Payment| 0 (No) or 1 (Yes), The customer is setup for automatic payments|\n",
    "|Paperless Billing| 0 (No) or 1 (Yes), The customer is setup for paperless billing|\n",
    "|Partner| 0 (No) or 1 (Yes), The customer has a partner|\n",
    "|Dependents| 0 (No) or 1 (Yes), The customer has dependents|\n",
    "|Gender| 0 (Female) or 1 (Male), The customers' gender|\n",
    "|Tenure| The customers' number of months at Telco|"
   ]
  },
  {
   "cell_type": "code",
   "execution_count": 3,
   "id": "217d8b91",
   "metadata": {},
   "outputs": [],
   "source": [
    "# df_feat with all explore features\n",
    "df_feat = w.prep_telco()\n",
    "# acquiring, cleaning, and adding valuable features to data\n",
    "df = w.prep_clean_telco()\n",
    "\n",
    "# splitting data into train, validate, and test\n",
    "target = \"churn\"\n",
    "train_feat, validate_feat, test_feat = w.split_data(df_feat,target)\n",
    "train, validate, test = w.split_data(df,target)"
   ]
  },
  {
   "cell_type": "markdown",
   "id": "03864c7a",
   "metadata": {},
   "source": [
    "# Summarize df "
   ]
  },
  {
   "cell_type": "code",
   "execution_count": 4,
   "id": "29cc51a2",
   "metadata": {},
   "outputs": [
    {
     "data": {
      "text/html": [
       "<div>\n",
       "<style scoped>\n",
       "    .dataframe tbody tr th:only-of-type {\n",
       "        vertical-align: middle;\n",
       "    }\n",
       "\n",
       "    .dataframe tbody tr th {\n",
       "        vertical-align: top;\n",
       "    }\n",
       "\n",
       "    .dataframe thead th {\n",
       "        text-align: right;\n",
       "    }\n",
       "</style>\n",
       "<table border=\"1\" class=\"dataframe\">\n",
       "  <thead>\n",
       "    <tr style=\"text-align: right;\">\n",
       "      <th></th>\n",
       "      <th>partner</th>\n",
       "      <th>dependents</th>\n",
       "      <th>paperless_billing</th>\n",
       "      <th>automatic_payment</th>\n",
       "      <th>churn</th>\n",
       "      <th>gender</th>\n",
       "      <th>tenure</th>\n",
       "    </tr>\n",
       "  </thead>\n",
       "  <tbody>\n",
       "    <tr>\n",
       "      <th>5911</th>\n",
       "      <td>0</td>\n",
       "      <td>1</td>\n",
       "      <td>1</td>\n",
       "      <td>1</td>\n",
       "      <td>0</td>\n",
       "      <td>1</td>\n",
       "      <td>26</td>\n",
       "    </tr>\n",
       "    <tr>\n",
       "      <th>2479</th>\n",
       "      <td>1</td>\n",
       "      <td>0</td>\n",
       "      <td>0</td>\n",
       "      <td>0</td>\n",
       "      <td>0</td>\n",
       "      <td>0</td>\n",
       "      <td>47</td>\n",
       "    </tr>\n",
       "    <tr>\n",
       "      <th>5889</th>\n",
       "      <td>0</td>\n",
       "      <td>0</td>\n",
       "      <td>1</td>\n",
       "      <td>0</td>\n",
       "      <td>1</td>\n",
       "      <td>0</td>\n",
       "      <td>1</td>\n",
       "    </tr>\n",
       "    <tr>\n",
       "      <th>6087</th>\n",
       "      <td>0</td>\n",
       "      <td>0</td>\n",
       "      <td>1</td>\n",
       "      <td>1</td>\n",
       "      <td>0</td>\n",
       "      <td>1</td>\n",
       "      <td>69</td>\n",
       "    </tr>\n",
       "    <tr>\n",
       "      <th>785</th>\n",
       "      <td>0</td>\n",
       "      <td>0</td>\n",
       "      <td>0</td>\n",
       "      <td>1</td>\n",
       "      <td>0</td>\n",
       "      <td>0</td>\n",
       "      <td>51</td>\n",
       "    </tr>\n",
       "  </tbody>\n",
       "</table>\n",
       "</div>"
      ],
      "text/plain": [
       "      partner  dependents  paperless_billing  automatic_payment  churn  \\\n",
       "5911        0           1                  1                  1      0   \n",
       "2479        1           0                  0                  0      0   \n",
       "5889        0           0                  1                  0      1   \n",
       "6087        0           0                  1                  1      0   \n",
       "785         0           0                  0                  1      0   \n",
       "\n",
       "      gender  tenure  \n",
       "5911       1      26  \n",
       "2479       0      47  \n",
       "5889       0       1  \n",
       "6087       1      69  \n",
       "785        0      51  "
      ]
     },
     "execution_count": 4,
     "metadata": {},
     "output_type": "execute_result"
    }
   ],
   "source": [
    "# overview of data\n",
    "train_feat.head()"
   ]
  },
  {
   "cell_type": "markdown",
   "id": "084a77bb",
   "metadata": {},
   "source": [
    "# Explore"
   ]
  },
  {
   "cell_type": "markdown",
   "id": "8c3c50ec",
   "metadata": {},
   "source": [
    "# How often are customers' churning?"
   ]
  },
  {
   "cell_type": "code",
   "execution_count": 5,
   "id": "6abb6cb0",
   "metadata": {},
   "outputs": [
    {
     "data": {
      "image/png": "[encoded data removed]",
      "text/plain": [
       "<Figure size 640x480 with 1 Axes>"
      ]
     },
     "metadata": {},
     "output_type": "display_data"
    }
   ],
   "source": [
    "# pie chart churn\n",
    "e.churn_pie(train)"
   ]
  },
  {
   "cell_type": "markdown",
   "id": "e879ab94",
   "metadata": {},
   "source": [
    "* Approximately 27% of customers' in the training data have churned"
   ]
  },
  {
   "cell_type": "markdown",
   "id": "54b22d36",
   "metadata": {},
   "source": [
    "# What's the relationship between churn and automatic payment?"
   ]
  },
  {
   "cell_type": "code",
   "execution_count": 6,
   "id": "b98dd5b5",
   "metadata": {},
   "outputs": [
    {
     "data": {
      "image/png": "[encoded data removed]",
      "text/plain": [
       "<Figure size 640x480 with 1 Axes>"
      ]
     },
     "metadata": {},
     "output_type": "display_data"
    }
   ],
   "source": [
    "# graph for Churn and Automatic Payment\n",
    "graph_title_Q1 = \"What's the Relationship Between Churn and Automatic Payment?\"\n",
    "feature_Q1 = \"automatic_payment\"\n",
    "\n",
    "e.relationship_churn(train_feat, graph_title_Q1, feature_Q1, target)"
   ]
  },
  {
   "cell_type": "markdown",
   "id": "ce89e55f",
   "metadata": {},
   "source": [
    "**I will use chi-square to investigate whether churning and customers' with automatic payment are related**\n",
    "\n",
    "* I will use a confidence interval of 95%\n",
    "* The alpha is .05\n",
    "\n",
    "\n",
    "* $H_o$: 'Churn' and 'Automatic Payment' are independent.\n",
    "* $H_a$: 'Churn' and 'Automatic Payment' are related."
   ]
  },
  {
   "cell_type": "code",
   "execution_count": 7,
   "id": "88fbf76c",
   "metadata": {},
   "outputs": [
    {
     "name": "stdout",
     "output_type": "stream",
     "text": [
      "Reject the null hypothesis: 'Churn' and 'Automatic Payments' are independent\n",
      "Sufficient evidence to move forward understanding that, 'Churn' and 'Automatic Payments'are related\n",
      " chi^2 = 201.00756246968632 p = 1.2588150001387785e-45\n"
     ]
    }
   ],
   "source": [
    "# Chi squared to compare proportions, define confidence\n",
    "# alpha is set to 0.05\n",
    "alpha = 0.05\n",
    "\n",
    "null_hypothesis_Q1 = \"'Churn' and 'Automatic Payments' are independent\"\n",
    "alternative_hypothesis_Q1 = \"'Churn' and 'Automatic Payments'are related\"\n",
    "\n",
    "e.cross_function(train_feat, target, feature_Q1, null_hypothesis_Q1, alternative_hypothesis_Q1)"
   ]
  },
  {
   "cell_type": "markdown",
   "id": "840696d2",
   "metadata": {},
   "source": [
    "**The p-value is greater than the alpha. Therefore, we have evidence to support that 'Churn' and 'Automatic Payments'are related. Customers' with 'Automatic Payment' churned less than those who didn't have \"Automatic Payment\". Based on this, I believe that using the 'Automatic Payment' feature in modeling will likely have a small positive impact on the model's accuracy.**"
   ]
  },
  {
   "cell_type": "markdown",
   "id": "0bdbed39",
   "metadata": {},
   "source": [
    "# What's the relationship between churn and paperless billing?"
   ]
  },
  {
   "cell_type": "code",
   "execution_count": 8,
   "id": "7bfd4ec5",
   "metadata": {},
   "outputs": [
    {
     "data": {
      "image/png": "[encoded data removed]",
      "text/plain": [
       "<Figure size 640x480 with 1 Axes>"
      ]
     },
     "metadata": {},
     "output_type": "display_data"
    }
   ],
   "source": [
    "# graph for Churn and Paperless Billing\n",
    "graph_title_Q2 = \"What's the Relationship Between Churn and Paperless Billing?\"\n",
    "feature_Q2 = \"paperless_billing\"\n",
    "\n",
    "e.relationship_churn(train_feat, graph_title_Q2, feature_Q2, target)"
   ]
  },
  {
   "cell_type": "markdown",
   "id": "095fad58",
   "metadata": {},
   "source": [
    "**I will use chi-square to investigate whether churning and customers' with paperless billing are related**\n",
    "\n",
    "* I will use a confidence interval of 95%\n",
    "* The alpha is .05\n",
    "\n",
    "\n",
    "* $H_o$: 'Churn' and 'Paperless Billing' are independent.\n",
    "* $H_a$: 'Churn' and 'Paperless Billing' are related."
   ]
  },
  {
   "cell_type": "code",
   "execution_count": 9,
   "id": "45cd199f",
   "metadata": {},
   "outputs": [
    {
     "name": "stdout",
     "output_type": "stream",
     "text": [
      "Reject the null hypothesis: 'Churn' and 'Paperless Billing' are independent.\n",
      "Sufficient evidence to move forward understanding that, 'Churn' and 'Paperless Billing' are related.'\n",
      " chi^2 = 148.58446697144495 p = 3.5348504574964642e-34\n"
     ]
    }
   ],
   "source": [
    "# Chi squared to compare proportions, define confidence\n",
    "null_hypothesis_Q2 = \"'Churn' and 'Paperless Billing' are independent.\"\n",
    "alternative_hypothesis_Q2 = \"'Churn' and 'Paperless Billing' are related.'\"\n",
    "\n",
    "e.cross_function(train_feat, target, feature_Q2, null_hypothesis_Q2, alternative_hypothesis_Q2)"
   ]
  },
  {
   "cell_type": "markdown",
   "id": "2f639d29",
   "metadata": {},
   "source": [
    "**The p-value is greater than the alpha. Therefore, we have evidence to support that 'Churn' and 'Paperless Billing' are related. Customers' with 'Paperless Billing' churned more than those who didn't. Based on this, I believe that using the 'Paperless Billing' feature in modeling will likely have a small positive impact on the model's accuracy.**"
   ]
  },
  {
   "cell_type": "markdown",
   "id": "9d640897",
   "metadata": {},
   "source": [
    "# What's the Relationship Between churn and customers' with a Partner?"
   ]
  },
  {
   "cell_type": "code",
   "execution_count": 10,
   "id": "3e866901",
   "metadata": {},
   "outputs": [
    {
     "data": {
      "image/png": "[encoded data removed]",
      "text/plain": [
       "<Figure size 640x480 with 1 Axes>"
      ]
     },
     "metadata": {},
     "output_type": "display_data"
    }
   ],
   "source": [
    "# graph for Churn and Partner\n",
    "graph_title_Q3 = \"What's the Relationship Between Churn and Customers' with a Partner?\"\n",
    "feature_Q3 = \"partner\"\n",
    "\n",
    "e.relationship_churn(train_feat, graph_title_Q3, feature_Q3, target)"
   ]
  },
  {
   "cell_type": "markdown",
   "id": "61e927ce",
   "metadata": {},
   "source": [
    "**I will use chi-square to investigate whether churning and customers' with a Partner?**\n",
    "\n",
    "* I will use a confidence interval of 95%\n",
    "* The alpha is .05\n",
    "\n",
    "\n",
    "* $H_o$: 'Churn' and 'Partner' are independent.\n",
    "* $H_a$: 'Churn' and 'Partner' are related."
   ]
  },
  {
   "cell_type": "code",
   "execution_count": 11,
   "id": "05632b8a",
   "metadata": {},
   "outputs": [
    {
     "name": "stdout",
     "output_type": "stream",
     "text": [
      "Reject the null hypothesis: 'Churn' and 'Partners' are independent\n",
      "Sufficient evidence to move forward understanding that, 'Churn' and 'Partners' are related\n",
      " chi^2 = 106.63124069338238 p = 5.362120825511991e-25\n"
     ]
    }
   ],
   "source": [
    "# Chi squared to compare proportions, define confidence\n",
    "null_hypothesis_Q3 = \"'Churn' and 'Partners' are independent\"\n",
    "alternative_hypothesis_Q3 = \"'Churn' and 'Partners' are related\"\n",
    "\n",
    "e.cross_function(train_feat, target, feature_Q3, null_hypothesis_Q3, alternative_hypothesis_Q3)"
   ]
  },
  {
   "cell_type": "markdown",
   "id": "2f34c141",
   "metadata": {},
   "source": [
    "**The p-value is greater than the alpha. Therefore, we have evidence to support that 'Churn' and 'Partners' are related. Customers' with 'Partners' churned less than those who didn't.Based on this, I believe that using the 'Partners' feature in modeling will likely have a small positive impact on the model's accuracy.**"
   ]
  },
  {
   "cell_type": "markdown",
   "id": "07fce5d1",
   "metadata": {},
   "source": [
    "# What's the relationship between churn and customers' with dependents?"
   ]
  },
  {
   "cell_type": "code",
   "execution_count": 12,
   "id": "4e007305",
   "metadata": {},
   "outputs": [
    {
     "data": {
      "image/png": "[encoded data removed]",
      "text/plain": [
       "<Figure size 640x480 with 1 Axes>"
      ]
     },
     "metadata": {},
     "output_type": "display_data"
    }
   ],
   "source": [
    "# graph for Churn and Dependents\n",
    "graph_title_Q4 = \"What's the Relationship Between Churn and Customers' with Dependents\"\n",
    "feature_Q4 = \"dependents\"\n",
    "\n",
    "e.relationship_churn(train_feat, graph_title_Q4, feature_Q4, target)"
   ]
  },
  {
   "cell_type": "markdown",
   "id": "f20c71bf",
   "metadata": {},
   "source": [
    "**I will use chi-square to investigate whether churning and customers' with Dependents?**\n",
    "\n",
    "* I will use a confidence interval of 95%\n",
    "* The alpha is .05\n",
    "\n",
    "\n",
    "* $H_o$: 'Churn' and 'Dependents' are independent.\n",
    "* $H_a$: 'Churn' and 'Dependents' are related."
   ]
  },
  {
   "cell_type": "code",
   "execution_count": 13,
   "id": "8e6d60c6",
   "metadata": {},
   "outputs": [
    {
     "name": "stdout",
     "output_type": "stream",
     "text": [
      "Reject the null hypothesis: 'Churn' and 'Dependents' are independent.\n",
      "Sufficient evidence to move forward understanding that, 'Churn' and 'Dependents' are related.\n",
      " chi^2 = 111.74045071817626 p = 4.0728740930257527e-26\n"
     ]
    }
   ],
   "source": [
    "# Chi squared to compare proportions, define confidence\n",
    "alpha = 0.05\n",
    "\n",
    "null_hypothesis_Q4 = \"'Churn' and 'Dependents' are independent.\"\n",
    "alternative_hypothesis_Q4 = \"'Churn' and 'Dependents' are related.\"\n",
    "\n",
    "e.cross_function(train_feat, target, feature_Q4, null_hypothesis_Q4, alternative_hypothesis_Q4)"
   ]
  },
  {
   "cell_type": "markdown",
   "id": "e4d4b5ed",
   "metadata": {},
   "source": [
    "**The p-value is greater than the alpha. Therefore, we have evidence to support that 'Churn' and 'Dependents' are related. Customers' with 'Dependents' churned less than those who didn't. Based on this, I believe that using the 'Dependents' feature in modeling will likely have a small positive impact on the model's accuracy.**"
   ]
  },
  {
   "cell_type": "markdown",
   "id": "cde5909f",
   "metadata": {},
   "source": [
    "# Does tenure affect whether a customer will churn or not?"
   ]
  },
  {
   "cell_type": "code",
   "execution_count": 14,
   "id": "9527f1a6",
   "metadata": {},
   "outputs": [
    {
     "data": {
      "image/png": "[encoded data removed]",
      "text/plain": [
       "<Figure size 640x480 with 1 Axes>"
      ]
     },
     "metadata": {},
     "output_type": "display_data"
    }
   ],
   "source": [
    "# graph for churn and tenure\n",
    "did_churn = train_feat[train_feat.churn == 1]\n",
    "did_not_churn = train_feat[train_feat.churn == 0]\n",
    "plt.hist(data=did_not_churn, x='tenure', label=\"Did Not Churn\", color=\"C0\")\n",
    "plt.hist(data=did_churn, x='tenure', label=\"Did Churn\", color=\"C1\")\n",
    "\n",
    "plt.legend()\n",
    "plt.show()"
   ]
  },
  {
   "cell_type": "code",
   "execution_count": 15,
   "id": "36ccb484",
   "metadata": {},
   "outputs": [
    {
     "name": "stdout",
     "output_type": "stream",
     "text": [
      "Reject the null hypothesis: 'Tenure' of customers who 'Churn' equals that of those who don't 'Churn'\n",
      "Sufficient evidence to move forward understanding that, 'Tenure' of customers who 'Churn' is not equal to that of those who don't 'Churn'\n",
      "p = 8.804788934587683e-137\n"
     ]
    }
   ],
   "source": [
    "# t-test to compare tenure, define confidence\n",
    "null_hypothesis_Q6 = \"'Tenure' of customers who 'Churn' equals that of those who don't 'Churn'\"\n",
    "alternative_hypothesis_Q6 = \"'Tenure' of customers who 'Churn' is not equal to that of those who don't 'Churn'\"\n",
    "churn_sample = train[train.churn == 1].tenure\n",
    "no_churn_sample = train[train.churn == 0].tenure\n",
    "\n",
    "e.tenure_ttest(churn_sample, no_churn_sample, null_hypothesis_Q6, alternative_hypothesis_Q6)"
   ]
  },
  {
   "cell_type": "markdown",
   "id": "3b5d441c",
   "metadata": {},
   "source": [
    "**I will use Independent T-Test to investigate the relationship between churn and tenure**\n",
    "\n",
    "* I will use a confidence interval of 95%\n",
    "* The alpha is .05\n",
    "\n",
    "\n",
    "* $H_o$: 'Tenure' of customers who 'Churn' equals that of those who don't 'Churn'\n",
    "* $H_a$: 'Tenure' of customers who 'Churn' is not equal to that of those who don't 'Churn'"
   ]
  },
  {
   "cell_type": "markdown",
   "id": "e239f163",
   "metadata": {},
   "source": [
    "**The p-value is greater than the alpha. Therefore, we have evidence to support that 'Tenure' of customers who 'Churn' is not equal to that of those who don't 'Churn'. Customers' with low 'Tenure' churned more than those who had high 'Tenure. Based on this, I believe that using the 'Tenue' feature in modeling will likely have a small positive impact on the model's accuracy.**"
   ]
  },
  {
   "cell_type": "markdown",
   "id": "1ca665f1",
   "metadata": {},
   "source": [
    "# What's the relationship between churn and gender?"
   ]
  },
  {
   "cell_type": "code",
   "execution_count": 16,
   "id": "fe754d47",
   "metadata": {},
   "outputs": [
    {
     "data": {
      "image/png": "[encoded data removed]",
      "text/plain": [
       "<Figure size 640x480 with 1 Axes>"
      ]
     },
     "metadata": {},
     "output_type": "display_data"
    }
   ],
   "source": [
    "# graph for Churn and Gender\n",
    "graph_title_Q5 = \"What's the Relationship Between Churn and Customers' gender\"\n",
    "feature_Q5 = \"gender\"\n",
    "\n",
    "e.relationship_churn2(train_feat, graph_title_Q5, feature_Q5, target)"
   ]
  },
  {
   "cell_type": "markdown",
   "id": "1fd3204c",
   "metadata": {},
   "source": [
    "**I will use chi-square to investigate the relationship between churning and gender**\n",
    "\n",
    "* I will use a confidence interval of 95%\n",
    "* The alpha is .05\n",
    "\n",
    "\n",
    "* $H_o$: 'Churn' and 'Gender' are independent.\n",
    "* $H_a$: 'Churn' and 'Gender' are related."
   ]
  },
  {
   "cell_type": "code",
   "execution_count": 17,
   "id": "61b652a0",
   "metadata": {},
   "outputs": [
    {
     "name": "stdout",
     "output_type": "stream",
     "text": [
      "Fail to reject the null\n",
      "Insufficient evidence to reject the null\n",
      " chi^2 = 0.26001085636614296 p = 0.6101126964282866\n"
     ]
    }
   ],
   "source": [
    "# Chi squared to compare proportions, define confidence\n",
    "null_hypothesis_Q5 = \"'Churn' and 'Gender' are independent.\"\n",
    "alternative_hypothesis_Q5 = \"'Churn' and 'Gender' are related.\"\n",
    "\n",
    "e.cross_function(train_feat, target, feature_Q5, null_hypothesis_Q5, alternative_hypothesis_Q5)"
   ]
  },
  {
   "cell_type": "markdown",
   "id": "47205304",
   "metadata": {},
   "source": [
    "**Because genders and churn are very similar to the average churn, it is not likely that \"Gender\" will be a useful feature to model on.**"
   ]
  },
  {
   "cell_type": "markdown",
   "id": "a9eadfa4",
   "metadata": {},
   "source": [
    "# Exploration Summary"
   ]
  },
  {
   "cell_type": "markdown",
   "id": "9612f2b8",
   "metadata": {},
   "source": [
    "* \"Automatic Payment\" was found to be a driver of \"Churn\", Customers' with 'Automatic Payment' churned less than those who didn't have 'Automatic Payment'.\n",
    "* \"Paperless Billing\" was found to be a driver of \"Churn\", customers' with 'Paperless Billing' churned more than those who didn't have 'Paperless Billing'.\n",
    "* \"Partner\" was found to be a driver of \"Churn\",  customers' with 'Partners' churned less than those who didn't.\n",
    "* \"Dependents\" was found to be a driver of \"Churn\", customers' with 'Dependents' churned less than those who didn't.\n",
    "* \"Gender\" was not found to be a driver of \"Churn\"\n",
    "* \"Tenure\" was found to be a driver of \"Churn\", 'Tenure' of customers who 'Churn' is not equal to that of those who don't 'Churn'"
   ]
  },
  {
   "cell_type": "markdown",
   "id": "9e0a893c",
   "metadata": {},
   "source": [
    "# Features continuing to modeling\n",
    "\n",
    "* \"Automatic Payment\" was found to be a driver of \"Churn\" (small difference in churn percentage, but relationship to churn is statistically significant)\n",
    "* \"Paperless Billing\" was found to be a driver of \"Churn\" (small difference in churn percentage, but relationship to churn is statistically significant)\n",
    "* \"Partner\" was found to be a driver of \"Churn\" (small difference in churn percentage, but relationship to churn is statistically significant)\n",
    "* \"Dependents\" was found to be a driver of \"Churn\" (small difference in churn percentage, but relationship to churn is statistically significant)\n",
    "* \"Tenure\" was found to be a driver of \"Churn\" (small difference in churn percentage, but relationship to churn is statistically significant)\n"
   ]
  },
  {
   "cell_type": "markdown",
   "id": "37202ea4",
   "metadata": {},
   "source": [
    "# Features not continuing to modeling\n",
    "* \"Gender\" was found to be a driver of \"Churn\"  (There is no evidence that \"Gender\" is a driver of churn)"
   ]
  },
  {
   "cell_type": "markdown",
   "id": "7223b32c",
   "metadata": {},
   "source": [
    "# Modeling\n",
    "\n",
    "* My evaluation metric will use accuracy.\n",
    "    - positive class:  not churned\n",
    "    - negative class:  churned\n",
    "* Non-churn is approximately 73% of the data."
   ]
  },
  {
   "cell_type": "markdown",
   "id": "ac66896b",
   "metadata": {},
   "source": [
    "* Assuming non-churn for every customer, the baseline accuracy is 73%, and will continue to use for this project.\n",
    "* I will be evaluating models developed using three different model types and various hyperparameter configurations.\n",
    "* Models will be evaluated on train and validate data.\n",
    "* The model that performs the best will then be evaluated on test data."
   ]
  },
  {
   "cell_type": "code",
   "execution_count": 18,
   "id": "8f87e4a5",
   "metadata": {},
   "outputs": [
    {
     "data": {
      "text/plain": [
       "0.73"
      ]
     },
     "execution_count": 18,
     "metadata": {},
     "output_type": "execute_result"
    }
   ],
   "source": [
    "# baseline accuracy \n",
    "baseline_accuracy = (train.churn == 0).mean()\n",
    "round(baseline_accuracy, 2)"
   ]
  },
  {
   "cell_type": "code",
   "execution_count": 19,
   "id": "1e92a9cc",
   "metadata": {},
   "outputs": [],
   "source": [
    "#  prep data for modeling\n",
    "x_train, y_train, x_validate, y_validate, x_test, y_test = m.create_x_y(train, validate, test, target)"
   ]
  },
  {
   "cell_type": "markdown",
   "id": "6ce4b4dc",
   "metadata": {},
   "source": [
    "# Decision Tree Model  "
   ]
  },
  {
   "cell_type": "code",
   "execution_count": 20,
   "id": "aea63de5",
   "metadata": {},
   "outputs": [
    {
     "name": "stdout",
     "output_type": "stream",
     "text": [
      "\n",
      "    Accuracy of Decision Tree classifier on training set: 0.78\n",
      "    Accuracy of Decision Tree classifier on validation set: 0.77\n",
      "    \n"
     ]
    }
   ],
   "source": [
    "# decision tree results\n",
    "m.best_tree(x_train, y_train, x_validate, y_validate)"
   ]
  },
  {
   "cell_type": "markdown",
   "id": "d9a19cee",
   "metadata": {},
   "source": [
    "* The Decision Tree has an accuracy greater than the baseline."
   ]
  },
  {
   "cell_type": "markdown",
   "id": "5154bf7d",
   "metadata": {},
   "source": [
    "# Random Forest model"
   ]
  },
  {
   "cell_type": "code",
   "execution_count": 21,
   "id": "6528d567",
   "metadata": {},
   "outputs": [
    {
     "name": "stdout",
     "output_type": "stream",
     "text": [
      "\n",
      "    Accuracy of Random Forest on training set: 0.78\n",
      "    Accuracy of Random Forest on validation set: 0.78\n",
      "    \n"
     ]
    }
   ],
   "source": [
    "m.best_forest(x_train, y_train, x_validate, y_validate)"
   ]
  },
  {
   "cell_type": "markdown",
   "id": "f0ebdca0",
   "metadata": {},
   "source": [
    "* The Random Forest has an accuracy greater than the baseline."
   ]
  },
  {
   "cell_type": "markdown",
   "id": "89f8ecb4",
   "metadata": {},
   "source": [
    "# Logistic Regression Model"
   ]
  },
  {
   "cell_type": "code",
   "execution_count": 22,
   "id": "9913fe13",
   "metadata": {},
   "outputs": [
    {
     "name": "stdout",
     "output_type": "stream",
     "text": [
      "\n",
      "\n",
      "    Accuracy of Logistic Regression on training set: 0.77\n",
      "    Accuracy of Logistic Regression on validation set: 0.77\n",
      "    \n"
     ]
    }
   ],
   "source": [
    "# logistic regression results\n",
    "m.logit_accuracy(x_train, y_train, x_validate, y_validate)"
   ]
  },
  {
   "cell_type": "markdown",
   "id": "9d684fd0",
   "metadata": {},
   "source": [
    "* The Linear Regression has an accuracy greater than the baseline."
   ]
  },
  {
   "cell_type": "markdown",
   "id": "10e0656d",
   "metadata": {},
   "source": [
    "# KNN Model"
   ]
  },
  {
   "cell_type": "code",
   "execution_count": 23,
   "id": "e8e4ccbc",
   "metadata": {},
   "outputs": [
    {
     "name": "stdout",
     "output_type": "stream",
     "text": [
      "\n",
      "    Accuracy of KNN on training set: 0.79\n",
      "    Accuracy of KNN on validation set: 0.75\n",
      "    \n"
     ]
    }
   ],
   "source": [
    "# the knn results\n",
    "m.best_knn(x_train, y_train, x_validate, y_validate)"
   ]
  },
  {
   "cell_type": "markdown",
   "id": "ddb99266",
   "metadata": {},
   "source": [
    "* The KNN Model is greater thant the baseline, however validation is lower than the train score, possibly due to overfitting."
   ]
  },
  {
   "cell_type": "markdown",
   "id": "0e59b9ba",
   "metadata": {},
   "source": [
    "# Comparing Models"
   ]
  },
  {
   "cell_type": "markdown",
   "id": "82c15505",
   "metadata": {},
   "source": [
    "* Decision Tree performed performed greater than the baseline for train and validation, however validation was slightly under the train score.\n",
    "* Logistic Regression models performed greater than the baseline.\n",
    "* KNN model performed the best train score, however the validation score is approx. 4% lower than the train score, possibly due to overfitting.\n",
    "* The Random Forest model performed the best overall with approx. 5% greater than the baseline.\n",
    "* I have chosen to move forward with the Random Forest model."
   ]
  },
  {
   "cell_type": "markdown",
   "id": "34ef5a23",
   "metadata": {},
   "source": [
    "## Random Forest on Test "
   ]
  },
  {
   "cell_type": "code",
   "execution_count": 24,
   "id": "98711e9e",
   "metadata": {
    "scrolled": true
   },
   "outputs": [
    {
     "name": "stdout",
     "output_type": "stream",
     "text": [
      "\n",
      "    Accuracy of RandomForestClassifier(max_depth=6, min_samples_leaf=5, random_state=3) on training set: 0.78\n",
      "    Accuracy of RandomForestClassifier(max_depth=6, min_samples_leaf=5, random_state=3) on validation set: 0.78\n",
      "    Accuracy of RandomForestClassifier(max_depth=6, min_samples_leaf=5, random_state=3) on test set: 0.76\n",
      "    \n"
     ]
    }
   ],
   "source": [
    "# get test results for final model\n",
    "m.best_model(x_train, y_train, x_validate, y_validate, x_test, y_test)"
   ]
  },
  {
   "cell_type": "markdown",
   "id": "fd77faf7",
   "metadata": {},
   "source": [
    "### Modeling Summary \n",
    "* Decision Tree and Logistic Regression models performed greater than the baseline.\n",
    "* The Logistic Regression model performed slightly greater in train but less in validation, possibly due to overfitting.\n",
    "* KNN models performed less than the baseline on train and validate.\n",
    "* A Random Forest model selected as the final model and had an accuracy of 76%."
   ]
  },
  {
   "cell_type": "markdown",
   "id": "b58f000f",
   "metadata": {},
   "source": [
    "# Conclusions"
   ]
  },
  {
   "cell_type": "markdown",
   "id": "4dc7181e",
   "metadata": {},
   "source": [
    "### Exploration\n",
    "* \"Automatic Payment\" was found to be a driver of \"Churn\", customers' with auto pay set were not churning as often\n",
    "* \"Paperless Billing\" was found to be a driver of \"Churn\",  customers' with paperless billing were churning more\n",
    "* \"Partner\" was found to be a driver of \"Churn\", are more likely to churn if the customer does not have a partner\n",
    "* \"Dependents\" was found to be a driver of \"Churn\", are more likely to churn if the customer does not have dependents\n",
    "* \"Gender\" was not found to be a driver of \"Churn\"\n",
    "* \"Tenure\" was found to be a driver of \"Churn\", Customers' with low 'Tenure' churned more than those who had high 'Tenure"
   ]
  },
  {
   "cell_type": "markdown",
   "id": "6a73636c",
   "metadata": {},
   "source": [
    "### Modeling\n",
    "The final model failed to outperform the baseline. Possible reasons include:\n",
    "* Limited amount of features"
   ]
  },
  {
   "cell_type": "markdown",
   "id": "097be203",
   "metadata": {},
   "source": [
    "### Recommendations\n",
    "* To decrease the likelihood of customers churning offer a small incentive for customers to initiate automatic payments.\n",
    "* To decrease the likelihood of customers' with low tenure, dependents, or partners from churning, offer these selected customers discounted rates for longer contracts."
   ]
  },
  {
   "cell_type": "markdown",
   "id": "3a4271c1",
   "metadata": {},
   "source": [
    "### Next Steps\n",
    "* I would like to explore further into paperless billing and tenure, to explore other possible factors that contribute to the relationship.\n",
    "* I would like to explore other features, such as monthly payments and internest service providers to find other driving factors. "
   ]
  }
 ],
 "metadata": {
  "kernelspec": {
   "display_name": "Python 3 (ipykernel)",
   "language": "python",
   "name": "python3"
  },
  "language_info": {
   "codemirror_mode": {
    "name": "ipython",
    "version": 3
   },
   "file_extension": ".py",
   "mimetype": "text/x-python",
   "name": "python",
   "nbconvert_exporter": "python",
   "pygments_lexer": "ipython3",
   "version": "3.9.13"
  }
 },
 "nbformat": 4,
 "nbformat_minor": 5
}
