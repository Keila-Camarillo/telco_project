{
 "cells": [
  {
   "cell_type": "code",
   "execution_count": 3,
   "id": "c1e026da",
   "metadata": {},
   "outputs": [],
   "source": [
    "import warnings\n",
    "warnings.filterwarnings(\"ignore\")\n",
    "import os\n",
    "import pandas as pd\n",
    "import numpy as np\n",
    "import matplotlib.pyplot as plt\n",
    "import seaborn as sns\n",
    "from scipy import stats\n",
    "\n",
    "# sklearn imports\n",
    "from sklearn.model_selection import train_test_split\n",
    "from sklearn.metrics import confusion_matrix, classification_report, accuracy_score\n",
    "\n",
    "# tree classifier\n",
    "from sklearn.model_selection import train_test_split\n",
    "from sklearn.tree import DecisionTreeClassifier, plot_tree\n",
    "\n",
    "# rainforest classifier\n",
    "from sklearn.ensemble import RandomForestClassifier\n",
    "\n",
    "# linear regession classifier\n",
    "from sklearn.linear_model import LogisticRegression\n",
    "\n",
    "import wrangle as w\n",
    "import explore as e\n",
    "import model as m\n"
   ]
  },
  {
   "cell_type": "markdown",
   "id": "2ba9a588",
   "metadata": {},
   "source": [
    "# Acquire\n",
    "* Aquire dataset from Codeup database\n",
    "* It contained 7043 rows and 26 columns before cleaning\n",
    "* Each row represents a customer at Telco\n",
    "* Each column represents a feature of those customers"
   ]
  },
  {
   "cell_type": "markdown",
   "id": "042b25dc",
   "metadata": {},
   "source": [
    "# Prepare\n",
    "- Prepare Actions:\n",
    "\n",
    "    * Removed columns that did not contain useful information\n",
    "    * Renamed columns to promote readability\n",
    "    * Checked for nulls in the data (there were nulls within churn_month column, which was dropped)\n",
    "    * Checked that column data types were appropriate\n",
    "    * Removed white space from total_charge columns with 0's and coverted type to float\n",
    "    * Added automatic_payment column, which divides the four payment types in payment_type column into two categories: automatic or non-automatic\n",
    "    * Removed features:\n",
    "        - customer_id            \n",
    "        - senior_citizen                         \n",
    "        - phone_service            \n",
    "        - monthly_charges        \n",
    "        - total_charges          \n",
    "        - payment_type           \n",
    "      \n",
    "    * Encoded categorical variables\n",
    "    * Split data into train, validate and test (approx. 60/20/20), stratifying on 'churn'\n",
    "    * Outliers have not been removed for this iteration of the project"
   ]
  },
  {
   "cell_type": "markdown",
   "id": "89ec442e",
   "metadata": {},
   "source": [
    "# Data Dictionary "
   ]
  },
  {
   "cell_type": "code",
   "execution_count": 2,
   "id": "217d8b91",
   "metadata": {},
   "outputs": [],
   "source": [
    "# acquiring, cleaning, and adding features to data\n",
    "df, exp_df = w.prep_telco()\n",
    "df\n",
    "\n",
    "# splitting data into train, validate, and test\n",
    "target = \"churn\"\n",
    "train, validate, test = w.split_data(df,target)\n"
   ]
  },
  {
   "cell_type": "markdown",
   "id": "03864c7a",
   "metadata": {},
   "source": [
    "# Summarize df "
   ]
  },
  {
   "cell_type": "code",
   "execution_count": 3,
   "id": "29cc51a2",
   "metadata": {},
   "outputs": [
    {
     "data": {
      "text/html": [
       "<div>\n",
       "<style scoped>\n",
       "    .dataframe tbody tr th:only-of-type {\n",
       "        vertical-align: middle;\n",
       "    }\n",
       "\n",
       "    .dataframe tbody tr th {\n",
       "        vertical-align: top;\n",
       "    }\n",
       "\n",
       "    .dataframe thead th {\n",
       "        text-align: right;\n",
       "    }\n",
       "</style>\n",
       "<table border=\"1\" class=\"dataframe\">\n",
       "  <thead>\n",
       "    <tr style=\"text-align: right;\">\n",
       "      <th></th>\n",
       "      <th>partner</th>\n",
       "      <th>dependents</th>\n",
       "      <th>paperless_billing</th>\n",
       "      <th>automatic_payment</th>\n",
       "      <th>churn</th>\n",
       "    </tr>\n",
       "  </thead>\n",
       "  <tbody>\n",
       "    <tr>\n",
       "      <th>5911</th>\n",
       "      <td>0</td>\n",
       "      <td>1</td>\n",
       "      <td>1</td>\n",
       "      <td>1</td>\n",
       "      <td>0</td>\n",
       "    </tr>\n",
       "    <tr>\n",
       "      <th>2479</th>\n",
       "      <td>1</td>\n",
       "      <td>0</td>\n",
       "      <td>0</td>\n",
       "      <td>0</td>\n",
       "      <td>0</td>\n",
       "    </tr>\n",
       "    <tr>\n",
       "      <th>5889</th>\n",
       "      <td>0</td>\n",
       "      <td>0</td>\n",
       "      <td>1</td>\n",
       "      <td>0</td>\n",
       "      <td>1</td>\n",
       "    </tr>\n",
       "    <tr>\n",
       "      <th>6087</th>\n",
       "      <td>0</td>\n",
       "      <td>0</td>\n",
       "      <td>1</td>\n",
       "      <td>1</td>\n",
       "      <td>0</td>\n",
       "    </tr>\n",
       "    <tr>\n",
       "      <th>785</th>\n",
       "      <td>0</td>\n",
       "      <td>0</td>\n",
       "      <td>0</td>\n",
       "      <td>1</td>\n",
       "      <td>0</td>\n",
       "    </tr>\n",
       "  </tbody>\n",
       "</table>\n",
       "</div>"
      ],
      "text/plain": [
       "      partner  dependents  paperless_billing  automatic_payment  churn\n",
       "5911        0           1                  1                  1      0\n",
       "2479        1           0                  0                  0      0\n",
       "5889        0           0                  1                  0      1\n",
       "6087        0           0                  1                  1      0\n",
       "785         0           0                  0                  1      0"
      ]
     },
     "execution_count": 3,
     "metadata": {},
     "output_type": "execute_result"
    }
   ],
   "source": [
    "# overview of data\n",
    "train.head()"
   ]
  },
  {
   "cell_type": "markdown",
   "id": "226e294f",
   "metadata": {},
   "source": [
    "# Explore"
   ]
  },
  {
   "cell_type": "markdown",
   "id": "54b22d36",
   "metadata": {},
   "source": [
    "## Question 1: What's the relationship between churn and payment type?"
   ]
  },
  {
   "cell_type": "code",
   "execution_count": 4,
   "id": "8a334f0f",
   "metadata": {},
   "outputs": [
    {
     "data": {
      "image/png": "[encoded data removed]",
      "text/plain": [
       "<Figure size 640x480 with 1 Axes>"
      ]
     },
     "metadata": {},
     "output_type": "display_data"
    }
   ],
   "source": [
    "graph_title_Q1 = \"What's the Relationship Between Churn and Automatic Payment Type?\"\n",
    "feature_Q1 = \"automatic_payment\"\n",
    "\n",
    "e.relationship_churn(train, graph_title_Q1, feature_Q1, target)"
   ]
  },
  {
   "cell_type": "code",
   "execution_count": 10,
   "id": "88fbf76c",
   "metadata": {},
   "outputs": [
    {
     "name": "stdout",
     "output_type": "stream",
     "text": [
      "Reject the null hypothesis: churn and automatic payment are independent\n",
      "Sufficient evidence to move forward understanding that, there is a relationship between automatic payment and churn\n"
     ]
    },
    {
     "data": {
      "text/plain": [
       "1.2588150001387785e-45"
      ]
     },
     "execution_count": 10,
     "metadata": {},
     "output_type": "execute_result"
    }
   ],
   "source": [
    "# Chi squared to compare proportions, define confidence\n",
    "alpha = 0.05\n",
    "target_Q1 = \"churn\"\n",
    "feature_variable_Q1 = \"automatic_payment\"\n",
    "null_hypothesis_Q1 = \"churn and automatic payment are independent\"\n",
    "alternative_hypothesis_Q1 = \"there is a relationship between automatic payment and churn\"\n",
    "\n",
    "e.cross_function(train, target, feature_variable_Q1, null_hypothesis_Q1, alternative_hypothesis_Q1)"
   ]
  },
  {
   "cell_type": "markdown",
   "id": "0bdbed39",
   "metadata": {},
   "source": [
    "# Question 2:  What's the relationship between churn and paperless billing?"
   ]
  },
  {
   "cell_type": "code",
   "execution_count": 20,
   "id": "7bfd4ec5",
   "metadata": {},
   "outputs": [
    {
     "data": {
      "image/png": "[encoded data removed]",
      "text/plain": [
       "<Figure size 640x480 with 1 Axes>"
      ]
     },
     "metadata": {},
     "output_type": "display_data"
    }
   ],
   "source": [
    "graph_title_Q2 = \"What's the Relationship Between Churn and paperless billing?\"\n",
    "feature_Q2 = \"paperless_billing\"\n",
    "\n",
    "e.relationship_churn(train, graph_title_Q2, feature_Q2, target)"
   ]
  },
  {
   "cell_type": "code",
   "execution_count": 21,
   "id": "45cd199f",
   "metadata": {},
   "outputs": [
    {
     "name": "stdout",
     "output_type": "stream",
     "text": [
      "Reject the null hypothesis: churn and paperless_billing are independent\n",
      "Sufficient evidence to move forward understanding that, there is a relationship between paperless_billing and churn\n"
     ]
    },
    {
     "data": {
      "text/plain": [
       "3.5348504574964642e-34"
      ]
     },
     "execution_count": 21,
     "metadata": {},
     "output_type": "execute_result"
    }
   ],
   "source": [
    "# Chi squared to compare proportions, define confidence\n",
    "alpha = 0.05\n",
    "\n",
    "null_hypothesis_Q2 = \"churn and paperless_billing are independent\"\n",
    "alternative_hypothesis_Q2 = \"there is a relationship between paperless_billing and churn\"\n",
    "\n",
    "e.cross_function(train, target, feature_Q2, null_hypothesis_Q2, alternative_hypothesis_Q2)"
   ]
  },
  {
   "cell_type": "markdown",
   "id": "9d640897",
   "metadata": {},
   "source": [
    "# Question 3: What's the relationship between churn and customers' with partners?"
   ]
  },
  {
   "cell_type": "code",
   "execution_count": 22,
   "id": "3e866901",
   "metadata": {},
   "outputs": [
    {
     "data": {
      "image/png": "[encoded data removed]",
      "text/plain": [
       "<Figure size 640x480 with 1 Axes>"
      ]
     },
     "metadata": {},
     "output_type": "display_data"
    }
   ],
   "source": [
    "graph_title_Q3 = \"What's the Relationship Between Churn and Customers' with Partners?\"\n",
    "feature_Q3 = \"partner\"\n",
    "\n",
    "e.relationship_churn(train, graph_title_Q3, feature_Q3, target)"
   ]
  },
  {
   "cell_type": "code",
   "execution_count": 17,
   "id": "05632b8a",
   "metadata": {},
   "outputs": [
    {
     "name": "stdout",
     "output_type": "stream",
     "text": [
      "Reject the null hypothesis: churn and customers' with partners are independent\n",
      "Sufficient evidence to move forward understanding that, there is a relationship between customers' with partners and churn\n"
     ]
    },
    {
     "data": {
      "text/plain": [
       "5.362120825511991e-25"
      ]
     },
     "execution_count": 17,
     "metadata": {},
     "output_type": "execute_result"
    }
   ],
   "source": [
    "# Chi squared to compare proportions, define confidence\n",
    "alpha = 0.05\n",
    "\n",
    "null_hypothesis_Q3 = \"churn and customers' with partners are independent\"\n",
    "alternative_hypothesis_Q3 = \"there is a relationship between customers' with partners and churn\"\n",
    "\n",
    "e.cross_function(train, target, feature_Q3, null_hypothesis_Q3, alternative_hypothesis_Q3)"
   ]
  },
  {
   "cell_type": "markdown",
   "id": "07fce5d1",
   "metadata": {},
   "source": [
    "# Question 4: What's the relationship between churn and customers' with dependents?"
   ]
  },
  {
   "cell_type": "code",
   "execution_count": 23,
   "id": "4e007305",
   "metadata": {},
   "outputs": [
    {
     "data": {
      "image/png": "[encoded data removed]",
      "text/plain": [
       "<Figure size 640x480 with 1 Axes>"
      ]
     },
     "metadata": {},
     "output_type": "display_data"
    }
   ],
   "source": [
    "graph_title_Q4 = \"What's the Relationship Between Churn and Customers' with Dependents\"\n",
    "feature_Q4 = \"dependents\"\n",
    "\n",
    "e.relationship_churn(train, graph_title_Q3, feature_Q4, target)"
   ]
  },
  {
   "cell_type": "code",
   "execution_count": 24,
   "id": "8e6d60c6",
   "metadata": {},
   "outputs": [
    {
     "name": "stdout",
     "output_type": "stream",
     "text": [
      "Reject the null hypothesis: churn and customers' with dependents are independent\n",
      "Sufficient evidence to move forward understanding that, there is a relationship between customers' with dependents and churn\n"
     ]
    },
    {
     "data": {
      "text/plain": [
       "4.0728740930257527e-26"
      ]
     },
     "execution_count": 24,
     "metadata": {},
     "output_type": "execute_result"
    }
   ],
   "source": [
    "alpha = 0.05\n",
    "\n",
    "null_hypothesis_Q4 = \"churn and customers' with dependents are independent\"\n",
    "alternative_hypothesis_Q4 = \"there is a relationship between customers' with dependents and churn\"\n",
    "\n",
    "e.cross_function(train, target, feature_Q4, null_hypothesis_Q4, alternative_hypothesis_Q4)"
   ]
  },
  {
   "cell_type": "markdown",
   "id": "c29f0a94",
   "metadata": {},
   "source": [
    "* positive class:  not churned\n",
    "* negative class:  churned"
   ]
  },
  {
   "cell_type": "markdown",
   "id": "6ce4b4dc",
   "metadata": {},
   "source": [
    "# Decision Tree Model  "
   ]
  },
  {
   "cell_type": "code",
   "execution_count": 16,
   "id": "8f87e4a5",
   "metadata": {},
   "outputs": [
    {
     "data": {
      "text/plain": [
       "0.7346745562130178"
      ]
     },
     "execution_count": 16,
     "metadata": {},
     "output_type": "execute_result"
    }
   ],
   "source": [
    "# creating baseline:  1's = churned & 0's = not churned  baseline accuracy = 0.7346745562130178\n",
    "# positive if not churned\n",
    "baseline_accuracy = (train.churn == 0).mean()\n",
    "baseline_accuracy\n"
   ]
  },
  {
   "cell_type": "code",
   "execution_count": 17,
   "id": "349d52f5",
   "metadata": {},
   "outputs": [],
   "source": [
    "# using a function to get x & y variables for the split dataset\n",
    "x_train, y_train, x_validate, y_validate, x_test, y_test = m.create_x_y(train, validate, test, target)"
   ]
  },
  {
   "cell_type": "code",
   "execution_count": 18,
   "id": "b3767062",
   "metadata": {},
   "outputs": [
    {
     "data": {
      "text/plain": [
       "{'Accuracy of Decision Tree classifier on training set': 0.74,\n",
       " 'Accuracy of Decision Tree classifier on validation set': 0.72}"
      ]
     },
     "execution_count": 18,
     "metadata": {},
     "output_type": "execute_result"
    }
   ],
   "source": [
    "# create object \n",
    "tree = DecisionTreeClassifier(random_state=3)\n",
    "\n",
    "# model.fit(x, y)\n",
    "tree = tree.fit(x_train, y_train)\n",
    "\n",
    "print(f'''\n",
    "Accuracy of Decision Tree classifier on training set: {round(tree.score(x_train, y_train),2)}\n",
    "Accuracy of Decision Tree classifier on validation set: {round(tree.score(x_validate, y_validate),2)}\n",
    "''')"
   ]
  },
  {
   "cell_type": "code",
   "execution_count": 172,
   "id": "b1cb2da9",
   "metadata": {},
   "outputs": [],
   "source": [
    "# make prediction on train obeservations\n",
    "y_pred = tree.predict(x_train)\n",
    "\n",
    "#estimate probablility \n",
    "y_pred_proba = tree.predict_proba(x_train)"
   ]
  },
  {
   "cell_type": "code",
   "execution_count": 124,
   "id": "4334c7c2",
   "metadata": {},
   "outputs": [
    {
     "data": {
      "text/html": [
       "<div>\n",
       "<style scoped>\n",
       "    .dataframe tbody tr th:only-of-type {\n",
       "        vertical-align: middle;\n",
       "    }\n",
       "\n",
       "    .dataframe tbody tr th {\n",
       "        vertical-align: top;\n",
       "    }\n",
       "\n",
       "    .dataframe thead th {\n",
       "        text-align: right;\n",
       "    }\n",
       "</style>\n",
       "<table border=\"1\" class=\"dataframe\">\n",
       "  <thead>\n",
       "    <tr style=\"text-align: right;\">\n",
       "      <th></th>\n",
       "      <th>0_predict</th>\n",
       "      <th>1_predict</th>\n",
       "    </tr>\n",
       "  </thead>\n",
       "  <tbody>\n",
       "    <tr>\n",
       "      <th>0_actual</th>\n",
       "      <td>2724</td>\n",
       "      <td>380</td>\n",
       "    </tr>\n",
       "    <tr>\n",
       "      <th>1_actual</th>\n",
       "      <td>718</td>\n",
       "      <td>403</td>\n",
       "    </tr>\n",
       "  </tbody>\n",
       "</table>\n",
       "</div>"
      ],
      "text/plain": [
       "          0_predict  1_predict\n",
       "0_actual       2724        380\n",
       "1_actual        718        403"
      ]
     },
     "execution_count": 124,
     "metadata": {},
     "output_type": "execute_result"
    }
   ],
   "source": [
    "# create confusion matrix\n",
    "conf = confusion_matrix(y_train, y_pred)\n",
    "\n",
    "# nice dataframe with conf\n",
    "labels = sorted(y_train.unique())\n",
    "pd.DataFrame(conf,\n",
    "            index=[str(label) + '_actual'for label in labels],\n",
    "            columns=[str(label) + '_predict'for label in labels])"
   ]
  },
  {
   "cell_type": "code",
   "execution_count": 139,
   "id": "8df098ce",
   "metadata": {},
   "outputs": [
    {
     "data": {
      "text/plain": [
       "0.7401183431952663"
      ]
     },
     "execution_count": 139,
     "metadata": {},
     "output_type": "execute_result"
    }
   ],
   "source": [
    "# check accuracy \n",
    "accuracy_score(y_train, y_pred)"
   ]
  },
  {
   "cell_type": "markdown",
   "id": "5154bf7d",
   "metadata": {},
   "source": [
    "# Random Forest model"
   ]
  },
  {
   "cell_type": "code",
   "execution_count": 20,
   "id": "0f1446fa",
   "metadata": {},
   "outputs": [
    {
     "name": "stdout",
     "output_type": "stream",
     "text": [
      "[0.11720507 0.15751509 0.31153932 0.41374053]\n"
     ]
    }
   ],
   "source": [
    "# create object\n",
    "rf = RandomForestClassifier(random_state=3)\n",
    "\n",
    "# fit model\n",
    "rf.fit(x_train, y_train)\n",
    "\n",
    "# evaluate feature importance\n",
    "print(rf.feature_importances_)"
   ]
  },
  {
   "cell_type": "code",
   "execution_count": 21,
   "id": "40b508dc",
   "metadata": {},
   "outputs": [],
   "source": [
    "# create prdictions\n",
    "y_pred_rf = rf.predict(x_train)\n",
    "\n",
    "# Estimate the probability\n",
    "y_pred_proba_rf = rf.predict_proba(x_train)\n"
   ]
  },
  {
   "cell_type": "code",
   "execution_count": 22,
   "id": "25300d3f",
   "metadata": {},
   "outputs": [
    {
     "data": {
      "text/html": [
       "<div>\n",
       "<style scoped>\n",
       "    .dataframe tbody tr th:only-of-type {\n",
       "        vertical-align: middle;\n",
       "    }\n",
       "\n",
       "    .dataframe tbody tr th {\n",
       "        vertical-align: top;\n",
       "    }\n",
       "\n",
       "    .dataframe thead th {\n",
       "        text-align: right;\n",
       "    }\n",
       "</style>\n",
       "<table border=\"1\" class=\"dataframe\">\n",
       "  <thead>\n",
       "    <tr style=\"text-align: right;\">\n",
       "      <th></th>\n",
       "      <th>0_predict</th>\n",
       "      <th>1_predict</th>\n",
       "    </tr>\n",
       "  </thead>\n",
       "  <tbody>\n",
       "    <tr>\n",
       "      <th>0_actual</th>\n",
       "      <td>2724</td>\n",
       "      <td>380</td>\n",
       "    </tr>\n",
       "    <tr>\n",
       "      <th>1_actual</th>\n",
       "      <td>718</td>\n",
       "      <td>403</td>\n",
       "    </tr>\n",
       "  </tbody>\n",
       "</table>\n",
       "</div>"
      ],
      "text/plain": [
       "          0_predict  1_predict\n",
       "0_actual       2724        380\n",
       "1_actual        718        403"
      ]
     },
     "execution_count": 22,
     "metadata": {},
     "output_type": "execute_result"
    }
   ],
   "source": [
    "# create confusion matrix\n",
    "conf_rf = confusion_matrix(y_train, y_pred_rf)\n",
    "\n",
    "# nice dataframe with conf\n",
    "labels = sorted(y_train.unique())\n",
    "pd.DataFrame(conf_rf,\n",
    "            index=[str(label) + '_actual'for label in labels],\n",
    "            columns=[str(label) + '_predict'for label in labels])\n"
   ]
  },
  {
   "cell_type": "code",
   "execution_count": 23,
   "id": "b6fe8ef8",
   "metadata": {},
   "outputs": [
    {
     "name": "stdout",
     "output_type": "stream",
     "text": [
      "              precision    recall  f1-score   support\n",
      "\n",
      "           0       0.79      0.88      0.83      3104\n",
      "           1       0.51      0.36      0.42      1121\n",
      "\n",
      "    accuracy                           0.74      4225\n",
      "   macro avg       0.65      0.62      0.63      4225\n",
      "weighted avg       0.72      0.74      0.72      4225\n",
      "\n"
     ]
    }
   ],
   "source": [
    "print(classification_report(y_train, y_pred_rf))"
   ]
  },
  {
   "cell_type": "code",
   "execution_count": 24,
   "id": "64b0cbde",
   "metadata": {},
   "outputs": [
    {
     "name": "stdout",
     "output_type": "stream",
     "text": [
      "\n",
      "    Accuracy of RandomForest classifier on training set: 0.74\n",
      "    Accuracy of RandomForest classifier on validation set: 0.72\n",
      "\n"
     ]
    }
   ],
   "source": [
    "# evaluate model \n",
    "# rf train accuracy score = 0.7401183431952663\n",
    "rf.score(x_train, y_train)\n",
    "\n",
    "# rf  validate accuracy score = 0.7196593328601846\n",
    "rf.score(x_validate, y_validate)\n",
    "\n",
    "print(f'''\n",
    "    Accuracy of RandomForest classifier on training set: {round(rf.score(x_train, y_train),2)}\n",
    "    Accuracy of RandomForest classifier on validation set: {round(rf.score(x_validate, y_validate),2)}\n",
    "''')"
   ]
  },
  {
   "cell_type": "markdown",
   "id": "89f8ecb4",
   "metadata": {},
   "source": [
    "# Linear Regression Model"
   ]
  },
  {
   "cell_type": "code",
   "execution_count": 25,
   "id": "2992a46e",
   "metadata": {},
   "outputs": [
    {
     "data": {
      "text/plain": [
       "LogisticRegression()"
      ]
     },
     "execution_count": 25,
     "metadata": {},
     "output_type": "execute_result"
    }
   ],
   "source": [
    "# create object\n",
    "logit = LogisticRegression()\n",
    "\n",
    "# model fit \n",
    "logit.fit(x_train, y_train)"
   ]
  },
  {
   "cell_type": "code",
   "execution_count": 26,
   "id": "ce6e9bc4",
   "metadata": {},
   "outputs": [
    {
     "name": "stdout",
     "output_type": "stream",
     "text": [
      "Coefficient: \n",
      " [[-0.42184525 -0.55147039  0.90267313 -0.98603615]]\n",
      "Intercept: \n",
      " [-0.90162982]\n"
     ]
    }
   ],
   "source": [
    "# evaluate importance of each feature\n",
    "print('Coefficient: \\n', logit.coef_)\n",
    "print('Intercept: \\n', logit.intercept_)\n"
   ]
  },
  {
   "cell_type": "code",
   "execution_count": 27,
   "id": "d0793358",
   "metadata": {},
   "outputs": [
    {
     "name": "stdout",
     "output_type": "stream",
     "text": [
      "\n",
      "    Accuracy of Logistic Regression classifier on training set: 0.74\n",
      "    Accuracy of Logistic Regression classifier on validation set: 0.72\n",
      "\n",
      "[[2724  380]\n",
      " [ 718  403]]\n"
     ]
    }
   ],
   "source": [
    "# make predictions\n",
    "y_pred_lr = logit.predict(x_train)\n",
    "y_pred_proba_lr = logit.predict_proba(x_train)\n",
    "# compute accuracy\n",
    "print(f'''\n",
    "    Accuracy of Logistic Regression classifier on training set: {round(logit.score(x_train, y_train),2)}\n",
    "    Accuracy of Logistic Regression classifier on validation set: {round(logit.score(x_validate, y_validate),2)}\n",
    "''')\n",
    "\n",
    "print(confusion_matrix(y_train, y_pred_lr))\n"
   ]
  },
  {
   "cell_type": "code",
   "execution_count": 28,
   "id": "735ded42",
   "metadata": {},
   "outputs": [
    {
     "name": "stdout",
     "output_type": "stream",
     "text": [
      "              precision    recall  f1-score   support\n",
      "\n",
      "           0       0.79      0.88      0.83      3104\n",
      "           1       0.51      0.36      0.42      1121\n",
      "\n",
      "    accuracy                           0.74      4225\n",
      "   macro avg       0.65      0.62      0.63      4225\n",
      "weighted avg       0.72      0.74      0.72      4225\n",
      "\n"
     ]
    },
    {
     "data": {
      "text/plain": [
       "array([[0.82294999, 0.17705001],\n",
       "       [0.78975929, 0.21024071],\n",
       "       [0.49973917, 0.50026083],\n",
       "       ...,\n",
       "       [0.49973917, 0.50026083],\n",
       "       [0.71128432, 0.28871568],\n",
       "       [0.71128432, 0.28871568]])"
      ]
     },
     "execution_count": 28,
     "metadata": {},
     "output_type": "execute_result"
    }
   ],
   "source": [
    "# classification report\n",
    "print(classification_report(y_train, y_pred_lr))\n",
    "y_pred_proba_lr"
   ]
  },
  {
   "cell_type": "markdown",
   "id": "c2b6f425",
   "metadata": {},
   "source": [
    "# Test Model "
   ]
  },
  {
   "cell_type": "code",
   "execution_count": 43,
   "id": "956e06af",
   "metadata": {},
   "outputs": [
    {
     "name": "stdout",
     "output_type": "stream",
     "text": [
      "\n",
      "    Accuracy of Logistic Regression classifier on training set: 0.74\n",
      "    Accuracy of Logistic Regression classifier on validation set: 0.72\n",
      "    Accuracy of Logistic Regression classifier on test set: 0.74\n",
      "    \n",
      "\n"
     ]
    }
   ],
   "source": [
    "# Test Model\n",
    "print(f'''\n",
    "    Accuracy of Logistic Regression classifier on training set: {round(logit.score(x_train, y_train),2)}\n",
    "    Accuracy of Logistic Regression classifier on validation set: {round(logit.score(x_validate, y_validate),2)}\n",
    "    Accuracy of Logistic Regression classifier on test set: {round(logit.score(x_test, y_test),2)}\n",
    "    \n",
    "''')\n"
   ]
  }
 ],
 "metadata": {
  "kernelspec": {
   "display_name": "Python 3 (ipykernel)",
   "language": "python",
   "name": "python3"
  },
  "language_info": {
   "codemirror_mode": {
    "name": "ipython",
    "version": 3
   },
   "file_extension": ".py",
   "mimetype": "text/x-python",
   "name": "python",
   "nbconvert_exporter": "python",
   "pygments_lexer": "ipython3",
   "version": "3.9.13"
  }
 },
 "nbformat": 4,
 "nbformat_minor": 5
}
