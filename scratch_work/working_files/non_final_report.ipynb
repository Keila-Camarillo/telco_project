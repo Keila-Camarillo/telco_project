{
 "cells": [
  {
   "cell_type": "code",
   "execution_count": 1,
   "id": "2fa48ceb",
   "metadata": {},
   "outputs": [],
   "source": [
    "import warnings\n",
    "warnings.filterwarnings(\"ignore\")\n",
    "\n",
    "import pandas as pd\n",
    "import numpy as np\n",
    "import matplotlib.pyplot as plt\n",
    "import seaborn as sns\n",
    "from scipy import stats\n",
    "\n",
    "# sklearn imports\n",
    "from sklearn.model_selection import train_test_split\n",
    "from sklearn.metrics import confusion_matrix, classification_report, accuracy_score\n",
    "\n",
    "# tree classifier\n",
    "from sklearn.model_selection import train_test_split\n",
    "from sklearn.tree import DecisionTreeClassifier, plot_tree\n",
    "\n",
    "# rainforest classifier\n",
    "from sklearn.ensemble import RandomForestClassifier\n",
    "\n",
    "# linear regession classifier\n",
    "from sklearn.linear_model import LogisticRegression\n",
    "\n",
    "# KNN classifier\n",
    "from sklearn.neighbors import KNeighborsClassifier\n",
    "\n",
    "import wrangle as w\n",
    "import explore as e \n",
    "import model as m"
   ]
  },
  {
   "cell_type": "code",
   "execution_count": 2,
   "id": "372241fa",
   "metadata": {},
   "outputs": [],
   "source": [
    "# # acquiring, cleaning, and adding features to data\n",
    "df = w.get_telco_data()\n",
    "# df = w.prep_telco()"
   ]
  },
  {
   "cell_type": "code",
   "execution_count": 3,
   "id": "81982e2a",
   "metadata": {},
   "outputs": [],
   "source": [
    "tr, va, tt = w.split_data(df, \"churn\")"
   ]
  },
  {
   "cell_type": "code",
   "execution_count": 4,
   "id": "d9316f8d",
   "metadata": {},
   "outputs": [
    {
     "data": {
      "text/html": [
       "<div>\n",
       "<style scoped>\n",
       "    .dataframe tbody tr th:only-of-type {\n",
       "        vertical-align: middle;\n",
       "    }\n",
       "\n",
       "    .dataframe tbody tr th {\n",
       "        vertical-align: top;\n",
       "    }\n",
       "\n",
       "    .dataframe thead th {\n",
       "        text-align: right;\n",
       "    }\n",
       "</style>\n",
       "<table border=\"1\" class=\"dataframe\">\n",
       "  <thead>\n",
       "    <tr style=\"text-align: right;\">\n",
       "      <th></th>\n",
       "      <th>payment_type_id</th>\n",
       "      <th>internet_service_type_id</th>\n",
       "      <th>customer_id</th>\n",
       "      <th>contract_type_id</th>\n",
       "      <th>gender</th>\n",
       "      <th>senior_citizen</th>\n",
       "      <th>partner</th>\n",
       "      <th>dependents</th>\n",
       "      <th>tenure</th>\n",
       "      <th>phone_service</th>\n",
       "      <th>...</th>\n",
       "      <th>streaming_movies</th>\n",
       "      <th>paperless_billing</th>\n",
       "      <th>monthly_charges</th>\n",
       "      <th>total_charges</th>\n",
       "      <th>churn</th>\n",
       "      <th>contract_type</th>\n",
       "      <th>churn_month</th>\n",
       "      <th>signup_date</th>\n",
       "      <th>internet_service_type</th>\n",
       "      <th>payment_type</th>\n",
       "    </tr>\n",
       "  </thead>\n",
       "  <tbody>\n",
       "    <tr>\n",
       "      <th>3160</th>\n",
       "      <td>2</td>\n",
       "      <td>2</td>\n",
       "      <td>4531-AUZNK</td>\n",
       "      <td>2</td>\n",
       "      <td>Female</td>\n",
       "      <td>0</td>\n",
       "      <td>Yes</td>\n",
       "      <td>Yes</td>\n",
       "      <td>51</td>\n",
       "      <td>Yes</td>\n",
       "      <td>...</td>\n",
       "      <td>No</td>\n",
       "      <td>Yes</td>\n",
       "      <td>95.15</td>\n",
       "      <td>5000.05</td>\n",
       "      <td>No</td>\n",
       "      <td>One year</td>\n",
       "      <td>None</td>\n",
       "      <td>2017-10-21 18:07:34</td>\n",
       "      <td>Fiber optic</td>\n",
       "      <td>Mailed check</td>\n",
       "    </tr>\n",
       "    <tr>\n",
       "      <th>1577</th>\n",
       "      <td>3</td>\n",
       "      <td>1</td>\n",
       "      <td>2296-DKZFP</td>\n",
       "      <td>3</td>\n",
       "      <td>Female</td>\n",
       "      <td>0</td>\n",
       "      <td>Yes</td>\n",
       "      <td>No</td>\n",
       "      <td>65</td>\n",
       "      <td>Yes</td>\n",
       "      <td>...</td>\n",
       "      <td>Yes</td>\n",
       "      <td>No</td>\n",
       "      <td>71.00</td>\n",
       "      <td>4386.2</td>\n",
       "      <td>No</td>\n",
       "      <td>Two year</td>\n",
       "      <td>None</td>\n",
       "      <td>2016-08-21 18:07:34</td>\n",
       "      <td>DSL</td>\n",
       "      <td>Bank transfer (automatic)</td>\n",
       "    </tr>\n",
       "    <tr>\n",
       "      <th>6823</th>\n",
       "      <td>1</td>\n",
       "      <td>2</td>\n",
       "      <td>9692-TUSXH</td>\n",
       "      <td>1</td>\n",
       "      <td>Female</td>\n",
       "      <td>0</td>\n",
       "      <td>No</td>\n",
       "      <td>No</td>\n",
       "      <td>18</td>\n",
       "      <td>Yes</td>\n",
       "      <td>...</td>\n",
       "      <td>Yes</td>\n",
       "      <td>Yes</td>\n",
       "      <td>96.05</td>\n",
       "      <td>1740.7</td>\n",
       "      <td>Yes</td>\n",
       "      <td>Month-to-month</td>\n",
       "      <td>2022-01-31</td>\n",
       "      <td>2020-07-21 18:07:34</td>\n",
       "      <td>Fiber optic</td>\n",
       "      <td>Electronic check</td>\n",
       "    </tr>\n",
       "    <tr>\n",
       "      <th>3615</th>\n",
       "      <td>1</td>\n",
       "      <td>2</td>\n",
       "      <td>5129-JLPIS</td>\n",
       "      <td>1</td>\n",
       "      <td>Male</td>\n",
       "      <td>0</td>\n",
       "      <td>No</td>\n",
       "      <td>No</td>\n",
       "      <td>25</td>\n",
       "      <td>Yes</td>\n",
       "      <td>...</td>\n",
       "      <td>Yes</td>\n",
       "      <td>Yes</td>\n",
       "      <td>105.50</td>\n",
       "      <td>2686.05</td>\n",
       "      <td>No</td>\n",
       "      <td>Month-to-month</td>\n",
       "      <td>None</td>\n",
       "      <td>2019-12-21 18:07:34</td>\n",
       "      <td>Fiber optic</td>\n",
       "      <td>Electronic check</td>\n",
       "    </tr>\n",
       "    <tr>\n",
       "      <th>882</th>\n",
       "      <td>1</td>\n",
       "      <td>2</td>\n",
       "      <td>1273-MTETI</td>\n",
       "      <td>1</td>\n",
       "      <td>Female</td>\n",
       "      <td>1</td>\n",
       "      <td>No</td>\n",
       "      <td>No</td>\n",
       "      <td>4</td>\n",
       "      <td>Yes</td>\n",
       "      <td>...</td>\n",
       "      <td>Yes</td>\n",
       "      <td>Yes</td>\n",
       "      <td>88.85</td>\n",
       "      <td>372.45</td>\n",
       "      <td>Yes</td>\n",
       "      <td>Month-to-month</td>\n",
       "      <td>2022-01-31</td>\n",
       "      <td>2021-09-21 18:07:34</td>\n",
       "      <td>Fiber optic</td>\n",
       "      <td>Electronic check</td>\n",
       "    </tr>\n",
       "    <tr>\n",
       "      <th>...</th>\n",
       "      <td>...</td>\n",
       "      <td>...</td>\n",
       "      <td>...</td>\n",
       "      <td>...</td>\n",
       "      <td>...</td>\n",
       "      <td>...</td>\n",
       "      <td>...</td>\n",
       "      <td>...</td>\n",
       "      <td>...</td>\n",
       "      <td>...</td>\n",
       "      <td>...</td>\n",
       "      <td>...</td>\n",
       "      <td>...</td>\n",
       "      <td>...</td>\n",
       "      <td>...</td>\n",
       "      <td>...</td>\n",
       "      <td>...</td>\n",
       "      <td>...</td>\n",
       "      <td>...</td>\n",
       "      <td>...</td>\n",
       "      <td>...</td>\n",
       "    </tr>\n",
       "    <tr>\n",
       "      <th>1097</th>\n",
       "      <td>1</td>\n",
       "      <td>1</td>\n",
       "      <td>1597-FZREH</td>\n",
       "      <td>1</td>\n",
       "      <td>Female</td>\n",
       "      <td>0</td>\n",
       "      <td>No</td>\n",
       "      <td>No</td>\n",
       "      <td>2</td>\n",
       "      <td>Yes</td>\n",
       "      <td>...</td>\n",
       "      <td>Yes</td>\n",
       "      <td>No</td>\n",
       "      <td>76.40</td>\n",
       "      <td>160.8</td>\n",
       "      <td>Yes</td>\n",
       "      <td>Month-to-month</td>\n",
       "      <td>2022-01-31</td>\n",
       "      <td>2021-11-21 18:07:34</td>\n",
       "      <td>DSL</td>\n",
       "      <td>Electronic check</td>\n",
       "    </tr>\n",
       "    <tr>\n",
       "      <th>6441</th>\n",
       "      <td>2</td>\n",
       "      <td>1</td>\n",
       "      <td>9117-SHLZX</td>\n",
       "      <td>1</td>\n",
       "      <td>Male</td>\n",
       "      <td>0</td>\n",
       "      <td>No</td>\n",
       "      <td>No</td>\n",
       "      <td>1</td>\n",
       "      <td>Yes</td>\n",
       "      <td>...</td>\n",
       "      <td>No</td>\n",
       "      <td>Yes</td>\n",
       "      <td>45.70</td>\n",
       "      <td>45.7</td>\n",
       "      <td>Yes</td>\n",
       "      <td>Month-to-month</td>\n",
       "      <td>2022-01-31</td>\n",
       "      <td>2021-12-21 18:07:34</td>\n",
       "      <td>DSL</td>\n",
       "      <td>Mailed check</td>\n",
       "    </tr>\n",
       "    <tr>\n",
       "      <th>5985</th>\n",
       "      <td>3</td>\n",
       "      <td>3</td>\n",
       "      <td>8441-SHIPE</td>\n",
       "      <td>3</td>\n",
       "      <td>Female</td>\n",
       "      <td>0</td>\n",
       "      <td>No</td>\n",
       "      <td>No</td>\n",
       "      <td>67</td>\n",
       "      <td>Yes</td>\n",
       "      <td>...</td>\n",
       "      <td>No internet service</td>\n",
       "      <td>Yes</td>\n",
       "      <td>25.60</td>\n",
       "      <td>1790.35</td>\n",
       "      <td>No</td>\n",
       "      <td>Two year</td>\n",
       "      <td>None</td>\n",
       "      <td>2016-06-21 18:07:34</td>\n",
       "      <td>None</td>\n",
       "      <td>Bank transfer (automatic)</td>\n",
       "    </tr>\n",
       "    <tr>\n",
       "      <th>2452</th>\n",
       "      <td>4</td>\n",
       "      <td>1</td>\n",
       "      <td>3511-BFTJW</td>\n",
       "      <td>3</td>\n",
       "      <td>Male</td>\n",
       "      <td>0</td>\n",
       "      <td>Yes</td>\n",
       "      <td>Yes</td>\n",
       "      <td>72</td>\n",
       "      <td>No</td>\n",
       "      <td>...</td>\n",
       "      <td>No</td>\n",
       "      <td>No</td>\n",
       "      <td>38.50</td>\n",
       "      <td>2763</td>\n",
       "      <td>No</td>\n",
       "      <td>Two year</td>\n",
       "      <td>None</td>\n",
       "      <td>2016-01-21 18:07:34</td>\n",
       "      <td>DSL</td>\n",
       "      <td>Credit card (automatic)</td>\n",
       "    </tr>\n",
       "    <tr>\n",
       "      <th>983</th>\n",
       "      <td>1</td>\n",
       "      <td>2</td>\n",
       "      <td>1428-GTBJJ</td>\n",
       "      <td>1</td>\n",
       "      <td>Male</td>\n",
       "      <td>0</td>\n",
       "      <td>No</td>\n",
       "      <td>No</td>\n",
       "      <td>11</td>\n",
       "      <td>Yes</td>\n",
       "      <td>...</td>\n",
       "      <td>No</td>\n",
       "      <td>Yes</td>\n",
       "      <td>74.55</td>\n",
       "      <td>824.75</td>\n",
       "      <td>Yes</td>\n",
       "      <td>Month-to-month</td>\n",
       "      <td>2022-01-31</td>\n",
       "      <td>2021-02-21 18:07:34</td>\n",
       "      <td>Fiber optic</td>\n",
       "      <td>Electronic check</td>\n",
       "    </tr>\n",
       "  </tbody>\n",
       "</table>\n",
       "<p>1409 rows × 26 columns</p>\n",
       "</div>"
      ],
      "text/plain": [
       "      payment_type_id  internet_service_type_id customer_id  contract_type_id  \\\n",
       "3160                2                         2  4531-AUZNK                 2   \n",
       "1577                3                         1  2296-DKZFP                 3   \n",
       "6823                1                         2  9692-TUSXH                 1   \n",
       "3615                1                         2  5129-JLPIS                 1   \n",
       "882                 1                         2  1273-MTETI                 1   \n",
       "...               ...                       ...         ...               ...   \n",
       "1097                1                         1  1597-FZREH                 1   \n",
       "6441                2                         1  9117-SHLZX                 1   \n",
       "5985                3                         3  8441-SHIPE                 3   \n",
       "2452                4                         1  3511-BFTJW                 3   \n",
       "983                 1                         2  1428-GTBJJ                 1   \n",
       "\n",
       "      gender  senior_citizen partner dependents  tenure phone_service  ...  \\\n",
       "3160  Female               0     Yes        Yes      51           Yes  ...   \n",
       "1577  Female               0     Yes         No      65           Yes  ...   \n",
       "6823  Female               0      No         No      18           Yes  ...   \n",
       "3615    Male               0      No         No      25           Yes  ...   \n",
       "882   Female               1      No         No       4           Yes  ...   \n",
       "...      ...             ...     ...        ...     ...           ...  ...   \n",
       "1097  Female               0      No         No       2           Yes  ...   \n",
       "6441    Male               0      No         No       1           Yes  ...   \n",
       "5985  Female               0      No         No      67           Yes  ...   \n",
       "2452    Male               0     Yes        Yes      72            No  ...   \n",
       "983     Male               0      No         No      11           Yes  ...   \n",
       "\n",
       "         streaming_movies paperless_billing monthly_charges total_charges  \\\n",
       "3160                   No               Yes           95.15       5000.05   \n",
       "1577                  Yes                No           71.00        4386.2   \n",
       "6823                  Yes               Yes           96.05        1740.7   \n",
       "3615                  Yes               Yes          105.50       2686.05   \n",
       "882                   Yes               Yes           88.85        372.45   \n",
       "...                   ...               ...             ...           ...   \n",
       "1097                  Yes                No           76.40         160.8   \n",
       "6441                   No               Yes           45.70          45.7   \n",
       "5985  No internet service               Yes           25.60       1790.35   \n",
       "2452                   No                No           38.50          2763   \n",
       "983                    No               Yes           74.55        824.75   \n",
       "\n",
       "     churn   contract_type churn_month         signup_date  \\\n",
       "3160    No        One year        None 2017-10-21 18:07:34   \n",
       "1577    No        Two year        None 2016-08-21 18:07:34   \n",
       "6823   Yes  Month-to-month  2022-01-31 2020-07-21 18:07:34   \n",
       "3615    No  Month-to-month        None 2019-12-21 18:07:34   \n",
       "882    Yes  Month-to-month  2022-01-31 2021-09-21 18:07:34   \n",
       "...    ...             ...         ...                 ...   \n",
       "1097   Yes  Month-to-month  2022-01-31 2021-11-21 18:07:34   \n",
       "6441   Yes  Month-to-month  2022-01-31 2021-12-21 18:07:34   \n",
       "5985    No        Two year        None 2016-06-21 18:07:34   \n",
       "2452    No        Two year        None 2016-01-21 18:07:34   \n",
       "983    Yes  Month-to-month  2022-01-31 2021-02-21 18:07:34   \n",
       "\n",
       "      internet_service_type               payment_type  \n",
       "3160            Fiber optic               Mailed check  \n",
       "1577                    DSL  Bank transfer (automatic)  \n",
       "6823            Fiber optic           Electronic check  \n",
       "3615            Fiber optic           Electronic check  \n",
       "882             Fiber optic           Electronic check  \n",
       "...                     ...                        ...  \n",
       "1097                    DSL           Electronic check  \n",
       "6441                    DSL               Mailed check  \n",
       "5985                   None  Bank transfer (automatic)  \n",
       "2452                    DSL    Credit card (automatic)  \n",
       "983             Fiber optic           Electronic check  \n",
       "\n",
       "[1409 rows x 26 columns]"
      ]
     },
     "execution_count": 4,
     "metadata": {},
     "output_type": "execute_result"
    }
   ],
   "source": [
    "tt"
   ]
  },
  {
   "cell_type": "markdown",
   "id": "090d01ae",
   "metadata": {},
   "source": [
    "# Summarize df "
   ]
  },
  {
   "cell_type": "code",
   "execution_count": 5,
   "id": "53c9b151",
   "metadata": {},
   "outputs": [],
   "source": [
    "# df with only selected and tested features\n",
    "df_2 = w.prep_telco()"
   ]
  },
  {
   "cell_type": "code",
   "execution_count": 6,
   "id": "1be62190",
   "metadata": {},
   "outputs": [
    {
     "name": "stdout",
     "output_type": "stream",
     "text": [
      "<class 'pandas.core.frame.DataFrame'>\n",
      "RangeIndex: 7043 entries, 0 to 7042\n",
      "Data columns (total 6 columns):\n",
      " #   Column             Non-Null Count  Dtype\n",
      "---  ------             --------------  -----\n",
      " 0   partner            7043 non-null   uint8\n",
      " 1   dependents         7043 non-null   uint8\n",
      " 2   paperless_billing  7043 non-null   uint8\n",
      " 3   automatic_payment  7043 non-null   int64\n",
      " 4   churn              7043 non-null   uint8\n",
      " 5   gender             7043 non-null   uint8\n",
      "dtypes: int64(1), uint8(5)\n",
      "memory usage: 89.5 KB\n"
     ]
    }
   ],
   "source": [
    "# Get information about df, such as column names, rows, datatypes, non-missing values\n",
    "df_2.info()"
   ]
  },
  {
   "cell_type": "code",
   "execution_count": 7,
   "id": "3ef03c8f",
   "metadata": {},
   "outputs": [
    {
     "data": {
      "text/html": [
       "<div>\n",
       "<style scoped>\n",
       "    .dataframe tbody tr th:only-of-type {\n",
       "        vertical-align: middle;\n",
       "    }\n",
       "\n",
       "    .dataframe tbody tr th {\n",
       "        vertical-align: top;\n",
       "    }\n",
       "\n",
       "    .dataframe thead th {\n",
       "        text-align: right;\n",
       "    }\n",
       "</style>\n",
       "<table border=\"1\" class=\"dataframe\">\n",
       "  <thead>\n",
       "    <tr style=\"text-align: right;\">\n",
       "      <th></th>\n",
       "      <th>count</th>\n",
       "      <th>mean</th>\n",
       "      <th>std</th>\n",
       "      <th>min</th>\n",
       "      <th>25%</th>\n",
       "      <th>50%</th>\n",
       "      <th>75%</th>\n",
       "      <th>max</th>\n",
       "    </tr>\n",
       "  </thead>\n",
       "  <tbody>\n",
       "    <tr>\n",
       "      <th>partner</th>\n",
       "      <td>7043.0</td>\n",
       "      <td>0.483033</td>\n",
       "      <td>0.499748</td>\n",
       "      <td>0.0</td>\n",
       "      <td>0.0</td>\n",
       "      <td>0.0</td>\n",
       "      <td>1.0</td>\n",
       "      <td>1.0</td>\n",
       "    </tr>\n",
       "    <tr>\n",
       "      <th>dependents</th>\n",
       "      <td>7043.0</td>\n",
       "      <td>0.299588</td>\n",
       "      <td>0.458110</td>\n",
       "      <td>0.0</td>\n",
       "      <td>0.0</td>\n",
       "      <td>0.0</td>\n",
       "      <td>1.0</td>\n",
       "      <td>1.0</td>\n",
       "    </tr>\n",
       "    <tr>\n",
       "      <th>paperless_billing</th>\n",
       "      <td>7043.0</td>\n",
       "      <td>0.592219</td>\n",
       "      <td>0.491457</td>\n",
       "      <td>0.0</td>\n",
       "      <td>0.0</td>\n",
       "      <td>1.0</td>\n",
       "      <td>1.0</td>\n",
       "      <td>1.0</td>\n",
       "    </tr>\n",
       "    <tr>\n",
       "      <th>automatic_payment</th>\n",
       "      <td>7043.0</td>\n",
       "      <td>0.435326</td>\n",
       "      <td>0.495835</td>\n",
       "      <td>0.0</td>\n",
       "      <td>0.0</td>\n",
       "      <td>0.0</td>\n",
       "      <td>1.0</td>\n",
       "      <td>1.0</td>\n",
       "    </tr>\n",
       "    <tr>\n",
       "      <th>churn</th>\n",
       "      <td>7043.0</td>\n",
       "      <td>0.265370</td>\n",
       "      <td>0.441561</td>\n",
       "      <td>0.0</td>\n",
       "      <td>0.0</td>\n",
       "      <td>0.0</td>\n",
       "      <td>1.0</td>\n",
       "      <td>1.0</td>\n",
       "    </tr>\n",
       "    <tr>\n",
       "      <th>gender</th>\n",
       "      <td>7043.0</td>\n",
       "      <td>0.504756</td>\n",
       "      <td>0.500013</td>\n",
       "      <td>0.0</td>\n",
       "      <td>0.0</td>\n",
       "      <td>1.0</td>\n",
       "      <td>1.0</td>\n",
       "      <td>1.0</td>\n",
       "    </tr>\n",
       "  </tbody>\n",
       "</table>\n",
       "</div>"
      ],
      "text/plain": [
       "                    count      mean       std  min  25%  50%  75%  max\n",
       "partner            7043.0  0.483033  0.499748  0.0  0.0  0.0  1.0  1.0\n",
       "dependents         7043.0  0.299588  0.458110  0.0  0.0  0.0  1.0  1.0\n",
       "paperless_billing  7043.0  0.592219  0.491457  0.0  0.0  1.0  1.0  1.0\n",
       "automatic_payment  7043.0  0.435326  0.495835  0.0  0.0  0.0  1.0  1.0\n",
       "churn              7043.0  0.265370  0.441561  0.0  0.0  0.0  1.0  1.0\n",
       "gender             7043.0  0.504756  0.500013  0.0  0.0  1.0  1.0  1.0"
      ]
     },
     "execution_count": 7,
     "metadata": {},
     "output_type": "execute_result"
    }
   ],
   "source": [
    "# Get summary statistics for numeric columns.\n",
    "df_2.describe().T"
   ]
  },
  {
   "cell_type": "code",
   "execution_count": 8,
   "id": "f38060d9",
   "metadata": {},
   "outputs": [
    {
     "name": "stdout",
     "output_type": "stream",
     "text": [
      "0002-ORFBO    1\n",
      "6616-AALSR    1\n",
      "6625-UTXEW    1\n",
      "6625-IUTTT    1\n",
      "6625-FLENO    1\n",
      "             ..\n",
      "3352-RICWQ    1\n",
      "3352-ALMCK    1\n",
      "3351-NQLDI    1\n",
      "3351-NGXYI    1\n",
      "9995-HOTOH    1\n",
      "Name: customer_id, Length: 7043, dtype: int64\n",
      "0002-ORFBO    0.000142\n",
      "6616-AALSR    0.000142\n",
      "6625-UTXEW    0.000142\n",
      "6625-IUTTT    0.000142\n",
      "6625-FLENO    0.000142\n",
      "                ...   \n",
      "3352-RICWQ    0.000142\n",
      "3352-ALMCK    0.000142\n",
      "3351-NQLDI    0.000142\n",
      "3351-NGXYI    0.000142\n",
      "9995-HOTOH    0.000142\n",
      "Name: customer_id, Length: 7043, dtype: float64\n",
      "----------------------\n",
      "Male      3555\n",
      "Female    3488\n",
      "Name: gender, dtype: int64\n",
      "Male      0.504756\n",
      "Female    0.495244\n",
      "Name: gender, dtype: float64\n",
      "----------------------\n",
      "No     3641\n",
      "Yes    3402\n",
      "Name: partner, dtype: int64\n",
      "No     0.516967\n",
      "Yes    0.483033\n",
      "Name: partner, dtype: float64\n",
      "----------------------\n",
      "No     4933\n",
      "Yes    2110\n",
      "Name: dependents, dtype: int64\n",
      "No     0.700412\n",
      "Yes    0.299588\n",
      "Name: dependents, dtype: float64\n",
      "----------------------\n",
      "Yes    6361\n",
      "No      682\n",
      "Name: phone_service, dtype: int64\n",
      "Yes    0.903166\n",
      "No     0.096834\n",
      "Name: phone_service, dtype: float64\n",
      "----------------------\n",
      "No                  3390\n",
      "Yes                 2971\n",
      "No phone service     682\n",
      "Name: multiple_lines, dtype: int64\n",
      "No                  0.481329\n",
      "Yes                 0.421837\n",
      "No phone service    0.096834\n",
      "Name: multiple_lines, dtype: float64\n",
      "----------------------\n",
      "No                     3498\n",
      "Yes                    2019\n",
      "No internet service    1526\n",
      "Name: online_security, dtype: int64\n",
      "No                     0.496663\n",
      "Yes                    0.286668\n",
      "No internet service    0.216669\n",
      "Name: online_security, dtype: float64\n",
      "----------------------\n",
      "No                     3088\n",
      "Yes                    2429\n",
      "No internet service    1526\n",
      "Name: online_backup, dtype: int64\n",
      "No                     0.438450\n",
      "Yes                    0.344881\n",
      "No internet service    0.216669\n",
      "Name: online_backup, dtype: float64\n",
      "----------------------\n",
      "No                     3095\n",
      "Yes                    2422\n",
      "No internet service    1526\n",
      "Name: device_protection, dtype: int64\n",
      "No                     0.439443\n",
      "Yes                    0.343888\n",
      "No internet service    0.216669\n",
      "Name: device_protection, dtype: float64\n",
      "----------------------\n",
      "No                     3473\n",
      "Yes                    2044\n",
      "No internet service    1526\n",
      "Name: tech_support, dtype: int64\n",
      "No                     0.493114\n",
      "Yes                    0.290217\n",
      "No internet service    0.216669\n",
      "Name: tech_support, dtype: float64\n",
      "----------------------\n",
      "No                     2810\n",
      "Yes                    2707\n",
      "No internet service    1526\n",
      "Name: streaming_tv, dtype: int64\n",
      "No                     0.398978\n",
      "Yes                    0.384353\n",
      "No internet service    0.216669\n",
      "Name: streaming_tv, dtype: float64\n",
      "----------------------\n",
      "No                     2785\n",
      "Yes                    2732\n",
      "No internet service    1526\n",
      "Name: streaming_movies, dtype: int64\n",
      "No                     0.395428\n",
      "Yes                    0.387903\n",
      "No internet service    0.216669\n",
      "Name: streaming_movies, dtype: float64\n",
      "----------------------\n",
      "Yes    4171\n",
      "No     2872\n",
      "Name: paperless_billing, dtype: int64\n",
      "Yes    0.592219\n",
      "No     0.407781\n",
      "Name: paperless_billing, dtype: float64\n",
      "----------------------\n",
      "           11\n",
      "20.2       11\n",
      "19.75       9\n",
      "19.9        8\n",
      "20.05       8\n",
      "           ..\n",
      "2387.75     1\n",
      "6302.8      1\n",
      "2058.5      1\n",
      "829.55      1\n",
      "3707.6      1\n",
      "Name: total_charges, Length: 6531, dtype: int64\n",
      "           0.001562\n",
      "20.2       0.001562\n",
      "19.75      0.001278\n",
      "19.9       0.001136\n",
      "20.05      0.001136\n",
      "             ...   \n",
      "2387.75    0.000142\n",
      "6302.8     0.000142\n",
      "2058.5     0.000142\n",
      "829.55     0.000142\n",
      "3707.6     0.000142\n",
      "Name: total_charges, Length: 6531, dtype: float64\n",
      "----------------------\n",
      "No     5174\n",
      "Yes    1869\n",
      "Name: churn, dtype: int64\n",
      "No     0.73463\n",
      "Yes    0.26537\n",
      "Name: churn, dtype: float64\n",
      "----------------------\n",
      "Month-to-month    3875\n",
      "Two year          1695\n",
      "One year          1473\n",
      "Name: contract_type, dtype: int64\n",
      "Month-to-month    0.550192\n",
      "Two year          0.240664\n",
      "One year          0.209144\n",
      "Name: contract_type, dtype: float64\n",
      "----------------------\n",
      "2022-01-31    1869\n",
      "Name: churn_month, dtype: int64\n",
      "None          0.73463\n",
      "2022-01-31    0.26537\n",
      "Name: churn_month, dtype: float64\n",
      "----------------------\n",
      "Fiber optic    3096\n",
      "DSL            2421\n",
      "None           1526\n",
      "Name: internet_service_type, dtype: int64\n",
      "Fiber optic    0.439585\n",
      "DSL            0.343746\n",
      "None           0.216669\n",
      "Name: internet_service_type, dtype: float64\n",
      "----------------------\n",
      "Electronic check             2365\n",
      "Mailed check                 1612\n",
      "Bank transfer (automatic)    1544\n",
      "Credit card (automatic)      1522\n",
      "Name: payment_type, dtype: int64\n",
      "Electronic check             0.335794\n",
      "Mailed check                 0.228880\n",
      "Bank transfer (automatic)    0.219225\n",
      "Credit card (automatic)      0.216101\n",
      "Name: payment_type, dtype: float64\n",
      "----------------------\n"
     ]
    }
   ],
   "source": [
    "# Use .describe with object columns.\n",
    "\n",
    "obj_cols = df.columns[[df[col].dtype == 'O' for col in df.columns]]\n",
    "for col in obj_cols:\n",
    "    print(df[col].value_counts())\n",
    "    print(df[col].value_counts(normalize=True, dropna=False))\n",
    "    print('----------------------')\n"
   ]
  },
  {
   "cell_type": "code",
   "execution_count": 9,
   "id": "62a4b68d",
   "metadata": {},
   "outputs": [],
   "source": [
    "# Use .describe with object columns.\n",
    "\n",
    "obj_cols_2 = df_2.columns[[df_2[col].dtype == 'O' for col in df_2.columns]]\n",
    "for col in obj_cols_2:\n",
    "    print(df_2[col].value_counts())\n",
    "    print(df_2[col].value_counts(normalize=True, dropna=False))\n",
    "    print('----------------------')\n"
   ]
  },
  {
   "cell_type": "code",
   "execution_count": 10,
   "id": "6724be69",
   "metadata": {},
   "outputs": [
    {
     "data": {
      "text/plain": [
       "Series([], dtype: int64)"
      ]
     },
     "execution_count": 10,
     "metadata": {},
     "output_type": "execute_result"
    }
   ],
   "source": [
    "# Find columns with nulls and the total of missing values.\n",
    "missing = df_2.isnull().sum()\n",
    "missing[missing > 0]"
   ]
  },
  {
   "cell_type": "markdown",
   "id": "a8672770",
   "metadata": {},
   "source": [
    "# Clean the Data"
   ]
  },
  {
   "cell_type": "code",
   "execution_count": 11,
   "id": "99a74c67",
   "metadata": {},
   "outputs": [
    {
     "data": {
      "text/plain": [
       "(7043, 26)"
      ]
     },
     "execution_count": 11,
     "metadata": {},
     "output_type": "execute_result"
    }
   ],
   "source": [
    "# Drop duplicates, reassign and check the shape of df. *No change to df shape\n",
    "df = df.drop_duplicates()\n",
    "df.shape\n",
    "\n"
   ]
  },
  {
   "cell_type": "code",
   "execution_count": 11,
   "id": "a0541278",
   "metadata": {},
   "outputs": [],
   "source": [
    "# encoding payment type automatic payment equals 1 and non_automatic equals 0\n",
    "df[\"payment_encoded\"] = df.payment_type.map({\"Bank transfer (automatic)\": 1, \"Credit card (automatic)\": 1, \"Mailed check\": 0, \"Electronic check\": 0})"
   ]
  },
  {
   "cell_type": "code",
   "execution_count": 12,
   "id": "93925c94",
   "metadata": {},
   "outputs": [
    {
     "ename": "NameError",
     "evalue": "name 'df1' is not defined",
     "output_type": "error",
     "traceback": [
      "\u001b[0;31m---------------------------------------------------------------------------\u001b[0m",
      "\u001b[0;31mNameError\u001b[0m                                 Traceback (most recent call last)",
      "\u001b[0;32m/var/folders/bf/lhpb5n_j1xj4msxy6nrm9h7h0000gn/T/ipykernel_17910/1927816735.py\u001b[0m in \u001b[0;36m<module>\u001b[0;34m\u001b[0m\n\u001b[1;32m      1\u001b[0m \u001b[0;31m# cleaning column names for easier recall and because it's formal\u001b[0m\u001b[0;34m\u001b[0m\u001b[0;34m\u001b[0m\u001b[0m\n\u001b[0;32m----> 2\u001b[0;31m \u001b[0mdf1\u001b[0m \u001b[0;34m=\u001b[0m \u001b[0mdf1\u001b[0m\u001b[0;34m.\u001b[0m\u001b[0mrename\u001b[0m\u001b[0;34m(\u001b[0m\u001b[0mcolumns\u001b[0m\u001b[0;34m=\u001b[0m\u001b[0;34m{\u001b[0m\u001b[0;34m\"partner_Yes\"\u001b[0m\u001b[0;34m:\u001b[0m \u001b[0;34m\"partner\"\u001b[0m\u001b[0;34m,\u001b[0m \u001b[0;34m\"dependents_Yes\"\u001b[0m\u001b[0;34m:\u001b[0m \u001b[0;34m\"dependents\"\u001b[0m\u001b[0;34m,\u001b[0m \u001b[0;34m\"paperless_billing_Yes\"\u001b[0m\u001b[0;34m:\u001b[0m \u001b[0;34m\"paperless_billing\"\u001b[0m\u001b[0;34m,\u001b[0m \u001b[0;34m\"payment_encoded\"\u001b[0m\u001b[0;34m:\u001b[0m \u001b[0;34m\"automatic_payment\"\u001b[0m\u001b[0;34m,\u001b[0m \u001b[0;34m\"churn_Yes\"\u001b[0m\u001b[0;34m:\u001b[0m \u001b[0;34m\"churn\"\u001b[0m \u001b[0;34m}\u001b[0m\u001b[0;34m)\u001b[0m\u001b[0;34m\u001b[0m\u001b[0;34m\u001b[0m\u001b[0m\n\u001b[0m",
      "\u001b[0;31mNameError\u001b[0m: name 'df1' is not defined"
     ]
    }
   ],
   "source": [
    "# cleaning column names for easier recall and because it's formal\n",
    "df1 = df1.rename(columns={\"partner_Yes\": \"partner\", \"dependents_Yes\": \"dependents\", \"paperless_billing_Yes\": \"paperless_billing\", \"payment_encoded\": \"automatic_payment\", \"churn_Yes\": \"churn\" })"
   ]
  },
  {
   "cell_type": "code",
   "execution_count": null,
   "id": "55f76135",
   "metadata": {},
   "outputs": [],
   "source": [
    "df.payment_encoded.value_counts()"
   ]
  },
  {
   "cell_type": "code",
   "execution_count": null,
   "id": "559df41d",
   "metadata": {},
   "outputs": [],
   "source": [
    "df.payment_type.value_counts()"
   ]
  },
  {
   "cell_type": "code",
   "execution_count": 99,
   "id": "f3262204",
   "metadata": {},
   "outputs": [],
   "source": [
    "df_2 = df_2[[\"partner\", \"dependents\", \"paperless_billing\", \"automatic_payment\", \"churn\"]]"
   ]
  },
  {
   "cell_type": "code",
   "execution_count": 12,
   "id": "0aaa7e8d",
   "metadata": {},
   "outputs": [],
   "source": [
    "def prep_telco(df):\n",
    "    '''\n",
    "    The function will clean the telco dataset.\n",
    "    The function will also return to dataframes:\n",
    "    '''\n",
    "    # encoding payment type automatic payment equals 1 and non_automatic equals 0\n",
    "    df[\"automatic_payment\"] = df[\"payment_type\"].map({\"Bank transfer (automatic)\": 1, \"Credit card (automatic)\": 1, \"Mailed check\": 0, \"Electronic check\": 0})\n",
    "\n",
    "    # create dummies\n",
    "    dummy_df = pd.get_dummies(df[[\"partner\",\n",
    "                                 \"dependents\", \n",
    "                                 \"paperless_billing\", \n",
    "                                 \"churn\",\n",
    "                                 \"gender\"]],\n",
    "                              drop_first=True)\n",
    "    df = pd.concat([df, dummy_df], axis=1)\n",
    "    # rename columns\n",
    "    df = df[[\"customer_id\",\"partner_Yes\", \"dependents_Yes\", \"paperless_billing_Yes\", \"automatic_payment\", \"churn_Yes\", \"gender_Male\"]]\n",
    "    \n",
    "    df = df.rename(columns={\"partner_Yes\": \"partner\", \"dependents_Yes\": \"dependents\", \"paperless_billing_Yes\": \"paperless_billing\", \"churn_Yes\": \"churn\"})\n",
    "    # df for modeling\n",
    "    \n",
    "    return df\n"
   ]
  },
  {
   "cell_type": "code",
   "execution_count": 13,
   "id": "a47e636b",
   "metadata": {},
   "outputs": [
    {
     "data": {
      "text/html": [
       "<div>\n",
       "<style scoped>\n",
       "    .dataframe tbody tr th:only-of-type {\n",
       "        vertical-align: middle;\n",
       "    }\n",
       "\n",
       "    .dataframe tbody tr th {\n",
       "        vertical-align: top;\n",
       "    }\n",
       "\n",
       "    .dataframe thead th {\n",
       "        text-align: right;\n",
       "    }\n",
       "</style>\n",
       "<table border=\"1\" class=\"dataframe\">\n",
       "  <thead>\n",
       "    <tr style=\"text-align: right;\">\n",
       "      <th></th>\n",
       "      <th>partner</th>\n",
       "      <th>dependents</th>\n",
       "      <th>paperless_billing</th>\n",
       "      <th>automatic_payment</th>\n",
       "      <th>churn</th>\n",
       "      <th>gender</th>\n",
       "    </tr>\n",
       "  </thead>\n",
       "  <tbody>\n",
       "    <tr>\n",
       "      <th>0</th>\n",
       "      <td>1</td>\n",
       "      <td>1</td>\n",
       "      <td>1</td>\n",
       "      <td>0</td>\n",
       "      <td>0</td>\n",
       "      <td>0</td>\n",
       "    </tr>\n",
       "    <tr>\n",
       "      <th>1</th>\n",
       "      <td>0</td>\n",
       "      <td>0</td>\n",
       "      <td>0</td>\n",
       "      <td>0</td>\n",
       "      <td>0</td>\n",
       "      <td>1</td>\n",
       "    </tr>\n",
       "    <tr>\n",
       "      <th>2</th>\n",
       "      <td>0</td>\n",
       "      <td>0</td>\n",
       "      <td>1</td>\n",
       "      <td>0</td>\n",
       "      <td>1</td>\n",
       "      <td>1</td>\n",
       "    </tr>\n",
       "    <tr>\n",
       "      <th>3</th>\n",
       "      <td>1</td>\n",
       "      <td>0</td>\n",
       "      <td>1</td>\n",
       "      <td>0</td>\n",
       "      <td>1</td>\n",
       "      <td>1</td>\n",
       "    </tr>\n",
       "    <tr>\n",
       "      <th>4</th>\n",
       "      <td>1</td>\n",
       "      <td>0</td>\n",
       "      <td>1</td>\n",
       "      <td>0</td>\n",
       "      <td>1</td>\n",
       "      <td>0</td>\n",
       "    </tr>\n",
       "    <tr>\n",
       "      <th>...</th>\n",
       "      <td>...</td>\n",
       "      <td>...</td>\n",
       "      <td>...</td>\n",
       "      <td>...</td>\n",
       "      <td>...</td>\n",
       "      <td>...</td>\n",
       "    </tr>\n",
       "    <tr>\n",
       "      <th>7038</th>\n",
       "      <td>0</td>\n",
       "      <td>0</td>\n",
       "      <td>0</td>\n",
       "      <td>0</td>\n",
       "      <td>0</td>\n",
       "      <td>0</td>\n",
       "    </tr>\n",
       "    <tr>\n",
       "      <th>7039</th>\n",
       "      <td>1</td>\n",
       "      <td>0</td>\n",
       "      <td>1</td>\n",
       "      <td>0</td>\n",
       "      <td>1</td>\n",
       "      <td>1</td>\n",
       "    </tr>\n",
       "    <tr>\n",
       "      <th>7040</th>\n",
       "      <td>0</td>\n",
       "      <td>0</td>\n",
       "      <td>1</td>\n",
       "      <td>0</td>\n",
       "      <td>0</td>\n",
       "      <td>1</td>\n",
       "    </tr>\n",
       "    <tr>\n",
       "      <th>7041</th>\n",
       "      <td>1</td>\n",
       "      <td>1</td>\n",
       "      <td>0</td>\n",
       "      <td>0</td>\n",
       "      <td>0</td>\n",
       "      <td>1</td>\n",
       "    </tr>\n",
       "    <tr>\n",
       "      <th>7042</th>\n",
       "      <td>1</td>\n",
       "      <td>1</td>\n",
       "      <td>0</td>\n",
       "      <td>0</td>\n",
       "      <td>0</td>\n",
       "      <td>1</td>\n",
       "    </tr>\n",
       "  </tbody>\n",
       "</table>\n",
       "<p>7043 rows × 6 columns</p>\n",
       "</div>"
      ],
      "text/plain": [
       "      partner  dependents  paperless_billing  automatic_payment  churn  gender\n",
       "0           1           1                  1                  0      0       0\n",
       "1           0           0                  0                  0      0       1\n",
       "2           0           0                  1                  0      1       1\n",
       "3           1           0                  1                  0      1       1\n",
       "4           1           0                  1                  0      1       0\n",
       "...       ...         ...                ...                ...    ...     ...\n",
       "7038        0           0                  0                  0      0       0\n",
       "7039        1           0                  1                  0      1       1\n",
       "7040        0           0                  1                  0      0       1\n",
       "7041        1           1                  0                  0      0       1\n",
       "7042        1           1                  0                  0      0       1\n",
       "\n",
       "[7043 rows x 6 columns]"
      ]
     },
     "execution_count": 13,
     "metadata": {},
     "output_type": "execute_result"
    }
   ],
   "source": [
    "# df = prep_telco(df)\n",
    "df_2"
   ]
  },
  {
   "cell_type": "markdown",
   "id": "22c6ff9f",
   "metadata": {},
   "source": [
    "# Split data "
   ]
  },
  {
   "cell_type": "code",
   "execution_count": 14,
   "id": "cb66c801",
   "metadata": {},
   "outputs": [],
   "source": [
    "target = \"churn\""
   ]
  },
  {
   "cell_type": "code",
   "execution_count": 15,
   "id": "94aee8a8",
   "metadata": {},
   "outputs": [],
   "source": [
    "# original split data\n",
    "train, validate, test = w.split_data(df_2,target)\n"
   ]
  },
  {
   "cell_type": "code",
   "execution_count": 16,
   "id": "beb68caf",
   "metadata": {},
   "outputs": [],
   "source": [
    "test_csv_pred = pd.concat([tt, test], axis=1)"
   ]
  },
  {
   "cell_type": "code",
   "execution_count": 17,
   "id": "919281c0",
   "metadata": {},
   "outputs": [
    {
     "data": {
      "text/html": [
       "<div>\n",
       "<style scoped>\n",
       "    .dataframe tbody tr th:only-of-type {\n",
       "        vertical-align: middle;\n",
       "    }\n",
       "\n",
       "    .dataframe tbody tr th {\n",
       "        vertical-align: top;\n",
       "    }\n",
       "\n",
       "    .dataframe thead th {\n",
       "        text-align: right;\n",
       "    }\n",
       "</style>\n",
       "<table border=\"1\" class=\"dataframe\">\n",
       "  <thead>\n",
       "    <tr style=\"text-align: right;\">\n",
       "      <th></th>\n",
       "      <th>payment_type_id</th>\n",
       "      <th>internet_service_type_id</th>\n",
       "      <th>customer_id</th>\n",
       "      <th>contract_type_id</th>\n",
       "      <th>gender</th>\n",
       "      <th>senior_citizen</th>\n",
       "      <th>partner</th>\n",
       "      <th>dependents</th>\n",
       "      <th>tenure</th>\n",
       "      <th>phone_service</th>\n",
       "      <th>...</th>\n",
       "      <th>churn_month</th>\n",
       "      <th>signup_date</th>\n",
       "      <th>internet_service_type</th>\n",
       "      <th>payment_type</th>\n",
       "      <th>partner</th>\n",
       "      <th>dependents</th>\n",
       "      <th>paperless_billing</th>\n",
       "      <th>automatic_payment</th>\n",
       "      <th>churn</th>\n",
       "      <th>gender</th>\n",
       "    </tr>\n",
       "  </thead>\n",
       "  <tbody>\n",
       "    <tr>\n",
       "      <th>3160</th>\n",
       "      <td>2</td>\n",
       "      <td>2</td>\n",
       "      <td>4531-AUZNK</td>\n",
       "      <td>2</td>\n",
       "      <td>Female</td>\n",
       "      <td>0</td>\n",
       "      <td>Yes</td>\n",
       "      <td>Yes</td>\n",
       "      <td>51</td>\n",
       "      <td>Yes</td>\n",
       "      <td>...</td>\n",
       "      <td>None</td>\n",
       "      <td>2017-10-21 18:07:34</td>\n",
       "      <td>Fiber optic</td>\n",
       "      <td>Mailed check</td>\n",
       "      <td>1</td>\n",
       "      <td>1</td>\n",
       "      <td>1</td>\n",
       "      <td>0</td>\n",
       "      <td>0</td>\n",
       "      <td>0</td>\n",
       "    </tr>\n",
       "    <tr>\n",
       "      <th>1577</th>\n",
       "      <td>3</td>\n",
       "      <td>1</td>\n",
       "      <td>2296-DKZFP</td>\n",
       "      <td>3</td>\n",
       "      <td>Female</td>\n",
       "      <td>0</td>\n",
       "      <td>Yes</td>\n",
       "      <td>No</td>\n",
       "      <td>65</td>\n",
       "      <td>Yes</td>\n",
       "      <td>...</td>\n",
       "      <td>None</td>\n",
       "      <td>2016-08-21 18:07:34</td>\n",
       "      <td>DSL</td>\n",
       "      <td>Bank transfer (automatic)</td>\n",
       "      <td>1</td>\n",
       "      <td>0</td>\n",
       "      <td>0</td>\n",
       "      <td>1</td>\n",
       "      <td>0</td>\n",
       "      <td>0</td>\n",
       "    </tr>\n",
       "    <tr>\n",
       "      <th>6823</th>\n",
       "      <td>1</td>\n",
       "      <td>2</td>\n",
       "      <td>9692-TUSXH</td>\n",
       "      <td>1</td>\n",
       "      <td>Female</td>\n",
       "      <td>0</td>\n",
       "      <td>No</td>\n",
       "      <td>No</td>\n",
       "      <td>18</td>\n",
       "      <td>Yes</td>\n",
       "      <td>...</td>\n",
       "      <td>2022-01-31</td>\n",
       "      <td>2020-07-21 18:07:34</td>\n",
       "      <td>Fiber optic</td>\n",
       "      <td>Electronic check</td>\n",
       "      <td>0</td>\n",
       "      <td>0</td>\n",
       "      <td>1</td>\n",
       "      <td>0</td>\n",
       "      <td>1</td>\n",
       "      <td>0</td>\n",
       "    </tr>\n",
       "    <tr>\n",
       "      <th>3615</th>\n",
       "      <td>1</td>\n",
       "      <td>2</td>\n",
       "      <td>5129-JLPIS</td>\n",
       "      <td>1</td>\n",
       "      <td>Male</td>\n",
       "      <td>0</td>\n",
       "      <td>No</td>\n",
       "      <td>No</td>\n",
       "      <td>25</td>\n",
       "      <td>Yes</td>\n",
       "      <td>...</td>\n",
       "      <td>None</td>\n",
       "      <td>2019-12-21 18:07:34</td>\n",
       "      <td>Fiber optic</td>\n",
       "      <td>Electronic check</td>\n",
       "      <td>0</td>\n",
       "      <td>0</td>\n",
       "      <td>1</td>\n",
       "      <td>0</td>\n",
       "      <td>0</td>\n",
       "      <td>1</td>\n",
       "    </tr>\n",
       "    <tr>\n",
       "      <th>882</th>\n",
       "      <td>1</td>\n",
       "      <td>2</td>\n",
       "      <td>1273-MTETI</td>\n",
       "      <td>1</td>\n",
       "      <td>Female</td>\n",
       "      <td>1</td>\n",
       "      <td>No</td>\n",
       "      <td>No</td>\n",
       "      <td>4</td>\n",
       "      <td>Yes</td>\n",
       "      <td>...</td>\n",
       "      <td>2022-01-31</td>\n",
       "      <td>2021-09-21 18:07:34</td>\n",
       "      <td>Fiber optic</td>\n",
       "      <td>Electronic check</td>\n",
       "      <td>0</td>\n",
       "      <td>0</td>\n",
       "      <td>1</td>\n",
       "      <td>0</td>\n",
       "      <td>1</td>\n",
       "      <td>0</td>\n",
       "    </tr>\n",
       "    <tr>\n",
       "      <th>...</th>\n",
       "      <td>...</td>\n",
       "      <td>...</td>\n",
       "      <td>...</td>\n",
       "      <td>...</td>\n",
       "      <td>...</td>\n",
       "      <td>...</td>\n",
       "      <td>...</td>\n",
       "      <td>...</td>\n",
       "      <td>...</td>\n",
       "      <td>...</td>\n",
       "      <td>...</td>\n",
       "      <td>...</td>\n",
       "      <td>...</td>\n",
       "      <td>...</td>\n",
       "      <td>...</td>\n",
       "      <td>...</td>\n",
       "      <td>...</td>\n",
       "      <td>...</td>\n",
       "      <td>...</td>\n",
       "      <td>...</td>\n",
       "      <td>...</td>\n",
       "    </tr>\n",
       "    <tr>\n",
       "      <th>1097</th>\n",
       "      <td>1</td>\n",
       "      <td>1</td>\n",
       "      <td>1597-FZREH</td>\n",
       "      <td>1</td>\n",
       "      <td>Female</td>\n",
       "      <td>0</td>\n",
       "      <td>No</td>\n",
       "      <td>No</td>\n",
       "      <td>2</td>\n",
       "      <td>Yes</td>\n",
       "      <td>...</td>\n",
       "      <td>2022-01-31</td>\n",
       "      <td>2021-11-21 18:07:34</td>\n",
       "      <td>DSL</td>\n",
       "      <td>Electronic check</td>\n",
       "      <td>0</td>\n",
       "      <td>0</td>\n",
       "      <td>0</td>\n",
       "      <td>0</td>\n",
       "      <td>1</td>\n",
       "      <td>0</td>\n",
       "    </tr>\n",
       "    <tr>\n",
       "      <th>6441</th>\n",
       "      <td>2</td>\n",
       "      <td>1</td>\n",
       "      <td>9117-SHLZX</td>\n",
       "      <td>1</td>\n",
       "      <td>Male</td>\n",
       "      <td>0</td>\n",
       "      <td>No</td>\n",
       "      <td>No</td>\n",
       "      <td>1</td>\n",
       "      <td>Yes</td>\n",
       "      <td>...</td>\n",
       "      <td>2022-01-31</td>\n",
       "      <td>2021-12-21 18:07:34</td>\n",
       "      <td>DSL</td>\n",
       "      <td>Mailed check</td>\n",
       "      <td>0</td>\n",
       "      <td>0</td>\n",
       "      <td>1</td>\n",
       "      <td>0</td>\n",
       "      <td>1</td>\n",
       "      <td>1</td>\n",
       "    </tr>\n",
       "    <tr>\n",
       "      <th>5985</th>\n",
       "      <td>3</td>\n",
       "      <td>3</td>\n",
       "      <td>8441-SHIPE</td>\n",
       "      <td>3</td>\n",
       "      <td>Female</td>\n",
       "      <td>0</td>\n",
       "      <td>No</td>\n",
       "      <td>No</td>\n",
       "      <td>67</td>\n",
       "      <td>Yes</td>\n",
       "      <td>...</td>\n",
       "      <td>None</td>\n",
       "      <td>2016-06-21 18:07:34</td>\n",
       "      <td>None</td>\n",
       "      <td>Bank transfer (automatic)</td>\n",
       "      <td>0</td>\n",
       "      <td>0</td>\n",
       "      <td>1</td>\n",
       "      <td>1</td>\n",
       "      <td>0</td>\n",
       "      <td>0</td>\n",
       "    </tr>\n",
       "    <tr>\n",
       "      <th>2452</th>\n",
       "      <td>4</td>\n",
       "      <td>1</td>\n",
       "      <td>3511-BFTJW</td>\n",
       "      <td>3</td>\n",
       "      <td>Male</td>\n",
       "      <td>0</td>\n",
       "      <td>Yes</td>\n",
       "      <td>Yes</td>\n",
       "      <td>72</td>\n",
       "      <td>No</td>\n",
       "      <td>...</td>\n",
       "      <td>None</td>\n",
       "      <td>2016-01-21 18:07:34</td>\n",
       "      <td>DSL</td>\n",
       "      <td>Credit card (automatic)</td>\n",
       "      <td>1</td>\n",
       "      <td>1</td>\n",
       "      <td>0</td>\n",
       "      <td>1</td>\n",
       "      <td>0</td>\n",
       "      <td>1</td>\n",
       "    </tr>\n",
       "    <tr>\n",
       "      <th>983</th>\n",
       "      <td>1</td>\n",
       "      <td>2</td>\n",
       "      <td>1428-GTBJJ</td>\n",
       "      <td>1</td>\n",
       "      <td>Male</td>\n",
       "      <td>0</td>\n",
       "      <td>No</td>\n",
       "      <td>No</td>\n",
       "      <td>11</td>\n",
       "      <td>Yes</td>\n",
       "      <td>...</td>\n",
       "      <td>2022-01-31</td>\n",
       "      <td>2021-02-21 18:07:34</td>\n",
       "      <td>Fiber optic</td>\n",
       "      <td>Electronic check</td>\n",
       "      <td>0</td>\n",
       "      <td>0</td>\n",
       "      <td>1</td>\n",
       "      <td>0</td>\n",
       "      <td>1</td>\n",
       "      <td>1</td>\n",
       "    </tr>\n",
       "  </tbody>\n",
       "</table>\n",
       "<p>1409 rows × 32 columns</p>\n",
       "</div>"
      ],
      "text/plain": [
       "      payment_type_id  internet_service_type_id customer_id  contract_type_id  \\\n",
       "3160                2                         2  4531-AUZNK                 2   \n",
       "1577                3                         1  2296-DKZFP                 3   \n",
       "6823                1                         2  9692-TUSXH                 1   \n",
       "3615                1                         2  5129-JLPIS                 1   \n",
       "882                 1                         2  1273-MTETI                 1   \n",
       "...               ...                       ...         ...               ...   \n",
       "1097                1                         1  1597-FZREH                 1   \n",
       "6441                2                         1  9117-SHLZX                 1   \n",
       "5985                3                         3  8441-SHIPE                 3   \n",
       "2452                4                         1  3511-BFTJW                 3   \n",
       "983                 1                         2  1428-GTBJJ                 1   \n",
       "\n",
       "      gender  senior_citizen partner dependents  tenure phone_service  ...  \\\n",
       "3160  Female               0     Yes        Yes      51           Yes  ...   \n",
       "1577  Female               0     Yes         No      65           Yes  ...   \n",
       "6823  Female               0      No         No      18           Yes  ...   \n",
       "3615    Male               0      No         No      25           Yes  ...   \n",
       "882   Female               1      No         No       4           Yes  ...   \n",
       "...      ...             ...     ...        ...     ...           ...  ...   \n",
       "1097  Female               0      No         No       2           Yes  ...   \n",
       "6441    Male               0      No         No       1           Yes  ...   \n",
       "5985  Female               0      No         No      67           Yes  ...   \n",
       "2452    Male               0     Yes        Yes      72            No  ...   \n",
       "983     Male               0      No         No      11           Yes  ...   \n",
       "\n",
       "     churn_month         signup_date internet_service_type  \\\n",
       "3160        None 2017-10-21 18:07:34           Fiber optic   \n",
       "1577        None 2016-08-21 18:07:34                   DSL   \n",
       "6823  2022-01-31 2020-07-21 18:07:34           Fiber optic   \n",
       "3615        None 2019-12-21 18:07:34           Fiber optic   \n",
       "882   2022-01-31 2021-09-21 18:07:34           Fiber optic   \n",
       "...          ...                 ...                   ...   \n",
       "1097  2022-01-31 2021-11-21 18:07:34                   DSL   \n",
       "6441  2022-01-31 2021-12-21 18:07:34                   DSL   \n",
       "5985        None 2016-06-21 18:07:34                  None   \n",
       "2452        None 2016-01-21 18:07:34                   DSL   \n",
       "983   2022-01-31 2021-02-21 18:07:34           Fiber optic   \n",
       "\n",
       "                   payment_type partner dependents paperless_billing  \\\n",
       "3160               Mailed check       1          1                 1   \n",
       "1577  Bank transfer (automatic)       1          0                 0   \n",
       "6823           Electronic check       0          0                 1   \n",
       "3615           Electronic check       0          0                 1   \n",
       "882            Electronic check       0          0                 1   \n",
       "...                         ...     ...        ...               ...   \n",
       "1097           Electronic check       0          0                 0   \n",
       "6441               Mailed check       0          0                 1   \n",
       "5985  Bank transfer (automatic)       0          0                 1   \n",
       "2452    Credit card (automatic)       1          1                 0   \n",
       "983            Electronic check       0          0                 1   \n",
       "\n",
       "     automatic_payment  churn gender  \n",
       "3160                 0      0      0  \n",
       "1577                 1      0      0  \n",
       "6823                 0      1      0  \n",
       "3615                 0      0      1  \n",
       "882                  0      1      0  \n",
       "...                ...    ...    ...  \n",
       "1097                 0      1      0  \n",
       "6441                 0      1      1  \n",
       "5985                 1      0      0  \n",
       "2452                 1      0      1  \n",
       "983                  0      1      1  \n",
       "\n",
       "[1409 rows x 32 columns]"
      ]
     },
     "execution_count": 17,
     "metadata": {},
     "output_type": "execute_result"
    }
   ],
   "source": [
    "test_csv_pred"
   ]
  },
  {
   "cell_type": "code",
   "execution_count": 18,
   "id": "71ae05cd",
   "metadata": {},
   "outputs": [],
   "source": [
    "# split\n",
    "train_2, validate_2, test_2 = w.split_data(df_2,target)"
   ]
  },
  {
   "cell_type": "code",
   "execution_count": 19,
   "id": "68adc529",
   "metadata": {},
   "outputs": [],
   "source": [
    "# Validate split.\n",
    "def valid_split(train, validate, test):\n",
    "    print(f'train -> {train.shape}')\n",
    "    print(f'validate -> {validate.shape}')\n",
    "    print(f'test -> {test.shape}')"
   ]
  },
  {
   "cell_type": "code",
   "execution_count": 20,
   "id": "0a8babce",
   "metadata": {},
   "outputs": [
    {
     "name": "stdout",
     "output_type": "stream",
     "text": [
      "train -> (4225, 6)\n",
      "validate -> (1409, 6)\n",
      "test -> (1409, 6)\n"
     ]
    }
   ],
   "source": [
    "valid_split(train, validate, test)"
   ]
  },
  {
   "cell_type": "code",
   "execution_count": 21,
   "id": "af2ed1d2",
   "metadata": {},
   "outputs": [
    {
     "name": "stdout",
     "output_type": "stream",
     "text": [
      "train -> (4225, 6)\n",
      "validate -> (1409, 6)\n",
      "test -> (1409, 6)\n"
     ]
    }
   ],
   "source": [
    "valid_split(train_2, validate_2, test_2)"
   ]
  },
  {
   "cell_type": "code",
   "execution_count": 22,
   "id": "63f8dfce",
   "metadata": {},
   "outputs": [
    {
     "name": "stdout",
     "output_type": "stream",
     "text": [
      "<class 'pandas.core.frame.DataFrame'>\n",
      "Int64Index: 4225 entries, 5911 to 3586\n",
      "Data columns (total 6 columns):\n",
      " #   Column             Non-Null Count  Dtype\n",
      "---  ------             --------------  -----\n",
      " 0   partner            4225 non-null   uint8\n",
      " 1   dependents         4225 non-null   uint8\n",
      " 2   paperless_billing  4225 non-null   uint8\n",
      " 3   automatic_payment  4225 non-null   int64\n",
      " 4   churn              4225 non-null   uint8\n",
      " 5   gender             4225 non-null   uint8\n",
      "dtypes: int64(1), uint8(5)\n",
      "memory usage: 86.6 KB\n"
     ]
    }
   ],
   "source": [
    "train.info()"
   ]
  },
  {
   "cell_type": "code",
   "execution_count": 23,
   "id": "191ba0ac",
   "metadata": {},
   "outputs": [
    {
     "name": "stdout",
     "output_type": "stream",
     "text": [
      "<class 'pandas.core.frame.DataFrame'>\n",
      "Int64Index: 4225 entries, 5911 to 3586\n",
      "Data columns (total 6 columns):\n",
      " #   Column             Non-Null Count  Dtype\n",
      "---  ------             --------------  -----\n",
      " 0   partner            4225 non-null   uint8\n",
      " 1   dependents         4225 non-null   uint8\n",
      " 2   paperless_billing  4225 non-null   uint8\n",
      " 3   automatic_payment  4225 non-null   int64\n",
      " 4   churn              4225 non-null   uint8\n",
      " 5   gender             4225 non-null   uint8\n",
      "dtypes: int64(1), uint8(5)\n",
      "memory usage: 86.6 KB\n"
     ]
    }
   ],
   "source": [
    "train_2.info()"
   ]
  },
  {
   "cell_type": "code",
   "execution_count": 24,
   "id": "3351c11c",
   "metadata": {},
   "outputs": [
    {
     "data": {
      "text/html": [
       "<div>\n",
       "<style scoped>\n",
       "    .dataframe tbody tr th:only-of-type {\n",
       "        vertical-align: middle;\n",
       "    }\n",
       "\n",
       "    .dataframe tbody tr th {\n",
       "        vertical-align: top;\n",
       "    }\n",
       "\n",
       "    .dataframe thead th {\n",
       "        text-align: right;\n",
       "    }\n",
       "</style>\n",
       "<table border=\"1\" class=\"dataframe\">\n",
       "  <thead>\n",
       "    <tr style=\"text-align: right;\">\n",
       "      <th></th>\n",
       "      <th>partner</th>\n",
       "      <th>dependents</th>\n",
       "      <th>paperless_billing</th>\n",
       "      <th>automatic_payment</th>\n",
       "      <th>churn</th>\n",
       "      <th>gender</th>\n",
       "    </tr>\n",
       "  </thead>\n",
       "  <tbody>\n",
       "    <tr>\n",
       "      <th>5911</th>\n",
       "      <td>0</td>\n",
       "      <td>1</td>\n",
       "      <td>1</td>\n",
       "      <td>1</td>\n",
       "      <td>0</td>\n",
       "      <td>1</td>\n",
       "    </tr>\n",
       "    <tr>\n",
       "      <th>2479</th>\n",
       "      <td>1</td>\n",
       "      <td>0</td>\n",
       "      <td>0</td>\n",
       "      <td>0</td>\n",
       "      <td>0</td>\n",
       "      <td>0</td>\n",
       "    </tr>\n",
       "    <tr>\n",
       "      <th>5889</th>\n",
       "      <td>0</td>\n",
       "      <td>0</td>\n",
       "      <td>1</td>\n",
       "      <td>0</td>\n",
       "      <td>1</td>\n",
       "      <td>0</td>\n",
       "    </tr>\n",
       "    <tr>\n",
       "      <th>6087</th>\n",
       "      <td>0</td>\n",
       "      <td>0</td>\n",
       "      <td>1</td>\n",
       "      <td>1</td>\n",
       "      <td>0</td>\n",
       "      <td>1</td>\n",
       "    </tr>\n",
       "    <tr>\n",
       "      <th>785</th>\n",
       "      <td>0</td>\n",
       "      <td>0</td>\n",
       "      <td>0</td>\n",
       "      <td>1</td>\n",
       "      <td>0</td>\n",
       "      <td>0</td>\n",
       "    </tr>\n",
       "  </tbody>\n",
       "</table>\n",
       "</div>"
      ],
      "text/plain": [
       "      partner  dependents  paperless_billing  automatic_payment  churn  gender\n",
       "5911        0           1                  1                  1      0       1\n",
       "2479        1           0                  0                  0      0       0\n",
       "5889        0           0                  1                  0      1       0\n",
       "6087        0           0                  1                  1      0       1\n",
       "785         0           0                  0                  1      0       0"
      ]
     },
     "execution_count": 24,
     "metadata": {},
     "output_type": "execute_result"
    }
   ],
   "source": [
    "train.head()"
   ]
  },
  {
   "cell_type": "markdown",
   "id": "161ac6ff",
   "metadata": {},
   "source": [
    "# How often are customers churning?"
   ]
  },
  {
   "cell_type": "code",
   "execution_count": 25,
   "id": "e204e2a7",
   "metadata": {},
   "outputs": [],
   "source": [
    "y = train.churn.value_counts(normalize=True)\n"
   ]
  },
  {
   "cell_type": "code",
   "execution_count": 26,
   "id": "654bfdb7",
   "metadata": {},
   "outputs": [],
   "source": [
    "def churn_pie():\n",
    "    y = train.churn.value_counts(normalize=True)\n",
    "\n",
    "    mylabels = [\"Did Not Churn\", \"Did Churn\"]\n",
    "\n",
    "    plt.pie(y, labels = mylabels, autopct='%1.1f%%')\n",
    "\n",
    "    plt.show() "
   ]
  },
  {
   "cell_type": "code",
   "execution_count": 27,
   "id": "2a30c66f",
   "metadata": {},
   "outputs": [
    {
     "data": {
      "image/png": "[encoded data removed]",
      "text/plain": [
       "<Figure size 640x480 with 1 Axes>"
      ]
     },
     "metadata": {},
     "output_type": "display_data"
    }
   ],
   "source": [
    "e.churn_pie(train)"
   ]
  },
  {
   "cell_type": "markdown",
   "id": "196f2b28",
   "metadata": {},
   "source": [
    "# QUESTION 1: Do customers that have an automatic payment type more or less likely to churn?\n",
    "\n",
    "* What's the relationship between churn and payment type?"
   ]
  },
  {
   "cell_type": "code",
   "execution_count": 28,
   "id": "9031855b",
   "metadata": {},
   "outputs": [
    {
     "data": {
      "image/png": "[encoded data removed]",
      "text/plain": [
       "<Figure size 640x480 with 1 Axes>"
      ]
     },
     "metadata": {},
     "output_type": "display_data"
    }
   ],
   "source": [
    "plt.title(\"What's the Relationship Between Churn and Automatic Payment Type?\")\n",
    "sns.barplot(x=\"automatic_payment\", y=\"churn\", data=train)\n",
    "population_churn_rate = train.churn.mean()\n",
    "plt.axhline(population_churn_rate, label=\"Population Churn Rate\")\n",
    "plt.legend()\n",
    "plt.show()"
   ]
  },
  {
   "cell_type": "code",
   "execution_count": 29,
   "id": "ff2e2732",
   "metadata": {},
   "outputs": [],
   "source": [
    "# Setup a crosstab of observed survival to pclass\n",
    "def cross_function(train, target_variable, feature_variable, null_hypothesis, alternative_hypothesis):\n",
    "    '''\n",
    "    This function will take the train df, target_variable, and feature_variable\n",
    "    '''\n",
    "    observed = pd.crosstab(train[target_variable], train[feature_variable])\n",
    "\n",
    "    chi2, p, degf, expected = stats.chi2_contingency(observed)\n",
    "\n",
    "    if p < alpha:\n",
    "        print(f\"Reject the null hypothesis: {null_hypothesis}\")\n",
    "        print(f\"Sufficient evidence to move forward understanding that, {alternative_hypothesis}\")\n",
    "    else:\n",
    "        print(\"Fail to reject the null\")\n",
    "        print(\"Insufficient evidence to reject the null\")\n",
    "    return p"
   ]
  },
  {
   "cell_type": "markdown",
   "id": "eb138f9e",
   "metadata": {},
   "source": [
    "Do customers that have an automatic payment type more or less likely to churn?"
   ]
  },
  {
   "cell_type": "code",
   "execution_count": 30,
   "id": "6ccff070",
   "metadata": {},
   "outputs": [],
   "source": [
    "alpha_Q1 = 0.05\n",
    "target_Q1 = \"churn\"\n",
    "feature_variable_Q1 = \"automatic_payment\"\n",
    "null_hypothesis_Q1 = \"churn and automatic payment are independent\"\n",
    "alternative_hypothesis_Q1 = \"there is a relationship between automatic payment and churn\""
   ]
  },
  {
   "cell_type": "markdown",
   "id": "e8dcff9d",
   "metadata": {},
   "source": [
    "# Question 2:  Do customers that have paperless billing more or less likely to churn?\n",
    "* What's the relationship between churn and paperless billing?"
   ]
  },
  {
   "cell_type": "code",
   "execution_count": 31,
   "id": "cc3d220c",
   "metadata": {},
   "outputs": [
    {
     "data": {
      "image/png": "[encoded data removed]",
      "text/plain": [
       "<Figure size 640x480 with 1 Axes>"
      ]
     },
     "metadata": {},
     "output_type": "display_data"
    }
   ],
   "source": [
    "plt.title(\"What's the Relationship Between Churn and paperless billing?\")\n",
    "sns.barplot(x=\"paperless_billing\", y=\"churn\", data=train)\n",
    "population_churn_rate = train.churn.mean()\n",
    "plt.axhline(population_churn_rate, label=\"Population Churn Rate\")\n",
    "plt.legend()\n",
    "plt.show()"
   ]
  },
  {
   "cell_type": "code",
   "execution_count": 32,
   "id": "6483cad2",
   "metadata": {},
   "outputs": [
    {
     "name": "stdout",
     "output_type": "stream",
     "text": [
      "Reject the null hypothesis: churn and paperless_billing are independent\n",
      "Sufficient evidence to move forward understanding that, there is a relationship between paperless_billing and churn\n",
      " chi^2 = 148.58446697144495 p = 3.5348504574964642e-34\n"
     ]
    }
   ],
   "source": [
    "# Chi squared to compare proportions, define confidence\n",
    "alpha_Q2 = 0.05\n",
    "target_Q2 = \"churn\"\n",
    "feature_variable_Q2 = \"paperless_billing\"\n",
    "null_hypothesis_Q2 = \"churn and paperless_billing are independent\"\n",
    "alternative_hypothesis_Q2 = \"there is a relationship between paperless_billing and churn\"\n",
    "\n",
    "e.cross_function(train, target, feature_variable_Q2, null_hypothesis_Q2, alternative_hypothesis_Q2)"
   ]
  },
  {
   "cell_type": "markdown",
   "id": "5a649181",
   "metadata": {},
   "source": [
    "# Question 3: Do customers that have partner more or less likely to churn?\n",
    "* What's the relationship between churn and customers' with partners?"
   ]
  },
  {
   "cell_type": "code",
   "execution_count": 33,
   "id": "3943c018",
   "metadata": {},
   "outputs": [
    {
     "data": {
      "image/png": "[encoded data removed]",
      "text/plain": [
       "<Figure size 640x480 with 1 Axes>"
      ]
     },
     "metadata": {},
     "output_type": "display_data"
    }
   ],
   "source": [
    "plt.title(\"What's the Relationship Between Churn and Customers' with Partners\")\n",
    "sns.barplot(x=\"partner\", y=\"churn\", data=train)\n",
    "population_churn_rate = train.churn.mean()\n",
    "plt.axhline(population_churn_rate, label=\"Population Churn Rate\")\n",
    "plt.legend()\n",
    "plt.show()\n",
    "\n",
    "def relationship_churn(train, graph_title, feature, target):\n",
    "    '''\n",
    "    This function will take the train, graph_title, feature, and target,\n",
    "    and it will display a bargraph based on the information provided for the churn dataset \n",
    "\n",
    "    '''\n",
    "    fig, ax =plt.subplots()\n",
    "    plt.title(graph_title)\n",
    "    sns.barplot(x=feature, y=target, data=train)\n",
    "    population_churn_rate = train.churn.mean()\n",
    "\n",
    "    tick_label = [\"No\", \"Yes\"]\n",
    "    ax.set_xticklabels(tick_label)\n",
    "    # sns.distplot(train)\n",
    "\n",
    "    plt.axhline(population_churn_rate, label=\"Population Churn Rate\")\n",
    "    plt.legend()\n",
    "    plt.show()"
   ]
  },
  {
   "cell_type": "code",
   "execution_count": 34,
   "id": "03bedc38",
   "metadata": {},
   "outputs": [
    {
     "data": {
      "image/png": "[encoded data removed]",
      "text/plain": [
       "<Figure size 640x480 with 1 Axes>"
      ]
     },
     "metadata": {},
     "output_type": "display_data"
    }
   ],
   "source": [
    "relationship_churn(train, \"What's the Relationship Between Churn and Customers' with Partners\", feature_variable_Q2, target)"
   ]
  },
  {
   "cell_type": "code",
   "execution_count": 35,
   "id": "b71dba69",
   "metadata": {},
   "outputs": [
    {
     "name": "stdout",
     "output_type": "stream",
     "text": [
      "Reject the null hypothesis: churn and customers' with partners are independent\n",
      "Sufficient evidence to move forward understanding that, there is a relationship between customers' with partners and churn\n",
      " chi^2 = 106.63124069338238 p = 5.362120825511991e-25\n"
     ]
    }
   ],
   "source": [
    "# Chi squared to compare proportions, define confidence\n",
    "alpha_Q3 = 0.05\n",
    "target_Q3 = \"churn\"\n",
    "feature_variable_Q3 = \"partner\"\n",
    "null_hypothesis_Q3 = \"churn and customers' with partners are independent\"\n",
    "alternative_hypothesis_Q3 = \"there is a relationship between customers' with partners and churn\"\n",
    "\n",
    "e.cross_function(train, target, feature_variable_Q3, null_hypothesis_Q3, alternative_hypothesis_Q3)"
   ]
  },
  {
   "cell_type": "markdown",
   "id": "378d8f2a",
   "metadata": {},
   "source": [
    "# Question 4: Do customers that have dependents more or less likely to churn?\n",
    "* What's the relationship between churn and customers' with dependents?"
   ]
  },
  {
   "cell_type": "code",
   "execution_count": 36,
   "id": "6ea32023",
   "metadata": {},
   "outputs": [
    {
     "data": {
      "image/png": "[encoded data removed]",
      "text/plain": [
       "<Figure size 640x480 with 1 Axes>"
      ]
     },
     "metadata": {},
     "output_type": "display_data"
    }
   ],
   "source": [
    "plt.title(\"What's the Relationship Between Churn and Customers' with Dependents\")\n",
    "sns.barplot(x=\"dependents\", y=\"churn\", data=train)\n",
    "population_churn_rate = train.churn.mean()\n",
    "plt.axhline(population_churn_rate, label=\"Population Churn Rate\")\n",
    "plt.legend()\n",
    "plt.show()"
   ]
  },
  {
   "cell_type": "code",
   "execution_count": 37,
   "id": "83435740",
   "metadata": {},
   "outputs": [
    {
     "name": "stdout",
     "output_type": "stream",
     "text": [
      "Reject the null hypothesis: churn and customers' with dependents are independent\n",
      "Sufficient evidence to move forward understanding that, there is a relationship between customers' with dependents and churn\n",
      " chi^2 = 111.74045071817626 p = 4.0728740930257527e-26\n"
     ]
    }
   ],
   "source": [
    "alpha_Q4 = 0.05\n",
    "target_Q4 = \"churn\"\n",
    "feature_variable_Q4 = \"dependents\"\n",
    "null_hypothesis_Q4 = \"churn and customers' with dependents are independent\"\n",
    "alternative_hypothesis_Q4 = \"there is a relationship between customers' with dependents and churn\"\n",
    "\n",
    "e.cross_function(train, target, feature_variable_Q4, null_hypothesis_Q4, alternative_hypothesis_Q4)"
   ]
  },
  {
   "cell_type": "code",
   "execution_count": 38,
   "id": "4eddebc9",
   "metadata": {},
   "outputs": [],
   "source": [
    "# Question 5: What's the relationship between churn and gender?"
   ]
  },
  {
   "cell_type": "code",
   "execution_count": 39,
   "id": "24c5b8cd",
   "metadata": {},
   "outputs": [
    {
     "data": {
      "image/png": "[encoded data removed]",
      "text/plain": [
       "<Figure size 640x480 with 1 Axes>"
      ]
     },
     "metadata": {},
     "output_type": "display_data"
    }
   ],
   "source": [
    "graph_title_Q5 = \"What's the Relationship Between Churn and Customers' with Dependents\"\n",
    "feature_Q5 = \"gender\"\n",
    "\n",
    "e.relationship_churn(train, graph_title_Q5, feature_Q5, target)"
   ]
  },
  {
   "cell_type": "code",
   "execution_count": 40,
   "id": "63690fad",
   "metadata": {},
   "outputs": [
    {
     "ename": "SyntaxError",
     "evalue": "invalid syntax (3353037692.py, line 1)",
     "output_type": "error",
     "traceback": [
      "\u001b[0;36m  File \u001b[0;32m\"/var/folders/bf/lhpb5n_j1xj4msxy6nrm9h7h0000gn/T/ipykernel_17910/3353037692.py\"\u001b[0;36m, line \u001b[0;32m1\u001b[0m\n\u001b[0;31m    **I will use chi-square to investigate the relationship between churning and gender**\u001b[0m\n\u001b[0m    ^\u001b[0m\n\u001b[0;31mSyntaxError\u001b[0m\u001b[0;31m:\u001b[0m invalid syntax\n"
     ]
    }
   ],
   "source": [
    "**I will use chi-square to investigate the relationship between churning and gender**\n",
    "\n",
    "* I will use a confidence interval of 95%\n",
    "* The alpha is .05\n",
    "\n",
    "\n",
    "* $H_o$: 'Churn' and 'Gender' are independent.\n",
    "* $H_a$: 'Churn' and 'Gender' are related."
   ]
  },
  {
   "cell_type": "code",
   "execution_count": 41,
   "id": "aa6c26eb",
   "metadata": {},
   "outputs": [
    {
     "name": "stdout",
     "output_type": "stream",
     "text": [
      "Fail to reject the null\n",
      "Insufficient evidence to reject the null\n",
      " chi^2 = 0.26001085636614296 p = 0.6101126964282866\n"
     ]
    }
   ],
   "source": [
    "null_hypothesis_Q5 = \"'Churn' and 'Gender' are independent.\"\n",
    "alternative_hypothesis_Q5 = \"'Churn' and 'Gender' are related.\"\n",
    "\n",
    "e.cross_function(train, target, feature_Q5, null_hypothesis_Q5, alternative_hypothesis_Q5)"
   ]
  },
  {
   "cell_type": "markdown",
   "id": "b5d67b01",
   "metadata": {},
   "source": [
    "* positive class:  not churned\n",
    "* negative class:  churned"
   ]
  },
  {
   "cell_type": "markdown",
   "id": "b5f148e1",
   "metadata": {},
   "source": [
    "# Decision Tree Model  "
   ]
  },
  {
   "cell_type": "code",
   "execution_count": 28,
   "id": "55626dcb",
   "metadata": {},
   "outputs": [],
   "source": [
    "def create_x_y(train, validate, test, target):\n",
    "    \"\"\"\n",
    "    This function creates x and y variables for either a decision tree or a random forest, \n",
    "    by using the unsplit df, target variable columns name and column to drop, for multiple columns that need to be \n",
    "    dropped create a list of the columns0\n",
    "    The arguments taken in are train, validate, test, target, drop_col=[])\n",
    "    The function returns x_train, y_train, x_validate, y_validate, x_test, y_test\n",
    "    \"\"\"\n",
    "    # separates train target variable\n",
    "    x_train = train.drop(columns=[target])\n",
    "    y_train = train[target]\n",
    "    # validate \n",
    "    x_validate = validate.drop(columns=[target])\n",
    "    y_validate = validate[target]\n",
    "\n",
    "    # test\n",
    "    x_test = test.drop(columns=[target])\n",
    "    y_test = test[target]\n",
    "    \n",
    "    return x_train, y_train, x_validate, y_validate, x_test, y_test"
   ]
  },
  {
   "cell_type": "code",
   "execution_count": 29,
   "id": "521b9b25",
   "metadata": {},
   "outputs": [],
   "source": [
    "x_train, y_train, x_validate, y_validate, x_test, y_test = create_x_y(train, validate, test, target)\n"
   ]
  },
  {
   "cell_type": "code",
   "execution_count": 30,
   "id": "9d730433",
   "metadata": {},
   "outputs": [
    {
     "data": {
      "text/plain": [
       "0.7346745562130178"
      ]
     },
     "execution_count": 30,
     "metadata": {},
     "output_type": "execute_result"
    }
   ],
   "source": [
    "# creating baseline:  1's = churned & 0's = not churned  baseline accuracy = 0.7346745562130178\n",
    "# positive if not churned\n",
    "baseline_accuracy = (train.churn == 0).mean()\n",
    "baseline_accuracy\n"
   ]
  },
  {
   "cell_type": "code",
   "execution_count": 31,
   "id": "db636e05",
   "metadata": {},
   "outputs": [
    {
     "data": {
      "text/plain": [
       "0.7346745562130178"
      ]
     },
     "execution_count": 31,
     "metadata": {},
     "output_type": "execute_result"
    }
   ],
   "source": [
    "# creating baseline:  1's = churned & 0's = not churned  baseline accuracy = 0.7346745562130178\n",
    "# positive if not churned \n",
    "baseline_accuracy = (train.churn == 0).mean()\n",
    "baseline_accuracy\n"
   ]
  },
  {
   "cell_type": "code",
   "execution_count": 32,
   "id": "46dd33d8",
   "metadata": {},
   "outputs": [],
   "source": [
    "# using a function to get x & y variables for the split dataset\n",
    "drop_gender = [\"partner\", \"dependents\", \"paperless_billing\", \"automatic_payment\", \"churn\"]\n",
    "x_train, y_train, x_validate, y_validate, x_test, y_test = create_x_y(train_2[drop_gender], validate_2[drop_gender], test_2[drop_gender], target)"
   ]
  },
  {
   "cell_type": "code",
   "execution_count": 33,
   "id": "aeb61c4e",
   "metadata": {},
   "outputs": [],
   "source": [
    "# using a function to get x & y variables for the split dataset\n",
    "drop_gender = [\"partner\", \"dependents\", \"paperless_billing\", \"automatic_payment\", \"churn\"]\n",
    "x_train_2, y_train_2, x_validate_2, y_validate_2, x_test_2, y_test_2 = create_x_y(train, validate, test, target)\n"
   ]
  },
  {
   "cell_type": "code",
   "execution_count": 34,
   "id": "6498f46b",
   "metadata": {},
   "outputs": [
    {
     "data": {
      "text/html": [
       "<div>\n",
       "<style scoped>\n",
       "    .dataframe tbody tr th:only-of-type {\n",
       "        vertical-align: middle;\n",
       "    }\n",
       "\n",
       "    .dataframe tbody tr th {\n",
       "        vertical-align: top;\n",
       "    }\n",
       "\n",
       "    .dataframe thead th {\n",
       "        text-align: right;\n",
       "    }\n",
       "</style>\n",
       "<table border=\"1\" class=\"dataframe\">\n",
       "  <thead>\n",
       "    <tr style=\"text-align: right;\">\n",
       "      <th></th>\n",
       "      <th>partner</th>\n",
       "      <th>dependents</th>\n",
       "      <th>paperless_billing</th>\n",
       "      <th>automatic_payment</th>\n",
       "      <th>gender</th>\n",
       "    </tr>\n",
       "  </thead>\n",
       "  <tbody>\n",
       "    <tr>\n",
       "      <th>5911</th>\n",
       "      <td>0</td>\n",
       "      <td>1</td>\n",
       "      <td>1</td>\n",
       "      <td>1</td>\n",
       "      <td>1</td>\n",
       "    </tr>\n",
       "    <tr>\n",
       "      <th>2479</th>\n",
       "      <td>1</td>\n",
       "      <td>0</td>\n",
       "      <td>0</td>\n",
       "      <td>0</td>\n",
       "      <td>0</td>\n",
       "    </tr>\n",
       "    <tr>\n",
       "      <th>5889</th>\n",
       "      <td>0</td>\n",
       "      <td>0</td>\n",
       "      <td>1</td>\n",
       "      <td>0</td>\n",
       "      <td>0</td>\n",
       "    </tr>\n",
       "    <tr>\n",
       "      <th>6087</th>\n",
       "      <td>0</td>\n",
       "      <td>0</td>\n",
       "      <td>1</td>\n",
       "      <td>1</td>\n",
       "      <td>1</td>\n",
       "    </tr>\n",
       "    <tr>\n",
       "      <th>785</th>\n",
       "      <td>0</td>\n",
       "      <td>0</td>\n",
       "      <td>0</td>\n",
       "      <td>1</td>\n",
       "      <td>0</td>\n",
       "    </tr>\n",
       "    <tr>\n",
       "      <th>...</th>\n",
       "      <td>...</td>\n",
       "      <td>...</td>\n",
       "      <td>...</td>\n",
       "      <td>...</td>\n",
       "      <td>...</td>\n",
       "    </tr>\n",
       "    <tr>\n",
       "      <th>6102</th>\n",
       "      <td>1</td>\n",
       "      <td>0</td>\n",
       "      <td>0</td>\n",
       "      <td>1</td>\n",
       "      <td>0</td>\n",
       "    </tr>\n",
       "    <tr>\n",
       "      <th>356</th>\n",
       "      <td>0</td>\n",
       "      <td>0</td>\n",
       "      <td>1</td>\n",
       "      <td>0</td>\n",
       "      <td>0</td>\n",
       "    </tr>\n",
       "    <tr>\n",
       "      <th>1756</th>\n",
       "      <td>0</td>\n",
       "      <td>0</td>\n",
       "      <td>1</td>\n",
       "      <td>0</td>\n",
       "      <td>1</td>\n",
       "    </tr>\n",
       "    <tr>\n",
       "      <th>2127</th>\n",
       "      <td>0</td>\n",
       "      <td>0</td>\n",
       "      <td>0</td>\n",
       "      <td>0</td>\n",
       "      <td>1</td>\n",
       "    </tr>\n",
       "    <tr>\n",
       "      <th>3586</th>\n",
       "      <td>0</td>\n",
       "      <td>0</td>\n",
       "      <td>0</td>\n",
       "      <td>0</td>\n",
       "      <td>0</td>\n",
       "    </tr>\n",
       "  </tbody>\n",
       "</table>\n",
       "<p>4225 rows × 5 columns</p>\n",
       "</div>"
      ],
      "text/plain": [
       "      partner  dependents  paperless_billing  automatic_payment  gender\n",
       "5911        0           1                  1                  1       1\n",
       "2479        1           0                  0                  0       0\n",
       "5889        0           0                  1                  0       0\n",
       "6087        0           0                  1                  1       1\n",
       "785         0           0                  0                  1       0\n",
       "...       ...         ...                ...                ...     ...\n",
       "6102        1           0                  0                  1       0\n",
       "356         0           0                  1                  0       0\n",
       "1756        0           0                  1                  0       1\n",
       "2127        0           0                  0                  0       1\n",
       "3586        0           0                  0                  0       0\n",
       "\n",
       "[4225 rows x 5 columns]"
      ]
     },
     "execution_count": 34,
     "metadata": {},
     "output_type": "execute_result"
    }
   ],
   "source": [
    "# create object \n",
    "tree = DecisionTreeClassifier(random_state=3)\n",
    "\n",
    "# model.fit(x, y)\n",
    "tree = tree.fit(x_train, y_train)\n",
    "x_train_2"
   ]
  },
  {
   "cell_type": "code",
   "execution_count": 55,
   "id": "ac22536e",
   "metadata": {},
   "outputs": [],
   "source": [
    "# create object \n",
    "tree_2 = DecisionTreeClassifier(max_depth=3, random_state=3)\n",
    "\n",
    "# model.fit(x, y)\n",
    "tree_2 = tree_2.fit(x_train, y_train)\n",
    "\n",
    "# score for train = 0.7401183431952663 --- this is greater than the baseline\n",
    "train_accuracy_2 = tree_2.score(x_train, y_train)\n",
    "\n",
    "# score for validate = 0.7196593328601846 --- this is less than the baseline\n",
    "validate_accuracy_2 = tree_2.score(x_validate, y_validate)\n",
    "train_accuracy_2, validate_accuracy_2\n",
    "\n",
    "def dt_accuracy(tree, x_train, y_train, x_validate, y_validate):\n",
    "    '''\n",
    "    This function provides a quick print output of the train and validation scores based on your decision tree, for easy viewing.\n",
    "    The function takes the following arguments: tree, x_train, y_train, x_validate, y_validate\n",
    "    '''\n",
    "    print(f'''\n",
    "\n",
    "    Accuracy of Decision Tree classifier on training set: {round(tree.score(x_train, y_train),2)}\n",
    "    Accuracy of Decision Tree classifier on validation set: {round(tree.score(x_validate, y_validate),2)}\n",
    "    ''')"
   ]
  },
  {
   "cell_type": "code",
   "execution_count": 56,
   "id": "eaa0af0c",
   "metadata": {},
   "outputs": [
    {
     "name": "stdout",
     "output_type": "stream",
     "text": [
      "\n",
      "\n",
      "    Accuracy of Decision Tree classifier on training set: 0.74\n",
      "    Accuracy of Decision Tree classifier on validation set: 0.72\n",
      "    \n"
     ]
    }
   ],
   "source": [
    "dt_accuracy(tree, x_train, y_train, x_validate, y_validate)"
   ]
  },
  {
   "cell_type": "code",
   "execution_count": 57,
   "id": "a5a39277",
   "metadata": {},
   "outputs": [
    {
     "data": {
      "text/html": [
       "<div>\n",
       "<style scoped>\n",
       "    .dataframe tbody tr th:only-of-type {\n",
       "        vertical-align: middle;\n",
       "    }\n",
       "\n",
       "    .dataframe tbody tr th {\n",
       "        vertical-align: top;\n",
       "    }\n",
       "\n",
       "    .dataframe thead th {\n",
       "        text-align: right;\n",
       "    }\n",
       "</style>\n",
       "<table border=\"1\" class=\"dataframe\">\n",
       "  <thead>\n",
       "    <tr style=\"text-align: right;\">\n",
       "      <th></th>\n",
       "      <th>0_predict</th>\n",
       "      <th>1_predict</th>\n",
       "    </tr>\n",
       "  </thead>\n",
       "  <tbody>\n",
       "    <tr>\n",
       "      <th>0_actual</th>\n",
       "      <td>2724</td>\n",
       "      <td>380</td>\n",
       "    </tr>\n",
       "    <tr>\n",
       "      <th>1_actual</th>\n",
       "      <td>718</td>\n",
       "      <td>403</td>\n",
       "    </tr>\n",
       "  </tbody>\n",
       "</table>\n",
       "</div>"
      ],
      "text/plain": [
       "          0_predict  1_predict\n",
       "0_actual       2724        380\n",
       "1_actual        718        403"
      ]
     },
     "execution_count": 57,
     "metadata": {},
     "output_type": "execute_result"
    }
   ],
   "source": [
    "# make prediction on train obeservations\n",
    "y_pred = tree.predict(x_train)\n",
    "\n",
    "#estimate probablility \n",
    "y_pred_proba = tree.predict_proba(x_train)\n",
    "\n",
    "# create confusion matrix\n",
    "conf = confusion_matrix(y_train, y_pred)\n",
    "\n",
    "# nice dataframe with conf\n",
    "labels = sorted(y_train.unique())\n",
    "pd.DataFrame(conf,\n",
    "            index=[str(label) + '_actual'for label in labels],\n",
    "            columns=[str(label) + '_predict'for label in labels])"
   ]
  },
  {
   "cell_type": "code",
   "execution_count": 58,
   "id": "49ea0bfd",
   "metadata": {},
   "outputs": [],
   "source": [
    "def dt_predict(tree, x_train, y_train):    \n",
    "    # make prediction on train obeservations\n",
    "    y_pred = tree.predict(x_train)\n",
    "\n",
    "    #estimate probablility \n",
    "\n",
    "\n",
    "    # create confusion matrix\n",
    "    conf = confusion_matrix(y_train, y_pred)\n",
    "\n",
    "    # nice dataframe with conf\n",
    "    labels = sorted(y_train.unique())\n",
    "    df = pd.DataFrame(conf,\n",
    "                index=[str(label) + '_actual'for label in labels],\n",
    "                columns=[str(label) + '_predict'for label in labels])\n",
    "    return df"
   ]
  },
  {
   "cell_type": "code",
   "execution_count": 59,
   "id": "a48d88e4",
   "metadata": {},
   "outputs": [
    {
     "ename": "NameError",
     "evalue": "name 'tree_3' is not defined",
     "output_type": "error",
     "traceback": [
      "\u001b[0;31m---------------------------------------------------------------------------\u001b[0m",
      "\u001b[0;31mNameError\u001b[0m                                 Traceback (most recent call last)",
      "\u001b[0;32m/var/folders/bf/lhpb5n_j1xj4msxy6nrm9h7h0000gn/T/ipykernel_17910/3464045938.py\u001b[0m in \u001b[0;36m<module>\u001b[0;34m\u001b[0m\n\u001b[0;32m----> 1\u001b[0;31m \u001b[0mdt_predict\u001b[0m\u001b[0;34m(\u001b[0m\u001b[0mtree_3\u001b[0m\u001b[0;34m,\u001b[0m \u001b[0mx_train_2\u001b[0m\u001b[0;34m,\u001b[0m \u001b[0my_train_2\u001b[0m\u001b[0;34m)\u001b[0m\u001b[0;34m\u001b[0m\u001b[0;34m\u001b[0m\u001b[0m\n\u001b[0m",
      "\u001b[0;31mNameError\u001b[0m: name 'tree_3' is not defined"
     ]
    }
   ],
   "source": [
    "dt_predict(tree_3, x_train_2, y_train_2)"
   ]
  },
  {
   "cell_type": "code",
   "execution_count": null,
   "id": "5fd22135",
   "metadata": {},
   "outputs": [],
   "source": [
    "TP, FP, FN, TN = conf.ravel()\n",
    "TP"
   ]
  },
  {
   "cell_type": "code",
   "execution_count": null,
   "id": "1b67d7f1",
   "metadata": {},
   "outputs": [],
   "source": [
    "# check accuracy \n",
    "accuracy_score(y_train, y_pred)"
   ]
  },
  {
   "cell_type": "code",
   "execution_count": null,
   "id": "43841ede",
   "metadata": {},
   "outputs": [],
   "source": [
    "\n",
    "scores_all = []\n",
    "\n",
    "for x in range(1,20):\n",
    "\n",
    "    tree = DecisionTreeClassifier(max_depth=x)\n",
    "    tree.fit(x_train, y_train)\n",
    "    train_acc = tree.score(x_train, y_train)\n",
    "    \n",
    "    #evaluate on validate\n",
    "    val_acc = tree.score(x_validate, y_validate)\n",
    "    \n",
    "    scores_all.append([x, train_acc, val_acc])"
   ]
  },
  {
   "cell_type": "code",
   "execution_count": null,
   "id": "79f84f87",
   "metadata": {},
   "outputs": [],
   "source": [
    "scores_all\n"
   ]
  },
  {
   "cell_type": "code",
   "execution_count": null,
   "id": "a80187e4",
   "metadata": {},
   "outputs": [],
   "source": [
    "def tree_depth(scores):\n",
    "    plt.figure(figsize=(12,6))\n",
    "    plt.plot(scores.max_depth, scores.train_acc, label='train', marker='o')\n",
    "    plt.plot(scores.max_depth, scores.val_acc, label='validation', marker='o')\n",
    "    plt.xlabel('max depth')\n",
    "    plt.ylabel('accuracy')\n",
    "    plt.title('how does the accuracy change with max depth on train and validate?')\n",
    "    plt.legend()\n",
    "    plt.show()"
   ]
  },
  {
   "cell_type": "code",
   "execution_count": null,
   "id": "877eb6b8",
   "metadata": {},
   "outputs": [],
   "source": [
    "def depth_check(x_train, y_train, x_validate, y_validate):\n",
    "    scores_all = []\n",
    "    for x in range(1,20):\n",
    "\n",
    "        tree = DecisionTreeClassifier(max_depth=x, random_state=3)\n",
    "        tree.fit(x_train, y_train)\n",
    "        train_acc = tree.score(x_train, y_train)\n",
    "\n",
    "        #evaluate on validate\n",
    "        val_acc = tree.score(x_validate, y_validate)\n",
    "\n",
    "        scores_all.append([round(x, 6), round(train_acc, 6), round(val_acc, 6)])\n",
    "        \n",
    "    scores = pd.DataFrame(scores_all, columns=['max_depth','train_acc','val_acc'])\n",
    "    \n",
    "    scores['diff'] = round(scores.train_acc - scores.val_acc, 6)\n",
    "    return scores\n",
    "    \n",
    "    \n",
    "    \n",
    "    "
   ]
  },
  {
   "cell_type": "code",
   "execution_count": null,
   "id": "8ca0724c",
   "metadata": {},
   "outputs": [],
   "source": [
    "def dt_depth_graph(x_train, y_train, x_validate, y_validate):\n",
    "    '''\n",
    "    This function takes in: x_train, y_train, x_validate, y_validate\n",
    "    Which then runs through a range of (1,20) to help determine the best parameter for max_depth.\n",
    "    It outputs a visual graph and a table with the accuracy results and difference in score for better viewing. \n",
    "    '''\n",
    "\n",
    "    # create scoring table\n",
    "    scores = depth_check(x_train, y_train, x_validate, y_validate)\n",
    "\n",
    "\n",
    "    # creating graph\n",
    "    fig = plt.figure(figsize=(15,8))\n",
    "    fig.suptitle('how does the accuracy change with max depth on train and validate?')\n",
    "    \n",
    "    ax1 = fig.add_subplot(121)\n",
    "    \n",
    "\n",
    "    ax1.plot(scores.max_depth, scores.train_acc, label='train', marker='o')\n",
    "    ax1.plot(scores.max_depth, scores.val_acc, label='validation', marker='o')\n",
    "\n",
    "    ax1.legend()\n",
    "\n",
    "#     Create visual table\n",
    "    ax2 = fig.add_subplot(122)\n",
    "    font_size=9\n",
    "    bbox=[0, 0, 1, 1]\n",
    "    ax2.axis('off')\n",
    "    mpl_table = ax2.table(cellText = scores.values, rowLabels = scores.index, bbox=bbox, colLabels=scores.columns)\n",
    "    mpl_table.auto_set_font_size(False)\n",
    "    mpl_table.set_fontsize(font_size)\n",
    "    "
   ]
  },
  {
   "cell_type": "code",
   "execution_count": null,
   "id": "80f18407",
   "metadata": {},
   "outputs": [],
   "source": [
    "m.dt_depth_graph(x_train, y_train, x_validate, y_validate)"
   ]
  },
  {
   "cell_type": "code",
   "execution_count": null,
   "id": "366485ce",
   "metadata": {},
   "outputs": [],
   "source": [
    "scores = depth_check(x_train, y_train, x_validate, y_validate)\n",
    "scores\n"
   ]
  },
  {
   "cell_type": "code",
   "execution_count": null,
   "id": "f94426fd",
   "metadata": {},
   "outputs": [],
   "source": [
    "tree_depth(scores)"
   ]
  },
  {
   "cell_type": "code",
   "execution_count": null,
   "id": "ac39bc9a",
   "metadata": {},
   "outputs": [],
   "source": [
    "scores_2 = depth_check(x_train_2, y_train_2, x_validate_2, y_validate_2)"
   ]
  },
  {
   "cell_type": "code",
   "execution_count": null,
   "id": "fa93f802",
   "metadata": {},
   "outputs": [],
   "source": [
    "scores_2"
   ]
  },
  {
   "cell_type": "code",
   "execution_count": null,
   "id": "a7bad7e9",
   "metadata": {},
   "outputs": [],
   "source": [
    "tree_depth(scores_2)"
   ]
  },
  {
   "cell_type": "code",
   "execution_count": null,
   "id": "051b00e4",
   "metadata": {},
   "outputs": [],
   "source": [
    "# Changed max_depth to 3 because of prior results\n",
    "tree_2 = DecisionTreeClassifier(max_depth=3, random_state=3)\n",
    "\n",
    "# model.fit(x, y)\n",
    "tree_2 = tree_2.fit(x_train, y_train)\n",
    "\n",
    "# score for train = 0.7401183431952663 --- this is greater than the baseline\n",
    "train_accuracy_2 = tree_2.score(x_train, y_train)\n",
    "\n",
    "# score for validate = 0.7196593328601846 --- this is less than the baseline\n",
    "validate_accuracy_2 = tree_2.score(x_validate, y_validate)\n",
    "train_accuracy_2, validate_accuracy_2\n",
    "\n",
    "print(f'''\n",
    "\n",
    "Accuracy of Decision Tree classifier on training set: {round(tree_2.score(x_train, y_train),2)}\n",
    "Accuracy of Decision Tree classifier on validation set: {round(tree_2.score(x_validate, y_validate),2)}\n",
    "''')"
   ]
  },
  {
   "cell_type": "code",
   "execution_count": null,
   "id": "d749cb96",
   "metadata": {},
   "outputs": [],
   "source": [
    "# Changed max_depth to 3 because of prior results\n",
    "tree_3 = DecisionTreeClassifier(max_depth=5, random_state=3)\n",
    "\n",
    "# model.fit(x, y)\n",
    "tree_3 = tree_3.fit(x_train_2, y_train_2)\n",
    "\n",
    "# score for train = 0.7401183431952663 --- this is greater than the baseline\n",
    "train_accuracy_3 = tree_3.score(x_train_2, y_train_2)\n",
    "\n",
    "# score for validate = 0.7196593328601846 --- this is less than the baseline\n",
    "validate_accuracy_3 = tree_3.score(x_validate_2, y_validate_2)\n",
    "\n",
    "\n",
    "print(f'''\n",
    "\n",
    "Accuracy of Decision Tree classifier on training set: {round(tree_3.score(x_train_2, y_train_2),2)}\n",
    "Accuracy of Decision Tree classifier on validation set: {round(tree_3.score(x_validate_2, y_validate_2),2)}\n",
    "''')"
   ]
  },
  {
   "cell_type": "code",
   "execution_count": null,
   "id": "24bfb203",
   "metadata": {},
   "outputs": [],
   "source": [
    "def best_tree(x_train, y_train, x_validate, y_validate):\n",
    "    tree = DecisionTreeClassifier(max_depth=3, random_state=3)\n",
    "\n",
    "    # model.fit(x, y)\n",
    "    tree = tree.fit(x_train, y_train)\n",
    "\n",
    "    # score for train\n",
    "    train_accuracy = tree.score(x_train, y_train)\n",
    "\n",
    "    # score for validate\n",
    "    validate_accuracy = tree.score(x_validate, y_validate)\n",
    "\n",
    "\n",
    "    print(f'''\n",
    "\n",
    "    Accuracy of Decision Tree classifier on training set: {round(tree.score(x_train, y_train),3)}\n",
    "    Accuracy of Decision Tree classifier on validation set: {round(tree.score(x_validate, y_validate),3)}\n",
    "    ''')"
   ]
  },
  {
   "cell_type": "markdown",
   "id": "61055ad3",
   "metadata": {},
   "source": [
    "# Random Forest model"
   ]
  },
  {
   "cell_type": "code",
   "execution_count": 35,
   "id": "ace97bfb",
   "metadata": {},
   "outputs": [
    {
     "ename": "NameError",
     "evalue": "name 'best_tree' is not defined",
     "output_type": "error",
     "traceback": [
      "\u001b[0;31m---------------------------------------------------------------------------\u001b[0m",
      "\u001b[0;31mNameError\u001b[0m                                 Traceback (most recent call last)",
      "\u001b[0;32m/var/folders/bf/lhpb5n_j1xj4msxy6nrm9h7h0000gn/T/ipykernel_18538/3890785085.py\u001b[0m in \u001b[0;36m<module>\u001b[0;34m\u001b[0m\n\u001b[0;32m----> 1\u001b[0;31m \u001b[0mbest_tree\u001b[0m\u001b[0;34m(\u001b[0m\u001b[0mx_train\u001b[0m\u001b[0;34m,\u001b[0m \u001b[0my_train\u001b[0m\u001b[0;34m,\u001b[0m \u001b[0mx_validate\u001b[0m\u001b[0;34m,\u001b[0m \u001b[0my_validate\u001b[0m\u001b[0;34m)\u001b[0m\u001b[0;34m\u001b[0m\u001b[0;34m\u001b[0m\u001b[0m\n\u001b[0m",
      "\u001b[0;31mNameError\u001b[0m: name 'best_tree' is not defined"
     ]
    }
   ],
   "source": [
    "m.best_tree(x_train, y_train, x_validate, y_validate)"
   ]
  },
  {
   "cell_type": "code",
   "execution_count": 36,
   "id": "39117b49",
   "metadata": {},
   "outputs": [
    {
     "name": "stdout",
     "output_type": "stream",
     "text": [
      "[0.11720507 0.15751509 0.31153932 0.41374053]\n"
     ]
    }
   ],
   "source": [
    "# create object\n",
    "rf = RandomForestClassifier(random_state=3)\n",
    "\n",
    "# fit model\n",
    "rf.fit(x_train, y_train)\n",
    "\n",
    "# evaluate feature importance\n",
    "print(rf.feature_importances_)"
   ]
  },
  {
   "cell_type": "code",
   "execution_count": 37,
   "id": "bdea707b",
   "metadata": {},
   "outputs": [],
   "source": [
    "# create prdictions\n",
    "y_pred_rf = rf.predict(x_train)\n",
    "\n",
    "# Estimate the probability\n",
    "y_pred_proba_rf = rf.predict_proba(x_train)\n"
   ]
  },
  {
   "cell_type": "code",
   "execution_count": 38,
   "id": "9e064037",
   "metadata": {},
   "outputs": [
    {
     "data": {
      "text/html": [
       "<div>\n",
       "<style scoped>\n",
       "    .dataframe tbody tr th:only-of-type {\n",
       "        vertical-align: middle;\n",
       "    }\n",
       "\n",
       "    .dataframe tbody tr th {\n",
       "        vertical-align: top;\n",
       "    }\n",
       "\n",
       "    .dataframe thead th {\n",
       "        text-align: right;\n",
       "    }\n",
       "</style>\n",
       "<table border=\"1\" class=\"dataframe\">\n",
       "  <thead>\n",
       "    <tr style=\"text-align: right;\">\n",
       "      <th></th>\n",
       "      <th>0_predict</th>\n",
       "      <th>1_predict</th>\n",
       "    </tr>\n",
       "  </thead>\n",
       "  <tbody>\n",
       "    <tr>\n",
       "      <th>0_actual</th>\n",
       "      <td>2724</td>\n",
       "      <td>380</td>\n",
       "    </tr>\n",
       "    <tr>\n",
       "      <th>1_actual</th>\n",
       "      <td>718</td>\n",
       "      <td>403</td>\n",
       "    </tr>\n",
       "  </tbody>\n",
       "</table>\n",
       "</div>"
      ],
      "text/plain": [
       "          0_predict  1_predict\n",
       "0_actual       2724        380\n",
       "1_actual        718        403"
      ]
     },
     "execution_count": 38,
     "metadata": {},
     "output_type": "execute_result"
    }
   ],
   "source": [
    "# create confusion matrix\n",
    "conf_rf = confusion_matrix(y_train, y_pred_rf)\n",
    "\n",
    "# nice dataframe with conf\n",
    "labels = sorted(y_train.unique())\n",
    "pd.DataFrame(conf_rf,\n",
    "            index=[str(label) + '_actual'for label in labels],\n",
    "            columns=[str(label) + '_predict'for label in labels])\n"
   ]
  },
  {
   "cell_type": "code",
   "execution_count": null,
   "id": "a1ab0b3d",
   "metadata": {},
   "outputs": [],
   "source": [
    "print(classification_report(y_train, y_pred_rf))"
   ]
  },
  {
   "cell_type": "code",
   "execution_count": null,
   "id": "8223c9da",
   "metadata": {},
   "outputs": [],
   "source": [
    "# evaluate model \n",
    "# rf train accuracy score = 0.7401183431952663\n",
    "rf.score(x_train, y_train)\n",
    "\n",
    "# rf  validate accuracy score = 0.7196593328601846\n",
    "rf.score(x_validate, y_validate)"
   ]
  },
  {
   "cell_type": "code",
   "execution_count": null,
   "id": "34bef434",
   "metadata": {},
   "outputs": [],
   "source": [
    "x_train"
   ]
  },
  {
   "cell_type": "code",
   "execution_count": null,
   "id": "7a9de581",
   "metadata": {},
   "outputs": [],
   "source": [
    "def leaf_check(x_train, y_train, x_validate, y_validate):\n",
    "    scores_all = []\n",
    "\n",
    "    for x in range(1,11):\n",
    "\n",
    "        #make it\n",
    "        rf = RandomForestClassifier(random_state=3, min_samples_leaf=x, max_depth=11-x)\n",
    "        #fit it\n",
    "        rf.fit(x_train, y_train)\n",
    "        #transform it\n",
    "        train_acc = rf.score(x_train, y_train)\n",
    "\n",
    "        #evaluate on my validate data\n",
    "        val_acc = rf.score(x_validate, y_validate)\n",
    "\n",
    "        scores_all.append([x, 11-x, round(train_acc, 4), round(val_acc, 4)])\n",
    "\n",
    "    scores_df = pd.DataFrame(scores_all, columns=['min_samples_leaf','max_depth','train_acc','val_acc'])\n",
    "    scores_df['difference'] = round(scores_df.train_acc - scores_df.val_acc, 3)\n",
    "    return scores_df\n",
    "\n",
    "        \n",
    "    "
   ]
  },
  {
   "cell_type": "code",
   "execution_count": null,
   "id": "8e5ac475",
   "metadata": {},
   "outputs": [],
   "source": [
    "def leaf_check2(x_train, y_train, x_validate, y_validate):\n",
    "    scores_all = []\n",
    "\n",
    "    for x in range(1,11):\n",
    "\n",
    "        #make it\n",
    "        rf = RandomForestClassifier(random_state=3, max_depth=x)\n",
    "        #fit it\n",
    "        rf.fit(x_train, y_train)\n",
    "        #transform it\n",
    "        train_acc = rf.score(x_train, y_train)\n",
    "\n",
    "        #evaluate on my validate data\n",
    "        val_acc = rf.score(x_validate, y_validate)\n",
    "\n",
    "        scores_all.append([x, round(train_acc, 4), round(val_acc, 4)])\n",
    "\n",
    "    scores_df = pd.DataFrame(scores_all, columns=['min_samples_leaf','train_acc','val_acc'])\n",
    "    scores_df['difference'] = round(scores_df.train_acc - scores_df.val_acc, 3)\n",
    "    return scores_df"
   ]
  },
  {
   "cell_type": "code",
   "execution_count": null,
   "id": "d1e2331d",
   "metadata": {
    "scrolled": true
   },
   "outputs": [],
   "source": [
    "leaf_check(x_train, y_train, x_validate, y_validate)"
   ]
  },
  {
   "cell_type": "code",
   "execution_count": null,
   "id": "7fbaaf4c",
   "metadata": {},
   "outputs": [],
   "source": [
    "def rf_graph(scores_df):\n",
    "    plt.figure(figsize=(12,6))\n",
    "    plt.plot(scores_df.max_depth, scores_df.train_acc, label='train', marker='o')\n",
    "    plt.plot(scores_df.max_depth, scores_df.val_acc, label='validation', marker='o')\n",
    "    plt.xlabel('max depth and min leaf sample')\n",
    "    plt.ylabel('accuracy')\n",
    "\n",
    "    plt.xticks([2,4,6,8,10],\n",
    "              [('2 and 9'),('4 and 7'),('6 and 5'),('8 and 4'),('10 and 2')]\n",
    "              )\n",
    "\n",
    "    plt.title('how does the accuracy change with max depth on train and validate?')\n",
    "    plt.legend()\n",
    "    plt.show()"
   ]
  },
  {
   "cell_type": "code",
   "execution_count": null,
   "id": "ae86a5c1",
   "metadata": {},
   "outputs": [],
   "source": [
    "def rf_leaf_graph(x_train, y_train, x_validate, y_validate):\n",
    "    '''\n",
    "    This function takes in: x_train, y_train, x_validate, y_validate\n",
    "    Which then runs through a range of (1,11)-min_samples_leaf and descending (1,11) for max_depth to help determine the best parameters\n",
    "    It outputs a visual graph and a table with the accuracy results and difference in score for better viewing. \n",
    "    '''\n",
    "\n",
    "    # create scoring table\n",
    "    scores = leaf_check(x_train, y_train, x_validate, y_validate)\n",
    "\n",
    "\n",
    "    # creating graph\n",
    "    fig = plt.figure(figsize=(15,8))\n",
    "    fig.suptitle('how does the accuracy change with (min_samples_leaf asc. 1,11) and (max depth desc. 1,11) on train and validate?')\n",
    "    \n",
    "    ax1 = fig.add_subplot(121)\n",
    "    \n",
    "\n",
    "    ax1.plot(scores.max_depth, scores.train_acc, label='train', marker='o')\n",
    "    ax1.plot(scores.max_depth, scores.val_acc, label='validation', marker='o')\n",
    "    ax1.set_xlabel('max depth and min leaf sample')\n",
    "    ax1.set_ylabel('accuracy')\n",
    "    ax1.legend()\n",
    "\n",
    "#     Create visual table\n",
    "    ax2 = fig.add_subplot(122)\n",
    "    font_size=9\n",
    "#     bbox=[0, 0, 1, 1]\n",
    "    ax2.axis('off')\n",
    "    mpl_table = ax2.table(cellText = scores.values, rowLabels = scores.index, bbox=bbox, colLabels=scores.columns)\n",
    "    mpl_table.auto_set_font_size(False)\n",
    "    mpl_table.set_fontsize(font_size)\n"
   ]
  },
  {
   "cell_type": "code",
   "execution_count": null,
   "id": "c8cfdc97",
   "metadata": {},
   "outputs": [],
   "source": [
    "scores_3 = leaf_check(x_train_2, y_train_2, x_validate_2, y_validate_2)\n",
    "scores_3\n"
   ]
  },
  {
   "cell_type": "code",
   "execution_count": null,
   "id": "4e40e91d",
   "metadata": {},
   "outputs": [],
   "source": [
    "scores_f = leaf_check2(x_train, y_train, x_validate, y_validate)\n",
    "scores_f"
   ]
  },
  {
   "cell_type": "code",
   "execution_count": null,
   "id": "ae42b8eb",
   "metadata": {},
   "outputs": [],
   "source": [
    "rf_graph(scores_3)"
   ]
  },
  {
   "cell_type": "code",
   "execution_count": null,
   "id": "8069e236",
   "metadata": {},
   "outputs": [],
   "source": [
    "# Changed max_depth to 3 because of prior results\n",
    "rf_3 = RandomForestClassifier(random_state=3, max_depth=3)\n",
    "\n",
    "# model.fit(x, y)\n",
    "rf_3 = rf_3.fit(x_train_2, y_train_2)\n",
    "\n",
    "print(f'''\n",
    "\n",
    "Accuracy of Decision Tree classifier on training set: {round(rf_3.score(x_train_2, y_train_2),4)}\n",
    "Accuracy of Decision Tree classifier on validation set: {round(rf_3.score(x_validate_2, y_validate_2),4)}\n",
    "''')\n",
    "baseline_accuracy"
   ]
  },
  {
   "cell_type": "code",
   "execution_count": null,
   "id": "96c346d7",
   "metadata": {},
   "outputs": [],
   "source": [
    "m.best_forest(x_train, y_train, x_validate, y_validate)"
   ]
  },
  {
   "cell_type": "markdown",
   "id": "e11f75eb",
   "metadata": {},
   "source": [
    "# Logisitics Regression Model"
   ]
  },
  {
   "cell_type": "code",
   "execution_count": null,
   "id": "9cdb34d0",
   "metadata": {},
   "outputs": [],
   "source": [
    "# create object\n",
    "logit = LogisticRegression()\n",
    "\n",
    "# model fit \n",
    "logit.fit(x_train, y_train)"
   ]
  },
  {
   "cell_type": "code",
   "execution_count": null,
   "id": "51966327",
   "metadata": {},
   "outputs": [],
   "source": [
    "logit_2 = LogisticRegression()\n",
    "\n",
    "# model fit \n",
    "logit_2.fit(x_train_2, y_train_2)\n",
    "print(f'''\n",
    "    Accuracy of Logistic Regression classifier on training set: {round(logit_2.score(x_train_2, y_train_2),2)}\n",
    "    Accuracy of Logistic Regression classifier on validation set: {round(logit_2.score(x_validate_2, y_validate_2),2)}\n",
    "''')"
   ]
  },
  {
   "cell_type": "code",
   "execution_count": null,
   "id": "c62f0583",
   "metadata": {},
   "outputs": [],
   "source": [
    "def clf_accuracy(clf, x_train, y_train, x_validate, y_validate):\n",
    "    '''\n",
    "    This function provides a quick print output of the train and validation scores based on your decision tree, for easy viewing.\n",
    "    The function takes the following arguments: object name (clf), x_train, y_train, x_validate, y_validate\n",
    "    '''\n",
    "    print(f'''\n",
    "    Accuracy of {clf} on training set: {round(clf.score(x_train, y_train), 3)}\n",
    "    Accuracy of {clf} on validation set: {round(clf.score(x_validate, y_validate), 3)}\n",
    "    ''')"
   ]
  },
  {
   "cell_type": "code",
   "execution_count": null,
   "id": "c800b9a8",
   "metadata": {},
   "outputs": [],
   "source": [
    "clf_accuracy(rf, x_train_2, y_train_2, x_validate_2, y_validate_2)"
   ]
  },
  {
   "cell_type": "code",
   "execution_count": null,
   "id": "fcf27089",
   "metadata": {},
   "outputs": [],
   "source": [
    "# evaluate importance of each feature\n",
    "print('Coefficient: \\n', logit.coef_)\n",
    "print('Intercept: \\n', logit.intercept_)\n"
   ]
  },
  {
   "cell_type": "code",
   "execution_count": null,
   "id": "92b98445",
   "metadata": {},
   "outputs": [],
   "source": [
    "# make predictions\n",
    "y_pred_lr = logit.predict(x_train)\n",
    "y_pred_proba_lr = logit.predict_proba(x_train)\n",
    "# compute accuracy\n",
    "print(f'''\n",
    "    Accuracy of Logistic Regression classifier on training set: {round(logit.score(x_train, y_train),2)}\n",
    "    Accuracy of Logistic Regression classifier on validation set: {round(logit.score(x_validate, y_validate),2)}\n",
    "''')\n",
    "\n",
    "print(confusion_matrix(y_train, y_pred_lr))\n"
   ]
  },
  {
   "cell_type": "code",
   "execution_count": null,
   "id": "21344dd3",
   "metadata": {},
   "outputs": [],
   "source": [
    "\n",
    "def clf_predict(clf, x_train, y_train): \n",
    "    '''\n",
    "    This function takes in the following arguments: tree, x_train, y_train\n",
    "    Then uses the arguments to make predictions on the train observation,\n",
    "    creating a matrix and a df of the matrix \n",
    "    '''   \n",
    "    # make prediction on train obeservations\n",
    "    y_pred = clf.predict(x_train)\n",
    "\n",
    "    # create confusion matrix\n",
    "    conf = confusion_matrix(y_train, y_pred)\n",
    "\n",
    "    # nice dataframe with conf\n",
    "    labels = sorted(y_train.unique())\n",
    "    df = pd.DataFrame(conf,\n",
    "                index=[str(label) + '_actual'for label in labels],\n",
    "                columns=[str(label) + '_predict'for label in labels])\n",
    "    return df"
   ]
  },
  {
   "cell_type": "code",
   "execution_count": null,
   "id": "f37aab40",
   "metadata": {},
   "outputs": [],
   "source": [
    "clf_predict(rf_3, x_train_2, y_train_2)"
   ]
  },
  {
   "cell_type": "code",
   "execution_count": null,
   "id": "a2730de7",
   "metadata": {},
   "outputs": [],
   "source": [
    "clf_predict(logit, x_train, y_train)"
   ]
  },
  {
   "cell_type": "code",
   "execution_count": null,
   "id": "370854f3",
   "metadata": {},
   "outputs": [],
   "source": [
    "# classification report\n",
    "print(classification_report(y_train, y_pred_lr))\n",
    "y_pred_proba_lr"
   ]
  },
  {
   "cell_type": "code",
   "execution_count": null,
   "id": "51a71422",
   "metadata": {},
   "outputs": [],
   "source": [
    "# Visualize #################################\n",
    "# create array of probabilities of churning\n",
    "\n",
    "y_pred_proba_churn = np.array([i[1] for i in y_pred_proba_lr])\n",
    "\n",
    "fig = plt.figure()\n",
    "plt.figure(figsize=(10,6))\n",
    "ax = fig.add_subplot()\n",
    "\n",
    "\n",
    "# scatter plot where x is the probabilities and y is the churn (0, 1)\n",
    "ax.scatter(y_pred_proba_churn, y_pred_lr)\n"
   ]
  },
  {
   "cell_type": "code",
   "execution_count": null,
   "id": "4b77912b",
   "metadata": {},
   "outputs": [],
   "source": [
    "y_pred_proba_churn[y_pred_proba_churn > 0.5]"
   ]
  },
  {
   "cell_type": "code",
   "execution_count": null,
   "id": "7907967c",
   "metadata": {},
   "outputs": [],
   "source": [
    "# Test Model\n",
    "print(f'''\n",
    "    Accuracy of Logistic Regression classifier on training set: {round(logit.score(x_train, y_train),2)}\n",
    "    Accuracy of Logistic Regression classifier on validation set: {round(logit.score(x_validate, y_validate),2)}\n",
    "    Accuracy of Logistic Regression classifier on test set: {round(logit.score(x_test, y_test),2)}\n",
    "    \n",
    "''')"
   ]
  },
  {
   "cell_type": "code",
   "execution_count": null,
   "id": "907fc529",
   "metadata": {},
   "outputs": [],
   "source": [
    "# Test Model 2\n",
    "print(f'''\n",
    "    Accuracy of Random Forest classifier on training set: {round(rf_3.score(x_train, y_train),2)}\n",
    "    Accuracy of Random Forest classifier on validation set: {round(rf_3.score(x_validate_2, y_validate_2),2)}\n",
    "    Accuracy of Random Forest  classifier on test set: {round(rf_3.score(x_test_2, y_test_2),2)}\n",
    "    \n",
    "''')"
   ]
  },
  {
   "cell_type": "code",
   "execution_count": null,
   "id": "43db6cce",
   "metadata": {},
   "outputs": [],
   "source": [
    "def clf_test(clf, x_train, y_train, x_validate, y_validate, x_test, y_test):\n",
    "    '''\n",
    "    ! WARNING!: Only use this for your final model \n",
    "    This function provides a quick print output of the baseling accuracy train, validation, test scores based on your classifier, for easy viewing.\n",
    "    The function takes the following arguments: object name (clf), x_train, y_train, x_validate, y_validate, x_test, y_test\n",
    "    '''\n",
    "    print(f'''\n",
    "    Baseline Accuracy: {round(baseline_accuracy, 3)}\n",
    "    Accuracy of {clf} on training set: {round(clf.score(x_train, y_train), 3)}\n",
    "    Accuracy of {clf} on validation set: {round(clf.score(x_validate, y_validate), 3)}\n",
    "    Accuracy of {clf} on test set: {round(clf.score(x_test, y_test), 3)}\n",
    "    ''')"
   ]
  },
  {
   "cell_type": "code",
   "execution_count": null,
   "id": "b68fcbdc",
   "metadata": {},
   "outputs": [],
   "source": [
    "clf_test(logit, x_train, y_train, x_validate, y_validate, x_test, y_test, )"
   ]
  },
  {
   "cell_type": "code",
   "execution_count": 55,
   "id": "6242759e",
   "metadata": {},
   "outputs": [
    {
     "data": {
      "image/png": "[encoded data removed]",
      "text/plain": [
       "<Figure size 1500x800 with 2 Axes>"
      ]
     },
     "metadata": {},
     "output_type": "display_data"
    }
   ],
   "source": [
    "m.rf_leaf_graph(x_train, y_train, x_validate, y_validate)"
   ]
  },
  {
   "cell_type": "markdown",
   "id": "5727fee3",
   "metadata": {},
   "source": [
    "# KNN model "
   ]
  },
  {
   "cell_type": "code",
   "execution_count": null,
   "id": "1a7ca420",
   "metadata": {},
   "outputs": [],
   "source": [
    "knn = KNeighborsClassifier()\n",
    "knn.fit(x_train, y_train)"
   ]
  },
  {
   "cell_type": "code",
   "execution_count": null,
   "id": "621aad97",
   "metadata": {},
   "outputs": [],
   "source": [
    "knn = KNeighborsClassifier(n_neighbors = 10)\n",
    "knn.fit(x_train, y_train)"
   ]
  },
  {
   "cell_type": "code",
   "execution_count": null,
   "id": "71de8e28",
   "metadata": {},
   "outputs": [],
   "source": [
    "m.clf_accuracy(knn, x_train, y_train, x_validate, y_validate)"
   ]
  },
  {
   "cell_type": "code",
   "execution_count": null,
   "id": "5fcc19a0",
   "metadata": {},
   "outputs": [],
   "source": [
    "m.clf_predict(knn, x_train, y_train)"
   ]
  },
  {
   "cell_type": "code",
   "execution_count": 146,
   "id": "22439dc0",
   "metadata": {},
   "outputs": [
    {
     "data": {
      "image/png": "[encoded data removed]",
      "text/plain": [
       "<Figure size 640x480 with 1 Axes>"
      ]
     },
     "metadata": {},
     "output_type": "display_data"
    },
    {
     "data": {
      "text/html": [
       "<div>\n",
       "<style scoped>\n",
       "    .dataframe tbody tr th:only-of-type {\n",
       "        vertical-align: middle;\n",
       "    }\n",
       "\n",
       "    .dataframe tbody tr th {\n",
       "        vertical-align: top;\n",
       "    }\n",
       "\n",
       "    .dataframe thead th {\n",
       "        text-align: right;\n",
       "    }\n",
       "</style>\n",
       "<table border=\"1\" class=\"dataframe\">\n",
       "  <thead>\n",
       "    <tr style=\"text-align: right;\">\n",
       "      <th></th>\n",
       "      <th>partner</th>\n",
       "      <th>dependents</th>\n",
       "      <th>paperless_billing</th>\n",
       "      <th>automatic_payment</th>\n",
       "      <th>churn</th>\n",
       "    </tr>\n",
       "  </thead>\n",
       "  <tbody>\n",
       "    <tr>\n",
       "      <th>3160</th>\n",
       "      <td>1</td>\n",
       "      <td>1</td>\n",
       "      <td>1</td>\n",
       "      <td>0</td>\n",
       "      <td>0</td>\n",
       "    </tr>\n",
       "    <tr>\n",
       "      <th>1577</th>\n",
       "      <td>1</td>\n",
       "      <td>0</td>\n",
       "      <td>0</td>\n",
       "      <td>1</td>\n",
       "      <td>0</td>\n",
       "    </tr>\n",
       "    <tr>\n",
       "      <th>6823</th>\n",
       "      <td>0</td>\n",
       "      <td>0</td>\n",
       "      <td>1</td>\n",
       "      <td>0</td>\n",
       "      <td>1</td>\n",
       "    </tr>\n",
       "    <tr>\n",
       "      <th>3615</th>\n",
       "      <td>0</td>\n",
       "      <td>0</td>\n",
       "      <td>1</td>\n",
       "      <td>0</td>\n",
       "      <td>0</td>\n",
       "    </tr>\n",
       "    <tr>\n",
       "      <th>882</th>\n",
       "      <td>0</td>\n",
       "      <td>0</td>\n",
       "      <td>1</td>\n",
       "      <td>0</td>\n",
       "      <td>1</td>\n",
       "    </tr>\n",
       "    <tr>\n",
       "      <th>...</th>\n",
       "      <td>...</td>\n",
       "      <td>...</td>\n",
       "      <td>...</td>\n",
       "      <td>...</td>\n",
       "      <td>...</td>\n",
       "    </tr>\n",
       "    <tr>\n",
       "      <th>1097</th>\n",
       "      <td>0</td>\n",
       "      <td>0</td>\n",
       "      <td>0</td>\n",
       "      <td>0</td>\n",
       "      <td>1</td>\n",
       "    </tr>\n",
       "    <tr>\n",
       "      <th>6441</th>\n",
       "      <td>0</td>\n",
       "      <td>0</td>\n",
       "      <td>1</td>\n",
       "      <td>0</td>\n",
       "      <td>1</td>\n",
       "    </tr>\n",
       "    <tr>\n",
       "      <th>5985</th>\n",
       "      <td>0</td>\n",
       "      <td>0</td>\n",
       "      <td>1</td>\n",
       "      <td>1</td>\n",
       "      <td>0</td>\n",
       "    </tr>\n",
       "    <tr>\n",
       "      <th>2452</th>\n",
       "      <td>1</td>\n",
       "      <td>1</td>\n",
       "      <td>0</td>\n",
       "      <td>1</td>\n",
       "      <td>0</td>\n",
       "    </tr>\n",
       "    <tr>\n",
       "      <th>983</th>\n",
       "      <td>0</td>\n",
       "      <td>0</td>\n",
       "      <td>1</td>\n",
       "      <td>0</td>\n",
       "      <td>1</td>\n",
       "    </tr>\n",
       "  </tbody>\n",
       "</table>\n",
       "<p>1409 rows × 5 columns</p>\n",
       "</div>"
      ],
      "text/plain": [
       "      partner  dependents  paperless_billing  automatic_payment  churn\n",
       "3160        1           1                  1                  0      0\n",
       "1577        1           0                  0                  1      0\n",
       "6823        0           0                  1                  0      1\n",
       "3615        0           0                  1                  0      0\n",
       "882         0           0                  1                  0      1\n",
       "...       ...         ...                ...                ...    ...\n",
       "1097        0           0                  0                  0      1\n",
       "6441        0           0                  1                  0      1\n",
       "5985        0           0                  1                  1      0\n",
       "2452        1           1                  0                  1      0\n",
       "983         0           0                  1                  0      1\n",
       "\n",
       "[1409 rows x 5 columns]"
      ]
     },
     "execution_count": 146,
     "metadata": {},
     "output_type": "execute_result"
    }
   ],
   "source": [
    "k_range = range(1, 20)\n",
    "scores = []\n",
    "for k in k_range:\n",
    "    knn = KNeighborsClassifier(n_neighbors = k)\n",
    "    knn.fit(x_train, y_train)\n",
    "    scores.append(knn.score(x_test, y_test))\n",
    "plt.figure()\n",
    "plt.xlabel('k')\n",
    "plt.ylabel('accuracy')\n",
    "plt.scatter(k_range, scores)\n",
    "\n",
    "plt.show()\n",
    "test"
   ]
  },
  {
   "cell_type": "markdown",
   "id": "c1debdc2",
   "metadata": {},
   "source": [
    "# Final test model "
   ]
  },
  {
   "cell_type": "code",
   "execution_count": 161,
   "id": "acb1bfff",
   "metadata": {},
   "outputs": [
    {
     "name": "stdout",
     "output_type": "stream",
     "text": [
      "\n",
      "    Accuracy of RandomForestClassifier(max_depth=3, random_state=3) on training set: 0.73\n",
      "    Accuracy of RandomForestClassifier(max_depth=3, random_state=3) on validation set: 0.73\n",
      "    Accuracy of RandomForestClassifier(max_depth=3, random_state=3) on test set: 0.73\n",
      "    \n"
     ]
    },
    {
     "data": {
      "text/plain": [
       "3160    0\n",
       "1577    0\n",
       "6823    1\n",
       "3615    0\n",
       "882     1\n",
       "       ..\n",
       "1097    1\n",
       "6441    1\n",
       "5985    0\n",
       "2452    0\n",
       "983     1\n",
       "Name: churn, Length: 1409, dtype: uint8"
      ]
     },
     "execution_count": 161,
     "metadata": {},
     "output_type": "execute_result"
    }
   ],
   "source": [
    "m.best_model(x_train, y_train, x_validate, y_validate, x_test, y_test)\n"
   ]
  },
  {
   "cell_type": "code",
   "execution_count": 172,
   "id": "1525a019",
   "metadata": {},
   "outputs": [
    {
     "data": {
      "text/html": [
       "<div>\n",
       "<style scoped>\n",
       "    .dataframe tbody tr th:only-of-type {\n",
       "        vertical-align: middle;\n",
       "    }\n",
       "\n",
       "    .dataframe tbody tr th {\n",
       "        vertical-align: top;\n",
       "    }\n",
       "\n",
       "    .dataframe thead th {\n",
       "        text-align: right;\n",
       "    }\n",
       "</style>\n",
       "<table border=\"1\" class=\"dataframe\">\n",
       "  <thead>\n",
       "    <tr style=\"text-align: right;\">\n",
       "      <th></th>\n",
       "      <th>partner</th>\n",
       "      <th>dependents</th>\n",
       "      <th>paperless_billing</th>\n",
       "      <th>automatic_payment</th>\n",
       "      <th>churn</th>\n",
       "    </tr>\n",
       "  </thead>\n",
       "  <tbody>\n",
       "    <tr>\n",
       "      <th>3160</th>\n",
       "      <td>1</td>\n",
       "      <td>1</td>\n",
       "      <td>1</td>\n",
       "      <td>0</td>\n",
       "      <td>0</td>\n",
       "    </tr>\n",
       "    <tr>\n",
       "      <th>1577</th>\n",
       "      <td>1</td>\n",
       "      <td>0</td>\n",
       "      <td>0</td>\n",
       "      <td>1</td>\n",
       "      <td>0</td>\n",
       "    </tr>\n",
       "    <tr>\n",
       "      <th>6823</th>\n",
       "      <td>0</td>\n",
       "      <td>0</td>\n",
       "      <td>1</td>\n",
       "      <td>0</td>\n",
       "      <td>1</td>\n",
       "    </tr>\n",
       "    <tr>\n",
       "      <th>3615</th>\n",
       "      <td>0</td>\n",
       "      <td>0</td>\n",
       "      <td>1</td>\n",
       "      <td>0</td>\n",
       "      <td>0</td>\n",
       "    </tr>\n",
       "    <tr>\n",
       "      <th>882</th>\n",
       "      <td>0</td>\n",
       "      <td>0</td>\n",
       "      <td>1</td>\n",
       "      <td>0</td>\n",
       "      <td>1</td>\n",
       "    </tr>\n",
       "    <tr>\n",
       "      <th>...</th>\n",
       "      <td>...</td>\n",
       "      <td>...</td>\n",
       "      <td>...</td>\n",
       "      <td>...</td>\n",
       "      <td>...</td>\n",
       "    </tr>\n",
       "    <tr>\n",
       "      <th>1097</th>\n",
       "      <td>0</td>\n",
       "      <td>0</td>\n",
       "      <td>0</td>\n",
       "      <td>0</td>\n",
       "      <td>1</td>\n",
       "    </tr>\n",
       "    <tr>\n",
       "      <th>6441</th>\n",
       "      <td>0</td>\n",
       "      <td>0</td>\n",
       "      <td>1</td>\n",
       "      <td>0</td>\n",
       "      <td>1</td>\n",
       "    </tr>\n",
       "    <tr>\n",
       "      <th>5985</th>\n",
       "      <td>0</td>\n",
       "      <td>0</td>\n",
       "      <td>1</td>\n",
       "      <td>1</td>\n",
       "      <td>0</td>\n",
       "    </tr>\n",
       "    <tr>\n",
       "      <th>2452</th>\n",
       "      <td>1</td>\n",
       "      <td>1</td>\n",
       "      <td>0</td>\n",
       "      <td>1</td>\n",
       "      <td>0</td>\n",
       "    </tr>\n",
       "    <tr>\n",
       "      <th>983</th>\n",
       "      <td>0</td>\n",
       "      <td>0</td>\n",
       "      <td>1</td>\n",
       "      <td>0</td>\n",
       "      <td>1</td>\n",
       "    </tr>\n",
       "  </tbody>\n",
       "</table>\n",
       "<p>1409 rows × 5 columns</p>\n",
       "</div>"
      ],
      "text/plain": [
       "      partner  dependents  paperless_billing  automatic_payment  churn\n",
       "3160        1           1                  1                  0      0\n",
       "1577        1           0                  0                  1      0\n",
       "6823        0           0                  1                  0      1\n",
       "3615        0           0                  1                  0      0\n",
       "882         0           0                  1                  0      1\n",
       "...       ...         ...                ...                ...    ...\n",
       "1097        0           0                  0                  0      1\n",
       "6441        0           0                  1                  0      1\n",
       "5985        0           0                  1                  1      0\n",
       "2452        1           1                  0                  1      0\n",
       "983         0           0                  1                  0      1\n",
       "\n",
       "[1409 rows x 5 columns]"
      ]
     },
     "execution_count": 172,
     "metadata": {},
     "output_type": "execute_result"
    }
   ],
   "source": [
    "# Create csv with test model and predictions\n",
    "\n",
    "rf = RandomForestClassifier(random_state=3, max_depth=3)\n",
    "rf = rf.fit(x_train, y_train)\n",
    "test_pred = rf.predict(x_test)\n",
    "\n",
    "y_pred_proba = rf.predict_proba(x_test)\n",
    "\n",
    "prob_of_churn = y_pred_proba[:,1]\n",
    "test_pred\n",
    "test\n"
   ]
  },
  {
   "cell_type": "code",
   "execution_count": 178,
   "id": "56f64ff6",
   "metadata": {},
   "outputs": [],
   "source": [
    "rf = RandomForestClassifier(random_state=3, max_depth=3)\n",
    "rf = rf.fit(x_train, y_train)"
   ]
  },
  {
   "cell_type": "code",
   "execution_count": 186,
   "id": "06693114",
   "metadata": {},
   "outputs": [
    {
     "data": {
      "text/plain": [
       "array([0.27036079, 0.10902405, 0.46835696, ..., 0.24828029, 0.07536532,\n",
       "       0.46835696])"
      ]
     },
     "execution_count": 186,
     "metadata": {},
     "output_type": "execute_result"
    }
   ],
   "source": [
    "# Create csv with test model and predictions\n",
    "\n",
    "\n",
    "test_pred = rf.predict(x_test)\n",
    "\n",
    "y_pred_proba = rf.predict_proba(x_test)\n",
    "\n",
    "prob_of_churn = y_pred_proba[:,1]\n",
    "test_pred\n",
    "\n",
    "prob_of_churn"
   ]
  },
  {
   "cell_type": "code",
   "execution_count": 181,
   "id": "2121ba45",
   "metadata": {},
   "outputs": [],
   "source": [
    "# create a dataframe with customer_id , probability of churn, and prediction\n",
    "prediction_df = pd.DataFrame({'customer_id': tt.customer_id,\n",
    "                              'probability_of_churn': rf.predict_proba(x_test)[:,1],\n",
    "                              'prediction_of_churn': rf.predict(x_test)})\n",
    "prediction_df.to_csv(\"prediction_df.csv\")"
   ]
  },
  {
   "cell_type": "code",
   "execution_count": 183,
   "id": "125fa391",
   "metadata": {},
   "outputs": [
    {
     "data": {
      "text/html": [
       "<div>\n",
       "<style scoped>\n",
       "    .dataframe tbody tr th:only-of-type {\n",
       "        vertical-align: middle;\n",
       "    }\n",
       "\n",
       "    .dataframe tbody tr th {\n",
       "        vertical-align: top;\n",
       "    }\n",
       "\n",
       "    .dataframe thead th {\n",
       "        text-align: right;\n",
       "    }\n",
       "</style>\n",
       "<table border=\"1\" class=\"dataframe\">\n",
       "  <thead>\n",
       "    <tr style=\"text-align: right;\">\n",
       "      <th></th>\n",
       "      <th>customer_id</th>\n",
       "      <th>probability_of_churn</th>\n",
       "      <th>prediction_of_churn</th>\n",
       "    </tr>\n",
       "  </thead>\n",
       "  <tbody>\n",
       "    <tr>\n",
       "      <th>3160</th>\n",
       "      <td>4531-AUZNK</td>\n",
       "      <td>0.270361</td>\n",
       "      <td>0</td>\n",
       "    </tr>\n",
       "    <tr>\n",
       "      <th>1577</th>\n",
       "      <td>2296-DKZFP</td>\n",
       "      <td>0.109024</td>\n",
       "      <td>0</td>\n",
       "    </tr>\n",
       "    <tr>\n",
       "      <th>6823</th>\n",
       "      <td>9692-TUSXH</td>\n",
       "      <td>0.468357</td>\n",
       "      <td>0</td>\n",
       "    </tr>\n",
       "    <tr>\n",
       "      <th>3615</th>\n",
       "      <td>5129-JLPIS</td>\n",
       "      <td>0.468357</td>\n",
       "      <td>0</td>\n",
       "    </tr>\n",
       "    <tr>\n",
       "      <th>882</th>\n",
       "      <td>1273-MTETI</td>\n",
       "      <td>0.468357</td>\n",
       "      <td>0</td>\n",
       "    </tr>\n",
       "    <tr>\n",
       "      <th>...</th>\n",
       "      <td>...</td>\n",
       "      <td>...</td>\n",
       "      <td>...</td>\n",
       "    </tr>\n",
       "    <tr>\n",
       "      <th>1097</th>\n",
       "      <td>1597-FZREH</td>\n",
       "      <td>0.297827</td>\n",
       "      <td>0</td>\n",
       "    </tr>\n",
       "    <tr>\n",
       "      <th>6441</th>\n",
       "      <td>9117-SHLZX</td>\n",
       "      <td>0.468357</td>\n",
       "      <td>0</td>\n",
       "    </tr>\n",
       "    <tr>\n",
       "      <th>5985</th>\n",
       "      <td>8441-SHIPE</td>\n",
       "      <td>0.248280</td>\n",
       "      <td>0</td>\n",
       "    </tr>\n",
       "    <tr>\n",
       "      <th>2452</th>\n",
       "      <td>3511-BFTJW</td>\n",
       "      <td>0.075365</td>\n",
       "      <td>0</td>\n",
       "    </tr>\n",
       "    <tr>\n",
       "      <th>983</th>\n",
       "      <td>1428-GTBJJ</td>\n",
       "      <td>0.468357</td>\n",
       "      <td>0</td>\n",
       "    </tr>\n",
       "  </tbody>\n",
       "</table>\n",
       "<p>1409 rows × 3 columns</p>\n",
       "</div>"
      ],
      "text/plain": [
       "     customer_id  probability_of_churn  prediction_of_churn\n",
       "3160  4531-AUZNK              0.270361                    0\n",
       "1577  2296-DKZFP              0.109024                    0\n",
       "6823  9692-TUSXH              0.468357                    0\n",
       "3615  5129-JLPIS              0.468357                    0\n",
       "882   1273-MTETI              0.468357                    0\n",
       "...          ...                   ...                  ...\n",
       "1097  1597-FZREH              0.297827                    0\n",
       "6441  9117-SHLZX              0.468357                    0\n",
       "5985  8441-SHIPE              0.248280                    0\n",
       "2452  3511-BFTJW              0.075365                    0\n",
       "983   1428-GTBJJ              0.468357                    0\n",
       "\n",
       "[1409 rows x 3 columns]"
      ]
     },
     "execution_count": 183,
     "metadata": {},
     "output_type": "execute_result"
    }
   ],
   "source": [
    "prediction_df"
   ]
  },
  {
   "cell_type": "code",
   "execution_count": 182,
   "id": "a150af5e",
   "metadata": {},
   "outputs": [
    {
     "name": "stdout",
     "output_type": "stream",
     "text": [
      "[[1035    0]\n",
      " [ 374    0]]\n"
     ]
    }
   ],
   "source": [
    "print(confusion_matrix(y_test, test_pred))"
   ]
  },
  {
   "cell_type": "code",
   "execution_count": 157,
   "id": "64675851",
   "metadata": {},
   "outputs": [
    {
     "data": {
      "text/html": [
       "<div>\n",
       "<style scoped>\n",
       "    .dataframe tbody tr th:only-of-type {\n",
       "        vertical-align: middle;\n",
       "    }\n",
       "\n",
       "    .dataframe tbody tr th {\n",
       "        vertical-align: top;\n",
       "    }\n",
       "\n",
       "    .dataframe thead th {\n",
       "        text-align: right;\n",
       "    }\n",
       "</style>\n",
       "<table border=\"1\" class=\"dataframe\">\n",
       "  <thead>\n",
       "    <tr style=\"text-align: right;\">\n",
       "      <th></th>\n",
       "      <th>0</th>\n",
       "    </tr>\n",
       "  </thead>\n",
       "  <tbody>\n",
       "    <tr>\n",
       "      <th>0</th>\n",
       "      <td>0</td>\n",
       "    </tr>\n",
       "    <tr>\n",
       "      <th>1</th>\n",
       "      <td>0</td>\n",
       "    </tr>\n",
       "    <tr>\n",
       "      <th>2</th>\n",
       "      <td>0</td>\n",
       "    </tr>\n",
       "    <tr>\n",
       "      <th>3</th>\n",
       "      <td>0</td>\n",
       "    </tr>\n",
       "    <tr>\n",
       "      <th>4</th>\n",
       "      <td>0</td>\n",
       "    </tr>\n",
       "    <tr>\n",
       "      <th>...</th>\n",
       "      <td>...</td>\n",
       "    </tr>\n",
       "    <tr>\n",
       "      <th>1404</th>\n",
       "      <td>0</td>\n",
       "    </tr>\n",
       "    <tr>\n",
       "      <th>1405</th>\n",
       "      <td>0</td>\n",
       "    </tr>\n",
       "    <tr>\n",
       "      <th>1406</th>\n",
       "      <td>0</td>\n",
       "    </tr>\n",
       "    <tr>\n",
       "      <th>1407</th>\n",
       "      <td>0</td>\n",
       "    </tr>\n",
       "    <tr>\n",
       "      <th>1408</th>\n",
       "      <td>0</td>\n",
       "    </tr>\n",
       "  </tbody>\n",
       "</table>\n",
       "<p>1409 rows × 1 columns</p>\n",
       "</div>"
      ],
      "text/plain": [
       "      0\n",
       "0     0\n",
       "1     0\n",
       "2     0\n",
       "3     0\n",
       "4     0\n",
       "...  ..\n",
       "1404  0\n",
       "1405  0\n",
       "1406  0\n",
       "1407  0\n",
       "1408  0\n",
       "\n",
       "[1409 rows x 1 columns]"
      ]
     },
     "execution_count": 157,
     "metadata": {},
     "output_type": "execute_result"
    }
   ],
   "source": [
    "test_id = tt[[\"customer_id\"]]\n",
    "test_pred = pd.DataFrame(rf.predict(x_test))\n",
    "test_pred"
   ]
  },
  {
   "cell_type": "code",
   "execution_count": null,
   "id": "ca90a439",
   "metadata": {},
   "outputs": [],
   "source": [
    "y_pred_proba[:5]"
   ]
  },
  {
   "cell_type": "code",
   "execution_count": 132,
   "id": "f73fe5ac",
   "metadata": {},
   "outputs": [],
   "source": [
    "y_pred = rf.predict(x_test)"
   ]
  },
  {
   "cell_type": "code",
   "execution_count": 133,
   "id": "6939acce",
   "metadata": {},
   "outputs": [
    {
     "data": {
      "text/plain": [
       "3160    0\n",
       "1577    0\n",
       "6823    1\n",
       "3615    0\n",
       "882     1\n",
       "Name: churn, dtype: uint8"
      ]
     },
     "execution_count": 133,
     "metadata": {},
     "output_type": "execute_result"
    }
   ],
   "source": [
    "y_test.head()"
   ]
  },
  {
   "cell_type": "code",
   "execution_count": 140,
   "id": "43a7a78f",
   "metadata": {},
   "outputs": [
    {
     "data": {
      "text/html": [
       "<div>\n",
       "<style scoped>\n",
       "    .dataframe tbody tr th:only-of-type {\n",
       "        vertical-align: middle;\n",
       "    }\n",
       "\n",
       "    .dataframe tbody tr th {\n",
       "        vertical-align: top;\n",
       "    }\n",
       "\n",
       "    .dataframe thead th {\n",
       "        text-align: right;\n",
       "    }\n",
       "</style>\n",
       "<table border=\"1\" class=\"dataframe\">\n",
       "  <thead>\n",
       "    <tr style=\"text-align: right;\">\n",
       "      <th></th>\n",
       "      <th>customer_id</th>\n",
       "      <th>0</th>\n",
       "    </tr>\n",
       "  </thead>\n",
       "  <tbody>\n",
       "    <tr>\n",
       "      <th>3160</th>\n",
       "      <td>4531-AUZNK</td>\n",
       "      <td>NaN</td>\n",
       "    </tr>\n",
       "    <tr>\n",
       "      <th>1577</th>\n",
       "      <td>2296-DKZFP</td>\n",
       "      <td>NaN</td>\n",
       "    </tr>\n",
       "    <tr>\n",
       "      <th>6823</th>\n",
       "      <td>9692-TUSXH</td>\n",
       "      <td>NaN</td>\n",
       "    </tr>\n",
       "    <tr>\n",
       "      <th>3615</th>\n",
       "      <td>5129-JLPIS</td>\n",
       "      <td>NaN</td>\n",
       "    </tr>\n",
       "    <tr>\n",
       "      <th>882</th>\n",
       "      <td>1273-MTETI</td>\n",
       "      <td>0.0</td>\n",
       "    </tr>\n",
       "    <tr>\n",
       "      <th>...</th>\n",
       "      <td>...</td>\n",
       "      <td>...</td>\n",
       "    </tr>\n",
       "    <tr>\n",
       "      <th>1404</th>\n",
       "      <td>NaN</td>\n",
       "      <td>0.0</td>\n",
       "    </tr>\n",
       "    <tr>\n",
       "      <th>1405</th>\n",
       "      <td>NaN</td>\n",
       "      <td>0.0</td>\n",
       "    </tr>\n",
       "    <tr>\n",
       "      <th>1406</th>\n",
       "      <td>NaN</td>\n",
       "      <td>0.0</td>\n",
       "    </tr>\n",
       "    <tr>\n",
       "      <th>1407</th>\n",
       "      <td>NaN</td>\n",
       "      <td>0.0</td>\n",
       "    </tr>\n",
       "    <tr>\n",
       "      <th>1408</th>\n",
       "      <td>NaN</td>\n",
       "      <td>0.0</td>\n",
       "    </tr>\n",
       "  </tbody>\n",
       "</table>\n",
       "<p>2552 rows × 2 columns</p>\n",
       "</div>"
      ],
      "text/plain": [
       "     customer_id    0\n",
       "3160  4531-AUZNK  NaN\n",
       "1577  2296-DKZFP  NaN\n",
       "6823  9692-TUSXH  NaN\n",
       "3615  5129-JLPIS  NaN\n",
       "882   1273-MTETI  0.0\n",
       "...          ...  ...\n",
       "1404         NaN  0.0\n",
       "1405         NaN  0.0\n",
       "1406         NaN  0.0\n",
       "1407         NaN  0.0\n",
       "1408         NaN  0.0\n",
       "\n",
       "[2552 rows x 2 columns]"
      ]
     },
     "execution_count": 140,
     "metadata": {},
     "output_type": "execute_result"
    }
   ],
   "source": [
    "pd.concat([test_id, test_pred], axis=1)"
   ]
  },
  {
   "cell_type": "code",
   "execution_count": 135,
   "id": "e3730f25",
   "metadata": {},
   "outputs": [
    {
     "data": {
      "text/html": [
       "<div>\n",
       "<style scoped>\n",
       "    .dataframe tbody tr th:only-of-type {\n",
       "        vertical-align: middle;\n",
       "    }\n",
       "\n",
       "    .dataframe tbody tr th {\n",
       "        vertical-align: top;\n",
       "    }\n",
       "\n",
       "    .dataframe thead th {\n",
       "        text-align: right;\n",
       "    }\n",
       "</style>\n",
       "<table border=\"1\" class=\"dataframe\">\n",
       "  <thead>\n",
       "    <tr style=\"text-align: right;\">\n",
       "      <th></th>\n",
       "      <th>customer_id</th>\n",
       "      <th>0</th>\n",
       "    </tr>\n",
       "  </thead>\n",
       "  <tbody>\n",
       "    <tr>\n",
       "      <th>3160</th>\n",
       "      <td>4531-AUZNK</td>\n",
       "      <td>NaN</td>\n",
       "    </tr>\n",
       "    <tr>\n",
       "      <th>1577</th>\n",
       "      <td>2296-DKZFP</td>\n",
       "      <td>NaN</td>\n",
       "    </tr>\n",
       "    <tr>\n",
       "      <th>6823</th>\n",
       "      <td>9692-TUSXH</td>\n",
       "      <td>NaN</td>\n",
       "    </tr>\n",
       "    <tr>\n",
       "      <th>3615</th>\n",
       "      <td>5129-JLPIS</td>\n",
       "      <td>NaN</td>\n",
       "    </tr>\n",
       "    <tr>\n",
       "      <th>882</th>\n",
       "      <td>1273-MTETI</td>\n",
       "      <td>0.0</td>\n",
       "    </tr>\n",
       "    <tr>\n",
       "      <th>...</th>\n",
       "      <td>...</td>\n",
       "      <td>...</td>\n",
       "    </tr>\n",
       "    <tr>\n",
       "      <th>1404</th>\n",
       "      <td>NaN</td>\n",
       "      <td>0.0</td>\n",
       "    </tr>\n",
       "    <tr>\n",
       "      <th>1405</th>\n",
       "      <td>NaN</td>\n",
       "      <td>0.0</td>\n",
       "    </tr>\n",
       "    <tr>\n",
       "      <th>1406</th>\n",
       "      <td>NaN</td>\n",
       "      <td>0.0</td>\n",
       "    </tr>\n",
       "    <tr>\n",
       "      <th>1407</th>\n",
       "      <td>NaN</td>\n",
       "      <td>0.0</td>\n",
       "    </tr>\n",
       "    <tr>\n",
       "      <th>1408</th>\n",
       "      <td>NaN</td>\n",
       "      <td>0.0</td>\n",
       "    </tr>\n",
       "  </tbody>\n",
       "</table>\n",
       "<p>2552 rows × 2 columns</p>\n",
       "</div>"
      ],
      "text/plain": [
       "     customer_id    0\n",
       "3160  4531-AUZNK  NaN\n",
       "1577  2296-DKZFP  NaN\n",
       "6823  9692-TUSXH  NaN\n",
       "3615  5129-JLPIS  NaN\n",
       "882   1273-MTETI  0.0\n",
       "...          ...  ...\n",
       "1404         NaN  0.0\n",
       "1405         NaN  0.0\n",
       "1406         NaN  0.0\n",
       "1407         NaN  0.0\n",
       "1408         NaN  0.0\n",
       "\n",
       "[2552 rows x 2 columns]"
      ]
     },
     "execution_count": 135,
     "metadata": {},
     "output_type": "execute_result"
    }
   ],
   "source": [
    "test_csv_pred"
   ]
  },
  {
   "cell_type": "code",
   "execution_count": 48,
   "id": "5249fb37",
   "metadata": {},
   "outputs": [],
   "source": [
    "def prob_csv(tt, x_train, y_train, x_test, y_test):\n",
    "    rf = RandomForestClassifier(random_state=3, max_depth=3)\n",
    "    rf = rf.fit(x_train, y_train)\n",
    "    prediction_df = pd.DataFrame({'customer_id': tt.customer_id,\n",
    "                              'probability_of_churn': rf.predict_proba(x_test)[:,1],\n",
    "                              'prediction_of_churn': rf.predict(x_test)})\n",
    "    prediction_df.to_csv(\"prediction_df.csv\")\n",
    "    print(rf.predict(x_test))\n",
    "    "
   ]
  },
  {
   "cell_type": "code",
   "execution_count": 54,
   "id": "2f82ee3e",
   "metadata": {},
   "outputs": [
    {
     "data": {
      "text/plain": [
       "0    1035\n",
       "1     374\n",
       "Name: churn, dtype: int64"
      ]
     },
     "execution_count": 54,
     "metadata": {},
     "output_type": "execute_result"
    }
   ],
   "source": [
    "y_test.value_counts()\n"
   ]
  },
  {
   "cell_type": "code",
   "execution_count": 49,
   "id": "94175d00",
   "metadata": {},
   "outputs": [
    {
     "name": "stdout",
     "output_type": "stream",
     "text": [
      "[0 0 0 ... 0 0 0]\n"
     ]
    }
   ],
   "source": [
    "prob_csv(tt, x_train, y_train, x_test, y_test)"
   ]
  },
  {
   "cell_type": "code",
   "execution_count": 50,
   "id": "be1578d7",
   "metadata": {},
   "outputs": [
    {
     "data": {
      "text/plain": [
       "0.7359829666430092"
      ]
     },
     "execution_count": 50,
     "metadata": {},
     "output_type": "execute_result"
    }
   ],
   "source": [
    "rf.score(x_test, y_test)"
   ]
  },
  {
   "cell_type": "code",
   "execution_count": null,
   "id": "c0eeff66",
   "metadata": {},
   "outputs": [],
   "source": []
  }
 ],
 "metadata": {
  "kernelspec": {
   "display_name": "Python 3 (ipykernel)",
   "language": "python",
   "name": "python3"
  },
  "language_info": {
   "codemirror_mode": {
    "name": "ipython",
    "version": 3
   },
   "file_extension": ".py",
   "mimetype": "text/x-python",
   "name": "python",
   "nbconvert_exporter": "python",
   "pygments_lexer": "ipython3",
   "version": "3.9.13"
  }
 },
 "nbformat": 4,
 "nbformat_minor": 5
}
