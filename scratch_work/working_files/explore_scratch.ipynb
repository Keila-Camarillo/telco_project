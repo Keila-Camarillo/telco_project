{
 "cells": [
  {
   "cell_type": "code",
   "execution_count": 1,
   "id": "2fa48ceb",
   "metadata": {},
   "outputs": [],
   "source": [
    "import warnings\n",
    "warnings.filterwarnings(\"ignore\")\n",
    "\n",
    "import pandas as pd\n",
    "import numpy as np\n",
    "import matplotlib.pyplot as plt\n",
    "import seaborn as sns\n",
    "from scipy import stats\n",
    "\n",
    "# sklearn imports\n",
    "from sklearn.model_selection import train_test_split\n",
    "from sklearn.metrics import confusion_matrix, classification_report, accuracy_score\n",
    "\n",
    "# tree classifier\n",
    "from sklearn.model_selection import train_test_split\n",
    "from sklearn.tree import DecisionTreeClassifier, plot_tree\n",
    "\n",
    "# rainforest classifier\n",
    "from sklearn.ensemble import RandomForestClassifier\n",
    "\n",
    "# linear regession classifier\n",
    "from sklearn.linear_model import LogisticRegression\n",
    "\n",
    "# KNN classifier\n",
    "from sklearn.neighbors import KNeighborsClassifier\n",
    "\n",
    "import wrangle as w\n",
    "import explore as e \n",
    "import model as m"
   ]
  },
  {
   "cell_type": "code",
   "execution_count": 15,
   "id": "372241fa",
   "metadata": {},
   "outputs": [
    {
     "data": {
      "text/html": [
       "<div>\n",
       "<style scoped>\n",
       "    .dataframe tbody tr th:only-of-type {\n",
       "        vertical-align: middle;\n",
       "    }\n",
       "\n",
       "    .dataframe tbody tr th {\n",
       "        vertical-align: top;\n",
       "    }\n",
       "\n",
       "    .dataframe thead th {\n",
       "        text-align: right;\n",
       "    }\n",
       "</style>\n",
       "<table border=\"1\" class=\"dataframe\">\n",
       "  <thead>\n",
       "    <tr style=\"text-align: right;\">\n",
       "      <th></th>\n",
       "      <th>partner</th>\n",
       "      <th>dependents</th>\n",
       "      <th>paperless_billing</th>\n",
       "      <th>automatic_payment</th>\n",
       "      <th>churn</th>\n",
       "      <th>tenure</th>\n",
       "    </tr>\n",
       "  </thead>\n",
       "  <tbody>\n",
       "    <tr>\n",
       "      <th>5911</th>\n",
       "      <td>0</td>\n",
       "      <td>1</td>\n",
       "      <td>1</td>\n",
       "      <td>1</td>\n",
       "      <td>0</td>\n",
       "      <td>26</td>\n",
       "    </tr>\n",
       "    <tr>\n",
       "      <th>2479</th>\n",
       "      <td>1</td>\n",
       "      <td>0</td>\n",
       "      <td>0</td>\n",
       "      <td>0</td>\n",
       "      <td>0</td>\n",
       "      <td>47</td>\n",
       "    </tr>\n",
       "    <tr>\n",
       "      <th>5889</th>\n",
       "      <td>0</td>\n",
       "      <td>0</td>\n",
       "      <td>1</td>\n",
       "      <td>0</td>\n",
       "      <td>1</td>\n",
       "      <td>1</td>\n",
       "    </tr>\n",
       "    <tr>\n",
       "      <th>6087</th>\n",
       "      <td>0</td>\n",
       "      <td>0</td>\n",
       "      <td>1</td>\n",
       "      <td>1</td>\n",
       "      <td>0</td>\n",
       "      <td>69</td>\n",
       "    </tr>\n",
       "    <tr>\n",
       "      <th>785</th>\n",
       "      <td>0</td>\n",
       "      <td>0</td>\n",
       "      <td>0</td>\n",
       "      <td>1</td>\n",
       "      <td>0</td>\n",
       "      <td>51</td>\n",
       "    </tr>\n",
       "    <tr>\n",
       "      <th>...</th>\n",
       "      <td>...</td>\n",
       "      <td>...</td>\n",
       "      <td>...</td>\n",
       "      <td>...</td>\n",
       "      <td>...</td>\n",
       "      <td>...</td>\n",
       "    </tr>\n",
       "    <tr>\n",
       "      <th>6102</th>\n",
       "      <td>1</td>\n",
       "      <td>0</td>\n",
       "      <td>0</td>\n",
       "      <td>1</td>\n",
       "      <td>1</td>\n",
       "      <td>2</td>\n",
       "    </tr>\n",
       "    <tr>\n",
       "      <th>356</th>\n",
       "      <td>0</td>\n",
       "      <td>0</td>\n",
       "      <td>1</td>\n",
       "      <td>0</td>\n",
       "      <td>0</td>\n",
       "      <td>52</td>\n",
       "    </tr>\n",
       "    <tr>\n",
       "      <th>1756</th>\n",
       "      <td>0</td>\n",
       "      <td>0</td>\n",
       "      <td>1</td>\n",
       "      <td>0</td>\n",
       "      <td>1</td>\n",
       "      <td>4</td>\n",
       "    </tr>\n",
       "    <tr>\n",
       "      <th>2127</th>\n",
       "      <td>0</td>\n",
       "      <td>0</td>\n",
       "      <td>0</td>\n",
       "      <td>0</td>\n",
       "      <td>0</td>\n",
       "      <td>35</td>\n",
       "    </tr>\n",
       "    <tr>\n",
       "      <th>3586</th>\n",
       "      <td>0</td>\n",
       "      <td>0</td>\n",
       "      <td>0</td>\n",
       "      <td>0</td>\n",
       "      <td>0</td>\n",
       "      <td>10</td>\n",
       "    </tr>\n",
       "  </tbody>\n",
       "</table>\n",
       "<p>4225 rows × 6 columns</p>\n",
       "</div>"
      ],
      "text/plain": [
       "      partner  dependents  paperless_billing  automatic_payment  churn  tenure\n",
       "5911        0           1                  1                  1      0      26\n",
       "2479        1           0                  0                  0      0      47\n",
       "5889        0           0                  1                  0      1       1\n",
       "6087        0           0                  1                  1      0      69\n",
       "785         0           0                  0                  1      0      51\n",
       "...       ...         ...                ...                ...    ...     ...\n",
       "6102        1           0                  0                  1      1       2\n",
       "356         0           0                  1                  0      0      52\n",
       "1756        0           0                  1                  0      1       4\n",
       "2127        0           0                  0                  0      0      35\n",
       "3586        0           0                  0                  0      0      10\n",
       "\n",
       "[4225 rows x 6 columns]"
      ]
     },
     "execution_count": 15,
     "metadata": {},
     "output_type": "execute_result"
    }
   ],
   "source": [
    "# # acquiring, cleaning, and adding features to data\n",
    "df = w.prep_telco()\n",
    "train, validate, testt = w.split_data(df, \"churn\")\n",
    "train"
   ]
  },
  {
   "cell_type": "code",
   "execution_count": 5,
   "id": "1be62190",
   "metadata": {},
   "outputs": [
    {
     "name": "stdout",
     "output_type": "stream",
     "text": [
      "<class 'pandas.core.frame.DataFrame'>\n",
      "RangeIndex: 7043 entries, 0 to 7042\n",
      "Data columns (total 6 columns):\n",
      " #   Column             Non-Null Count  Dtype\n",
      "---  ------             --------------  -----\n",
      " 0   partner            7043 non-null   uint8\n",
      " 1   dependents         7043 non-null   uint8\n",
      " 2   paperless_billing  7043 non-null   uint8\n",
      " 3   automatic_payment  7043 non-null   int64\n",
      " 4   churn              7043 non-null   uint8\n",
      " 5   tenure             7043 non-null   int64\n",
      "dtypes: int64(2), uint8(4)\n",
      "memory usage: 137.7 KB\n"
     ]
    }
   ],
   "source": [
    "# Get information about df, such as column names, rows, datatypes, non-missing values\n",
    "df_2.info()"
   ]
  },
  {
   "cell_type": "code",
   "execution_count": 6,
   "id": "3ef03c8f",
   "metadata": {},
   "outputs": [
    {
     "data": {
      "text/html": [
       "<div>\n",
       "<style scoped>\n",
       "    .dataframe tbody tr th:only-of-type {\n",
       "        vertical-align: middle;\n",
       "    }\n",
       "\n",
       "    .dataframe tbody tr th {\n",
       "        vertical-align: top;\n",
       "    }\n",
       "\n",
       "    .dataframe thead th {\n",
       "        text-align: right;\n",
       "    }\n",
       "</style>\n",
       "<table border=\"1\" class=\"dataframe\">\n",
       "  <thead>\n",
       "    <tr style=\"text-align: right;\">\n",
       "      <th></th>\n",
       "      <th>count</th>\n",
       "      <th>mean</th>\n",
       "      <th>std</th>\n",
       "      <th>min</th>\n",
       "      <th>25%</th>\n",
       "      <th>50%</th>\n",
       "      <th>75%</th>\n",
       "      <th>max</th>\n",
       "    </tr>\n",
       "  </thead>\n",
       "  <tbody>\n",
       "    <tr>\n",
       "      <th>partner</th>\n",
       "      <td>7043.0</td>\n",
       "      <td>0.483033</td>\n",
       "      <td>0.499748</td>\n",
       "      <td>0.0</td>\n",
       "      <td>0.0</td>\n",
       "      <td>0.0</td>\n",
       "      <td>1.0</td>\n",
       "      <td>1.0</td>\n",
       "    </tr>\n",
       "    <tr>\n",
       "      <th>dependents</th>\n",
       "      <td>7043.0</td>\n",
       "      <td>0.299588</td>\n",
       "      <td>0.458110</td>\n",
       "      <td>0.0</td>\n",
       "      <td>0.0</td>\n",
       "      <td>0.0</td>\n",
       "      <td>1.0</td>\n",
       "      <td>1.0</td>\n",
       "    </tr>\n",
       "    <tr>\n",
       "      <th>paperless_billing</th>\n",
       "      <td>7043.0</td>\n",
       "      <td>0.592219</td>\n",
       "      <td>0.491457</td>\n",
       "      <td>0.0</td>\n",
       "      <td>0.0</td>\n",
       "      <td>1.0</td>\n",
       "      <td>1.0</td>\n",
       "      <td>1.0</td>\n",
       "    </tr>\n",
       "    <tr>\n",
       "      <th>automatic_payment</th>\n",
       "      <td>7043.0</td>\n",
       "      <td>0.435326</td>\n",
       "      <td>0.495835</td>\n",
       "      <td>0.0</td>\n",
       "      <td>0.0</td>\n",
       "      <td>0.0</td>\n",
       "      <td>1.0</td>\n",
       "      <td>1.0</td>\n",
       "    </tr>\n",
       "    <tr>\n",
       "      <th>churn</th>\n",
       "      <td>7043.0</td>\n",
       "      <td>0.265370</td>\n",
       "      <td>0.441561</td>\n",
       "      <td>0.0</td>\n",
       "      <td>0.0</td>\n",
       "      <td>0.0</td>\n",
       "      <td>1.0</td>\n",
       "      <td>1.0</td>\n",
       "    </tr>\n",
       "    <tr>\n",
       "      <th>tenure</th>\n",
       "      <td>7043.0</td>\n",
       "      <td>32.371149</td>\n",
       "      <td>24.559481</td>\n",
       "      <td>0.0</td>\n",
       "      <td>9.0</td>\n",
       "      <td>29.0</td>\n",
       "      <td>55.0</td>\n",
       "      <td>72.0</td>\n",
       "    </tr>\n",
       "  </tbody>\n",
       "</table>\n",
       "</div>"
      ],
      "text/plain": [
       "                    count       mean        std  min  25%   50%   75%   max\n",
       "partner            7043.0   0.483033   0.499748  0.0  0.0   0.0   1.0   1.0\n",
       "dependents         7043.0   0.299588   0.458110  0.0  0.0   0.0   1.0   1.0\n",
       "paperless_billing  7043.0   0.592219   0.491457  0.0  0.0   1.0   1.0   1.0\n",
       "automatic_payment  7043.0   0.435326   0.495835  0.0  0.0   0.0   1.0   1.0\n",
       "churn              7043.0   0.265370   0.441561  0.0  0.0   0.0   1.0   1.0\n",
       "tenure             7043.0  32.371149  24.559481  0.0  9.0  29.0  55.0  72.0"
      ]
     },
     "execution_count": 6,
     "metadata": {},
     "output_type": "execute_result"
    }
   ],
   "source": [
    "# Get summary statistics for numeric columns.\n",
    "df_2.describe().T"
   ]
  },
  {
   "cell_type": "code",
   "execution_count": 7,
   "id": "f38060d9",
   "metadata": {},
   "outputs": [],
   "source": [
    "# Use .describe with object columns.\n",
    "\n",
    "obj_cols = df.columns[[df[col].dtype == 'O' for col in df.columns]]\n",
    "for col in obj_cols:\n",
    "    print(df[col].value_counts())\n",
    "    print(df[col].value_counts(normalize=True, dropna=False))\n",
    "    print('----------------------')\n"
   ]
  },
  {
   "cell_type": "code",
   "execution_count": 8,
   "id": "62a4b68d",
   "metadata": {},
   "outputs": [],
   "source": [
    "# Use .describe with object columns.\n",
    "\n",
    "obj_cols_2 = df_2.columns[[df_2[col].dtype == 'O' for col in df_2.columns]]\n",
    "for col in obj_cols_2:\n",
    "    print(df_2[col].value_counts())\n",
    "    print(df_2[col].value_counts(normalize=True, dropna=False))\n",
    "    print('----------------------')\n"
   ]
  },
  {
   "cell_type": "code",
   "execution_count": 9,
   "id": "6724be69",
   "metadata": {},
   "outputs": [
    {
     "data": {
      "text/plain": [
       "Series([], dtype: int64)"
      ]
     },
     "execution_count": 9,
     "metadata": {},
     "output_type": "execute_result"
    }
   ],
   "source": [
    "# Find columns with nulls and the total of missing values.\n",
    "missing = df_2.isnull().sum()\n",
    "missing[missing > 0]"
   ]
  },
  {
   "cell_type": "markdown",
   "id": "a8672770",
   "metadata": {},
   "source": [
    "# Clean the Data"
   ]
  },
  {
   "cell_type": "code",
   "execution_count": 12,
   "id": "0aaa7e8d",
   "metadata": {},
   "outputs": [],
   "source": [
    "def prep_telco(df):\n",
    "    '''\n",
    "    The function will clean the telco dataset.\n",
    "    The function will also return to dataframes:\n",
    "    '''\n",
    "    # encoding payment type automatic payment equals 1 and non_automatic equals 0\n",
    "    df[\"automatic_payment\"] = df[\"payment_type\"].map({\"Bank transfer (automatic)\": 1, \"Credit card (automatic)\": 1, \"Mailed check\": 0, \"Electronic check\": 0})\n",
    "\n",
    "    # create dummies\n",
    "    dummy_df = pd.get_dummies(df[[\"partner\",\n",
    "                                 \"dependents\", \n",
    "                                 \"paperless_billing\", \n",
    "                                 \"churn\"]],\n",
    "                              drop_first=True)\n",
    "    df = pd.concat([df, dummy_df], axis=1)\n",
    "    # rename columns\n",
    "    df = df[[\"customer_id\",\"partner_Yes\", \"dependents_Yes\", \"paperless_billing_Yes\", \"automatic_payment\", \"tenure\",\"churn_Yes\"]]\n",
    "    \n",
    "    df = df.rename(columns={\"partner_Yes\": \"partner\", \"dependents_Yes\": \"dependents\", \"paperless_billing_Yes\": \"paperless_billing\", \"churn_Yes\": \"churn\"})\n",
    "    # df for modeling\n",
    "    \n",
    "    return df\n"
   ]
  },
  {
   "cell_type": "markdown",
   "id": "161ac6ff",
   "metadata": {},
   "source": [
    "# How often are customers churning?"
   ]
  },
  {
   "cell_type": "code",
   "execution_count": 16,
   "id": "e204e2a7",
   "metadata": {},
   "outputs": [],
   "source": [
    "y = train.churn.value_counts(normalize=True)\n"
   ]
  },
  {
   "cell_type": "code",
   "execution_count": 17,
   "id": "8080ab45",
   "metadata": {},
   "outputs": [],
   "source": [
    "def churn_pie():\n",
    "    y = train.churn.value_counts(normalize=True)\n",
    "\n",
    "    mylabels = [\"Did Not Churn\", \"Did Churn\"]\n",
    "\n",
    "    plt.pie(y, labels = mylabels, autopct='%1.1f%%')\n",
    "\n",
    "    plt.show() "
   ]
  },
  {
   "cell_type": "code",
   "execution_count": 18,
   "id": "2a30c66f",
   "metadata": {},
   "outputs": [
    {
     "data": {
      "image/png": "[encoded data removed]",
      "text/plain": [
       "<Figure size 640x480 with 1 Axes>"
      ]
     },
     "metadata": {},
     "output_type": "display_data"
    }
   ],
   "source": [
    "e.churn_pie(train)"
   ]
  },
  {
   "cell_type": "markdown",
   "id": "196f2b28",
   "metadata": {},
   "source": [
    "# QUESTION 1: Do customers that have an automatic payment type more or less likely to churn?\n",
    "\n",
    "* What's the relationship between churn and payment type?"
   ]
  },
  {
   "cell_type": "code",
   "execution_count": null,
   "id": "9031855b",
   "metadata": {},
   "outputs": [],
   "source": [
    "plt.title(\"What's the Relationship Between Churn and Automatic Payment Type?\")\n",
    "sns.barplot(x=\"automatic_payment\", y=\"churn\", data=train)\n",
    "population_churn_rate = train.churn.mean()\n",
    "plt.axhline(population_churn_rate, label=\"Population Churn Rate\")\n",
    "plt.legend()\n",
    "plt.show()"
   ]
  },
  {
   "cell_type": "code",
   "execution_count": null,
   "id": "ff2e2732",
   "metadata": {},
   "outputs": [],
   "source": [
    "# Setup a crosstab of observed survival to pclass\n",
    "def cross_function(train, target_variable, feature_variable, null_hypothesis, alternative_hypothesis):\n",
    "    '''\n",
    "    This function will take the train df, target_variable, and feature_variable\n",
    "    '''\n",
    "    observed = pd.crosstab(train[target_variable], train[feature_variable])\n",
    "\n",
    "    chi2, p, degf, expected = stats.chi2_contingency(observed)\n",
    "\n",
    "    if p < alpha:\n",
    "        print(f\"Reject the null hypothesis: {null_hypothesis}\")\n",
    "        print(f\"Sufficient evidence to move forward understanding that, {alternative_hypothesis}\")\n",
    "    else:\n",
    "        print(\"Fail to reject the null\")\n",
    "        print(\"Insufficient evidence to reject the null\")\n",
    "    return p"
   ]
  },
  {
   "cell_type": "markdown",
   "id": "eb138f9e",
   "metadata": {},
   "source": [
    "Do customers that have an automatic payment type more or less likely to churn?"
   ]
  },
  {
   "cell_type": "code",
   "execution_count": null,
   "id": "6ccff070",
   "metadata": {},
   "outputs": [],
   "source": [
    "alpha_Q1 = 0.05\n",
    "target_Q1 = \"churn\"\n",
    "feature_variable_Q1 = \"automatic_payment\"\n",
    "null_hypothesis_Q1 = \"churn and automatic payment are independent\"\n",
    "alternative_hypothesis_Q1 = \"there is a relationship between automatic payment and churn\""
   ]
  },
  {
   "cell_type": "markdown",
   "id": "e8dcff9d",
   "metadata": {},
   "source": [
    "# Question 2:  Do customers that have paperless billing more or less likely to churn?\n",
    "* What's the relationship between churn and paperless billing?"
   ]
  },
  {
   "cell_type": "code",
   "execution_count": null,
   "id": "cc3d220c",
   "metadata": {},
   "outputs": [],
   "source": [
    "plt.title(\"What's the Relationship Between Churn and paperless billing?\")\n",
    "sns.barplot(x=\"paperless_billing\", y=\"churn\", data=train)\n",
    "population_churn_rate = train.churn.mean()\n",
    "plt.axhline(population_churn_rate, label=\"Population Churn Rate\")\n",
    "plt.legend()\n",
    "plt.show()"
   ]
  },
  {
   "cell_type": "code",
   "execution_count": null,
   "id": "6483cad2",
   "metadata": {},
   "outputs": [],
   "source": [
    "# Chi squared to compare proportions, define confidence\n",
    "alpha_Q2 = 0.05\n",
    "target_Q2 = \"churn\"\n",
    "feature_variable_Q2 = \"paperless_billing\"\n",
    "null_hypothesis_Q2 = \"churn and paperless_billing are independent\"\n",
    "alternative_hypothesis_Q2 = \"there is a relationship between paperless_billing and churn\"\n",
    "\n",
    "e.cross_function(train, target, feature_variable_Q2, null_hypothesis_Q2, alternative_hypothesis_Q2)"
   ]
  },
  {
   "cell_type": "markdown",
   "id": "5a649181",
   "metadata": {},
   "source": [
    "# Question 3: Do customers that have partner more or less likely to churn?\n",
    "* What's the relationship between churn and customers' with partners?"
   ]
  },
  {
   "cell_type": "code",
   "execution_count": 19,
   "id": "3943c018",
   "metadata": {},
   "outputs": [
    {
     "data": {
      "image/png": "[encoded data removed]",
      "text/plain": [
       "<Figure size 640x480 with 1 Axes>"
      ]
     },
     "metadata": {},
     "output_type": "display_data"
    }
   ],
   "source": [
    "plt.title(\"What's the Relationship Between Churn and Customers' with Partners\")\n",
    "sns.barplot(x=\"partner\", y=\"churn\", data=train)\n",
    "population_churn_rate = train.churn.mean()\n",
    "plt.axhline(population_churn_rate, label=\"Population Churn Rate\")\n",
    "plt.legend()\n",
    "plt.show()\n",
    "\n",
    "def relationship_churn(train, graph_title, feature, target):\n",
    "    '''\n",
    "    This function will take the train, graph_title, feature, and target,\n",
    "    and it will display a bargraph based on the information provided for the churn dataset \n",
    "\n",
    "    '''\n",
    "    fig, ax =plt.subplots()\n",
    "    plt.title(graph_title)\n",
    "    sns.barplot(x=feature, y=target, data=train)\n",
    "    population_churn_rate = train.churn.mean()\n",
    "\n",
    "    tick_label = [\"No\", \"Yes\"]\n",
    "    ax.set_xticklabels(tick_label)\n",
    "    # sns.distplot(train)\n",
    "\n",
    "    plt.axhline(population_churn_rate, label=\"Population Churn Rate\")\n",
    "    plt.legend()\n",
    "    plt.show()"
   ]
  },
  {
   "cell_type": "code",
   "execution_count": null,
   "id": "fe63906a",
   "metadata": {},
   "outputs": [],
   "source": [
    "relationship_churn(train, \"What's the Relationship Between Churn and Customers' with Partners\", feature_variable_Q2, target)"
   ]
  },
  {
   "cell_type": "code",
   "execution_count": null,
   "id": "b71dba69",
   "metadata": {},
   "outputs": [],
   "source": [
    "# Chi squared to compare proportions, define confidence\n",
    "alpha_Q3 = 0.05\n",
    "target_Q3 = \"churn\"\n",
    "feature_variable_Q3 = \"partner\"\n",
    "null_hypothesis_Q3 = \"churn and customers' with partners are independent\"\n",
    "alternative_hypothesis_Q3 = \"there is a relationship between customers' with partners and churn\"\n",
    "\n",
    "e.cross_function(train, target, feature_variable_Q3, null_hypothesis_Q3, alternative_hypothesis_Q3)"
   ]
  },
  {
   "cell_type": "markdown",
   "id": "378d8f2a",
   "metadata": {},
   "source": [
    "# Question 4: Do customers that have dependents more or less likely to churn?\n",
    "* What's the relationship between churn and customers' with dependents?"
   ]
  },
  {
   "cell_type": "markdown",
   "id": "72e56a3b",
   "metadata": {},
   "source": [
    "# Q 6: Does tenure affect whether a customer will churn or not?# Q 6: Does tenure affect whether a customer will churn or not?"
   ]
  },
  {
   "cell_type": "code",
   "execution_count": 96,
   "id": "72315da3",
   "metadata": {},
   "outputs": [
    {
     "data": {
      "text/plain": [
       "<matplotlib.legend.Legend at 0x7fb990b66a30>"
      ]
     },
     "execution_count": 96,
     "metadata": {},
     "output_type": "execute_result"
    },
    {
     "data": {
      "image/png": "[encoded data removed]",
      "text/plain": [
       "<Figure size 640x480 with 1 Axes>"
      ]
     },
     "metadata": {},
     "output_type": "display_data"
    }
   ],
   "source": [
    "did_churn = train[train.churn == 1]\n",
    "did_not_churn = train[train.churn == 0]\n",
    "plt.hist(data=did_not_churn, x='tenure', label=\"Did Not Churn\", color=\"C0\")\n",
    "plt.hist(data=did_churn, x='tenure', label=\"Did Churn\", color=\"C1\")\n",
    "\n",
    "plt.legend()"
   ]
  },
  {
   "cell_type": "code",
   "execution_count": 64,
   "id": "fa64a2da",
   "metadata": {},
   "outputs": [
    {
     "data": {
      "text/plain": [
       "0    3104\n",
       "1    1121\n",
       "Name: churn, dtype: int64"
      ]
     },
     "execution_count": 64,
     "metadata": {},
     "output_type": "execute_result"
    }
   ],
   "source": [
    "train.churn.value_counts()"
   ]
  },
  {
   "cell_type": "code",
   "execution_count": 73,
   "id": "bb99776c",
   "metadata": {},
   "outputs": [
    {
     "name": "stdout",
     "output_type": "stream",
     "text": [
      "384.3762122467161\n",
      "581.1295195495867\n"
     ]
    }
   ],
   "source": [
    "churn_sample = train[train.churn == 1].tenure\n",
    "\n",
    "print(churn_sample.var())\n",
    "print(no_churn_sample.var())\n",
    "# var not equal"
   ]
  },
  {
   "cell_type": "code",
   "execution_count": 68,
   "id": "1b9e16c9",
   "metadata": {},
   "outputs": [
    {
     "data": {
      "text/plain": [
       "<AxesSubplot:>"
      ]
     },
     "execution_count": 68,
     "metadata": {},
     "output_type": "execute_result"
    },
    {
     "data": {
      "image/png": "[encoded data removed]",
      "text/plain": [
       "<Figure size 640x480 with 1 Axes>"
      ]
     },
     "metadata": {},
     "output_type": "display_data"
    }
   ],
   "source": [
    "no_churn_sample = train[train.churn == 0].tenure\n",
    "no_churn_sample"
   ]
  },
  {
   "cell_type": "code",
   "execution_count": null,
   "id": "96e5a10d",
   "metadata": {},
   "outputs": [],
   "source": [
    "**I will use Independent T-Test to investigate the relationship between churn and tenure**\n",
    "\n",
    "* I will use a confidence interval of 95%\n",
    "* The alpha is .05\n",
    "\n",
    "\n",
    "* $H_o$: 'Tenure' of customers who 'Churn' equals that of those who don't 'Churn'\n",
    "* $H_a$: 'Tenure' of customers who 'Churn' is not equal to that of those who don't 'Churn'"
   ]
  },
  {
   "cell_type": "code",
   "execution_count": 91,
   "id": "b592ed52",
   "metadata": {},
   "outputs": [],
   "source": [
    "# Chi squared to compare proportions, define confidence\n",
    "null_hypothesis_Q6 = \"'Tenure' of customers who 'Churn' equals that of those who don't 'Churn'\"\n",
    "alternative_hypothesis_Q6 = \"Tenure' of customers who 'Churn' is not equal to that of those who don't 'Churn'\"\n"
   ]
  },
  {
   "cell_type": "code",
   "execution_count": 92,
   "id": "2fb93357",
   "metadata": {},
   "outputs": [],
   "source": [
    "\n",
    "def tenure_ttest(churn_sample, no_churn_sample, null_hypothesis, alternative_hypothesis):\n",
    "    t, p = stats.ttest_ind(churn_sample, no_churn_sample, equal_var=False)\n",
    "\n",
    "    alpha = 0.05\n",
    "    if p < alpha:\n",
    "        print(f\"Reject the null hypothesis: {null_hypothesis}\")\n",
    "        print(f\"Sufficient evidence to move forward understanding that, {alternative_hypothesis}\")\n",
    "    else:\n",
    "        print(\"Fail to reject the null\")\n",
    "        print(\"Insufficient evidence to reject the null\")\n",
    "    print(f\"p = {p}\")"
   ]
  },
  {
   "cell_type": "code",
   "execution_count": 93,
   "id": "5719efff",
   "metadata": {},
   "outputs": [
    {
     "name": "stdout",
     "output_type": "stream",
     "text": [
      "Reject the null hypothesis: 'Tenure' of customers who 'Churn' equals that of those who don't 'Churn'\n",
      "Sufficient evidence to move forward understanding that, Tenure' of customers who 'Churn' is not equal to that of those who don't 'Churn'\n",
      "p = 8.804788934587683e-137\n"
     ]
    }
   ],
   "source": [
    "tenure_ttest(churn_sample, no_churn_sample, null_hypothesis_Q6, alternative_hypothesis_Q6)"
   ]
  },
  {
   "cell_type": "markdown",
   "id": "c2adaad5",
   "metadata": {},
   "source": [
    "**The p-value is greater than the alpha. Therefore, we have evidence to support that 'Tenure' of customers who 'Churn' is not equal to that of those who don't 'Churn'. Based on this, I believe that using the 'Tenue' feature in modeling will likely have a small positive impact on the model's accuracy.**"
   ]
  }
 ],
 "metadata": {
  "kernelspec": {
   "display_name": "Python 3 (ipykernel)",
   "language": "python",
   "name": "python3"
  },
  "language_info": {
   "codemirror_mode": {
    "name": "ipython",
    "version": 3
   },
   "file_extension": ".py",
   "mimetype": "text/x-python",
   "name": "python",
   "nbconvert_exporter": "python",
   "pygments_lexer": "ipython3",
   "version": "3.9.13"
  }
 },
 "nbformat": 4,
 "nbformat_minor": 5
}
