{
 "cells": [
  {
   "cell_type": "code",
   "execution_count": 1,
   "id": "0c2c61fe",
   "metadata": {},
   "outputs": [],
   "source": [
    "import warnings\n",
    "warnings.filterwarnings(\"ignore\")\n",
    "\n",
    "import pandas as pd\n",
    "import numpy as np\n",
    "import matplotlib.pyplot as plt\n",
    "import seaborn as sns\n",
    "from scipy import stats\n",
    "\n",
    "# sklearn imports\n",
    "from sklearn.model_selection import train_test_split\n",
    "from sklearn.metrics import confusion_matrix, classification_report, accuracy_score\n",
    "\n",
    "# tree classifier\n",
    "from sklearn.model_selection import train_test_split\n",
    "from sklearn.tree import DecisionTreeClassifier, plot_tree\n",
    "\n",
    "# rainforest classifier\n",
    "from sklearn.ensemble import RandomForestClassifier\n",
    "\n",
    "# linear regession classifier\n",
    "from sklearn.linear_model import LogisticRegression\n",
    "\n",
    "import wrangle as w\n"
   ]
  },
  {
   "cell_type": "code",
   "execution_count": 2,
   "id": "5ee4bc2c",
   "metadata": {},
   "outputs": [],
   "source": [
    "# # acquiring, cleaning, and adding features to data\n",
    "df = w.get_telco_data()\n",
    "# df = w.prep_telco()"
   ]
  },
  {
   "cell_type": "code",
   "execution_count": 3,
   "id": "a6808a3f",
   "metadata": {},
   "outputs": [
    {
     "data": {
      "text/html": [
       "<div>\n",
       "<style scoped>\n",
       "    .dataframe tbody tr th:only-of-type {\n",
       "        vertical-align: middle;\n",
       "    }\n",
       "\n",
       "    .dataframe tbody tr th {\n",
       "        vertical-align: top;\n",
       "    }\n",
       "\n",
       "    .dataframe thead th {\n",
       "        text-align: right;\n",
       "    }\n",
       "</style>\n",
       "<table border=\"1\" class=\"dataframe\">\n",
       "  <thead>\n",
       "    <tr style=\"text-align: right;\">\n",
       "      <th></th>\n",
       "      <th>payment_type_id</th>\n",
       "      <th>internet_service_type_id</th>\n",
       "      <th>customer_id</th>\n",
       "      <th>contract_type_id</th>\n",
       "      <th>gender</th>\n",
       "      <th>senior_citizen</th>\n",
       "      <th>partner</th>\n",
       "      <th>dependents</th>\n",
       "      <th>tenure</th>\n",
       "      <th>phone_service</th>\n",
       "      <th>...</th>\n",
       "      <th>streaming_movies</th>\n",
       "      <th>paperless_billing</th>\n",
       "      <th>monthly_charges</th>\n",
       "      <th>total_charges</th>\n",
       "      <th>churn</th>\n",
       "      <th>contract_type</th>\n",
       "      <th>churn_month</th>\n",
       "      <th>signup_date</th>\n",
       "      <th>internet_service_type</th>\n",
       "      <th>payment_type</th>\n",
       "    </tr>\n",
       "  </thead>\n",
       "  <tbody>\n",
       "    <tr>\n",
       "      <th>0</th>\n",
       "      <td>2</td>\n",
       "      <td>1</td>\n",
       "      <td>0002-ORFBO</td>\n",
       "      <td>2</td>\n",
       "      <td>Female</td>\n",
       "      <td>0</td>\n",
       "      <td>Yes</td>\n",
       "      <td>Yes</td>\n",
       "      <td>9</td>\n",
       "      <td>Yes</td>\n",
       "      <td>...</td>\n",
       "      <td>No</td>\n",
       "      <td>Yes</td>\n",
       "      <td>65.60</td>\n",
       "      <td>593.3</td>\n",
       "      <td>No</td>\n",
       "      <td>One year</td>\n",
       "      <td>None</td>\n",
       "      <td>2021-04-21 18:07:34</td>\n",
       "      <td>DSL</td>\n",
       "      <td>Mailed check</td>\n",
       "    </tr>\n",
       "    <tr>\n",
       "      <th>1</th>\n",
       "      <td>2</td>\n",
       "      <td>1</td>\n",
       "      <td>0003-MKNFE</td>\n",
       "      <td>1</td>\n",
       "      <td>Male</td>\n",
       "      <td>0</td>\n",
       "      <td>No</td>\n",
       "      <td>No</td>\n",
       "      <td>9</td>\n",
       "      <td>Yes</td>\n",
       "      <td>...</td>\n",
       "      <td>Yes</td>\n",
       "      <td>No</td>\n",
       "      <td>59.90</td>\n",
       "      <td>542.4</td>\n",
       "      <td>No</td>\n",
       "      <td>Month-to-month</td>\n",
       "      <td>None</td>\n",
       "      <td>2021-04-21 18:07:34</td>\n",
       "      <td>DSL</td>\n",
       "      <td>Mailed check</td>\n",
       "    </tr>\n",
       "    <tr>\n",
       "      <th>2</th>\n",
       "      <td>1</td>\n",
       "      <td>2</td>\n",
       "      <td>0004-TLHLJ</td>\n",
       "      <td>1</td>\n",
       "      <td>Male</td>\n",
       "      <td>0</td>\n",
       "      <td>No</td>\n",
       "      <td>No</td>\n",
       "      <td>4</td>\n",
       "      <td>Yes</td>\n",
       "      <td>...</td>\n",
       "      <td>No</td>\n",
       "      <td>Yes</td>\n",
       "      <td>73.90</td>\n",
       "      <td>280.85</td>\n",
       "      <td>Yes</td>\n",
       "      <td>Month-to-month</td>\n",
       "      <td>2022-01-31</td>\n",
       "      <td>2021-09-21 18:07:34</td>\n",
       "      <td>Fiber optic</td>\n",
       "      <td>Electronic check</td>\n",
       "    </tr>\n",
       "    <tr>\n",
       "      <th>3</th>\n",
       "      <td>1</td>\n",
       "      <td>2</td>\n",
       "      <td>0011-IGKFF</td>\n",
       "      <td>1</td>\n",
       "      <td>Male</td>\n",
       "      <td>1</td>\n",
       "      <td>Yes</td>\n",
       "      <td>No</td>\n",
       "      <td>13</td>\n",
       "      <td>Yes</td>\n",
       "      <td>...</td>\n",
       "      <td>Yes</td>\n",
       "      <td>Yes</td>\n",
       "      <td>98.00</td>\n",
       "      <td>1237.85</td>\n",
       "      <td>Yes</td>\n",
       "      <td>Month-to-month</td>\n",
       "      <td>2022-01-31</td>\n",
       "      <td>2020-12-21 18:07:34</td>\n",
       "      <td>Fiber optic</td>\n",
       "      <td>Electronic check</td>\n",
       "    </tr>\n",
       "    <tr>\n",
       "      <th>4</th>\n",
       "      <td>2</td>\n",
       "      <td>2</td>\n",
       "      <td>0013-EXCHZ</td>\n",
       "      <td>1</td>\n",
       "      <td>Female</td>\n",
       "      <td>1</td>\n",
       "      <td>Yes</td>\n",
       "      <td>No</td>\n",
       "      <td>3</td>\n",
       "      <td>Yes</td>\n",
       "      <td>...</td>\n",
       "      <td>No</td>\n",
       "      <td>Yes</td>\n",
       "      <td>83.90</td>\n",
       "      <td>267.4</td>\n",
       "      <td>Yes</td>\n",
       "      <td>Month-to-month</td>\n",
       "      <td>2022-01-31</td>\n",
       "      <td>2021-10-21 18:07:34</td>\n",
       "      <td>Fiber optic</td>\n",
       "      <td>Mailed check</td>\n",
       "    </tr>\n",
       "    <tr>\n",
       "      <th>...</th>\n",
       "      <td>...</td>\n",
       "      <td>...</td>\n",
       "      <td>...</td>\n",
       "      <td>...</td>\n",
       "      <td>...</td>\n",
       "      <td>...</td>\n",
       "      <td>...</td>\n",
       "      <td>...</td>\n",
       "      <td>...</td>\n",
       "      <td>...</td>\n",
       "      <td>...</td>\n",
       "      <td>...</td>\n",
       "      <td>...</td>\n",
       "      <td>...</td>\n",
       "      <td>...</td>\n",
       "      <td>...</td>\n",
       "      <td>...</td>\n",
       "      <td>...</td>\n",
       "      <td>...</td>\n",
       "      <td>...</td>\n",
       "      <td>...</td>\n",
       "    </tr>\n",
       "    <tr>\n",
       "      <th>7038</th>\n",
       "      <td>2</td>\n",
       "      <td>1</td>\n",
       "      <td>9987-LUTYD</td>\n",
       "      <td>2</td>\n",
       "      <td>Female</td>\n",
       "      <td>0</td>\n",
       "      <td>No</td>\n",
       "      <td>No</td>\n",
       "      <td>13</td>\n",
       "      <td>Yes</td>\n",
       "      <td>...</td>\n",
       "      <td>No</td>\n",
       "      <td>No</td>\n",
       "      <td>55.15</td>\n",
       "      <td>742.9</td>\n",
       "      <td>No</td>\n",
       "      <td>One year</td>\n",
       "      <td>None</td>\n",
       "      <td>2020-12-21 18:07:34</td>\n",
       "      <td>DSL</td>\n",
       "      <td>Mailed check</td>\n",
       "    </tr>\n",
       "    <tr>\n",
       "      <th>7039</th>\n",
       "      <td>1</td>\n",
       "      <td>2</td>\n",
       "      <td>9992-RRAMN</td>\n",
       "      <td>1</td>\n",
       "      <td>Male</td>\n",
       "      <td>0</td>\n",
       "      <td>Yes</td>\n",
       "      <td>No</td>\n",
       "      <td>22</td>\n",
       "      <td>Yes</td>\n",
       "      <td>...</td>\n",
       "      <td>Yes</td>\n",
       "      <td>Yes</td>\n",
       "      <td>85.10</td>\n",
       "      <td>1873.7</td>\n",
       "      <td>Yes</td>\n",
       "      <td>Month-to-month</td>\n",
       "      <td>2022-01-31</td>\n",
       "      <td>2020-03-21 18:07:34</td>\n",
       "      <td>Fiber optic</td>\n",
       "      <td>Electronic check</td>\n",
       "    </tr>\n",
       "    <tr>\n",
       "      <th>7040</th>\n",
       "      <td>2</td>\n",
       "      <td>1</td>\n",
       "      <td>9992-UJOEL</td>\n",
       "      <td>1</td>\n",
       "      <td>Male</td>\n",
       "      <td>0</td>\n",
       "      <td>No</td>\n",
       "      <td>No</td>\n",
       "      <td>2</td>\n",
       "      <td>Yes</td>\n",
       "      <td>...</td>\n",
       "      <td>No</td>\n",
       "      <td>Yes</td>\n",
       "      <td>50.30</td>\n",
       "      <td>92.75</td>\n",
       "      <td>No</td>\n",
       "      <td>Month-to-month</td>\n",
       "      <td>None</td>\n",
       "      <td>2021-11-21 18:07:34</td>\n",
       "      <td>DSL</td>\n",
       "      <td>Mailed check</td>\n",
       "    </tr>\n",
       "    <tr>\n",
       "      <th>7041</th>\n",
       "      <td>2</td>\n",
       "      <td>1</td>\n",
       "      <td>9993-LHIEB</td>\n",
       "      <td>3</td>\n",
       "      <td>Male</td>\n",
       "      <td>0</td>\n",
       "      <td>Yes</td>\n",
       "      <td>Yes</td>\n",
       "      <td>67</td>\n",
       "      <td>Yes</td>\n",
       "      <td>...</td>\n",
       "      <td>Yes</td>\n",
       "      <td>No</td>\n",
       "      <td>67.85</td>\n",
       "      <td>4627.65</td>\n",
       "      <td>No</td>\n",
       "      <td>Two year</td>\n",
       "      <td>None</td>\n",
       "      <td>2016-06-21 18:07:34</td>\n",
       "      <td>DSL</td>\n",
       "      <td>Mailed check</td>\n",
       "    </tr>\n",
       "    <tr>\n",
       "      <th>7042</th>\n",
       "      <td>1</td>\n",
       "      <td>1</td>\n",
       "      <td>9995-HOTOH</td>\n",
       "      <td>3</td>\n",
       "      <td>Male</td>\n",
       "      <td>0</td>\n",
       "      <td>Yes</td>\n",
       "      <td>Yes</td>\n",
       "      <td>63</td>\n",
       "      <td>No</td>\n",
       "      <td>...</td>\n",
       "      <td>Yes</td>\n",
       "      <td>No</td>\n",
       "      <td>59.00</td>\n",
       "      <td>3707.6</td>\n",
       "      <td>No</td>\n",
       "      <td>Two year</td>\n",
       "      <td>None</td>\n",
       "      <td>2016-10-21 18:07:34</td>\n",
       "      <td>DSL</td>\n",
       "      <td>Electronic check</td>\n",
       "    </tr>\n",
       "  </tbody>\n",
       "</table>\n",
       "<p>7043 rows × 26 columns</p>\n",
       "</div>"
      ],
      "text/plain": [
       "      payment_type_id  internet_service_type_id customer_id  contract_type_id  \\\n",
       "0                   2                         1  0002-ORFBO                 2   \n",
       "1                   2                         1  0003-MKNFE                 1   \n",
       "2                   1                         2  0004-TLHLJ                 1   \n",
       "3                   1                         2  0011-IGKFF                 1   \n",
       "4                   2                         2  0013-EXCHZ                 1   \n",
       "...               ...                       ...         ...               ...   \n",
       "7038                2                         1  9987-LUTYD                 2   \n",
       "7039                1                         2  9992-RRAMN                 1   \n",
       "7040                2                         1  9992-UJOEL                 1   \n",
       "7041                2                         1  9993-LHIEB                 3   \n",
       "7042                1                         1  9995-HOTOH                 3   \n",
       "\n",
       "      gender  senior_citizen partner dependents  tenure phone_service  ...  \\\n",
       "0     Female               0     Yes        Yes       9           Yes  ...   \n",
       "1       Male               0      No         No       9           Yes  ...   \n",
       "2       Male               0      No         No       4           Yes  ...   \n",
       "3       Male               1     Yes         No      13           Yes  ...   \n",
       "4     Female               1     Yes         No       3           Yes  ...   \n",
       "...      ...             ...     ...        ...     ...           ...  ...   \n",
       "7038  Female               0      No         No      13           Yes  ...   \n",
       "7039    Male               0     Yes         No      22           Yes  ...   \n",
       "7040    Male               0      No         No       2           Yes  ...   \n",
       "7041    Male               0     Yes        Yes      67           Yes  ...   \n",
       "7042    Male               0     Yes        Yes      63            No  ...   \n",
       "\n",
       "     streaming_movies paperless_billing monthly_charges total_charges churn  \\\n",
       "0                  No               Yes           65.60         593.3    No   \n",
       "1                 Yes                No           59.90         542.4    No   \n",
       "2                  No               Yes           73.90        280.85   Yes   \n",
       "3                 Yes               Yes           98.00       1237.85   Yes   \n",
       "4                  No               Yes           83.90         267.4   Yes   \n",
       "...               ...               ...             ...           ...   ...   \n",
       "7038               No                No           55.15         742.9    No   \n",
       "7039              Yes               Yes           85.10        1873.7   Yes   \n",
       "7040               No               Yes           50.30         92.75    No   \n",
       "7041              Yes                No           67.85       4627.65    No   \n",
       "7042              Yes                No           59.00        3707.6    No   \n",
       "\n",
       "       contract_type churn_month         signup_date  internet_service_type  \\\n",
       "0           One year        None 2021-04-21 18:07:34                    DSL   \n",
       "1     Month-to-month        None 2021-04-21 18:07:34                    DSL   \n",
       "2     Month-to-month  2022-01-31 2021-09-21 18:07:34            Fiber optic   \n",
       "3     Month-to-month  2022-01-31 2020-12-21 18:07:34            Fiber optic   \n",
       "4     Month-to-month  2022-01-31 2021-10-21 18:07:34            Fiber optic   \n",
       "...              ...         ...                 ...                    ...   \n",
       "7038        One year        None 2020-12-21 18:07:34                    DSL   \n",
       "7039  Month-to-month  2022-01-31 2020-03-21 18:07:34            Fiber optic   \n",
       "7040  Month-to-month        None 2021-11-21 18:07:34                    DSL   \n",
       "7041        Two year        None 2016-06-21 18:07:34                    DSL   \n",
       "7042        Two year        None 2016-10-21 18:07:34                    DSL   \n",
       "\n",
       "          payment_type  \n",
       "0         Mailed check  \n",
       "1         Mailed check  \n",
       "2     Electronic check  \n",
       "3     Electronic check  \n",
       "4         Mailed check  \n",
       "...                ...  \n",
       "7038      Mailed check  \n",
       "7039  Electronic check  \n",
       "7040      Mailed check  \n",
       "7041      Mailed check  \n",
       "7042  Electronic check  \n",
       "\n",
       "[7043 rows x 26 columns]"
      ]
     },
     "execution_count": 3,
     "metadata": {},
     "output_type": "execute_result"
    }
   ],
   "source": [
    "df"
   ]
  },
  {
   "cell_type": "markdown",
   "id": "5759f1f1",
   "metadata": {},
   "source": [
    "# Summarize df "
   ]
  },
  {
   "cell_type": "code",
   "execution_count": 6,
   "id": "ffc70f6e",
   "metadata": {},
   "outputs": [
    {
     "name": "stdout",
     "output_type": "stream",
     "text": [
      "<class 'pandas.core.frame.DataFrame'>\n",
      "Int64Index: 7043 entries, 0 to 7042\n",
      "Data columns (total 26 columns):\n",
      " #   Column                    Non-Null Count  Dtype         \n",
      "---  ------                    --------------  -----         \n",
      " 0   payment_type_id           7043 non-null   int64         \n",
      " 1   internet_service_type_id  7043 non-null   int64         \n",
      " 2   customer_id               7043 non-null   object        \n",
      " 3   contract_type_id          7043 non-null   int64         \n",
      " 4   gender                    7043 non-null   object        \n",
      " 5   senior_citizen            7043 non-null   int64         \n",
      " 6   partner                   7043 non-null   object        \n",
      " 7   dependents                7043 non-null   object        \n",
      " 8   tenure                    7043 non-null   int64         \n",
      " 9   phone_service             7043 non-null   object        \n",
      " 10  multiple_lines            7043 non-null   object        \n",
      " 11  online_security           7043 non-null   object        \n",
      " 12  online_backup             7043 non-null   object        \n",
      " 13  device_protection         7043 non-null   object        \n",
      " 14  tech_support              7043 non-null   object        \n",
      " 15  streaming_tv              7043 non-null   object        \n",
      " 16  streaming_movies          7043 non-null   object        \n",
      " 17  paperless_billing         7043 non-null   object        \n",
      " 18  monthly_charges           7043 non-null   float64       \n",
      " 19  total_charges             7043 non-null   object        \n",
      " 20  churn                     7043 non-null   object        \n",
      " 21  contract_type             7043 non-null   object        \n",
      " 22  churn_month               1869 non-null   object        \n",
      " 23  signup_date               7043 non-null   datetime64[ns]\n",
      " 24  internet_service_type     7043 non-null   object        \n",
      " 25  payment_type              7043 non-null   object        \n",
      "dtypes: datetime64[ns](1), float64(1), int64(5), object(19)\n",
      "memory usage: 1.5+ MB\n"
     ]
    }
   ],
   "source": [
    "# Get information about df, such as column names, rows, datatypes, non-missing values\n",
    "df.info()"
   ]
  },
  {
   "cell_type": "code",
   "execution_count": 7,
   "id": "5ad51881",
   "metadata": {},
   "outputs": [
    {
     "data": {
      "text/html": [
       "<div>\n",
       "<style scoped>\n",
       "    .dataframe tbody tr th:only-of-type {\n",
       "        vertical-align: middle;\n",
       "    }\n",
       "\n",
       "    .dataframe tbody tr th {\n",
       "        vertical-align: top;\n",
       "    }\n",
       "\n",
       "    .dataframe thead th {\n",
       "        text-align: right;\n",
       "    }\n",
       "</style>\n",
       "<table border=\"1\" class=\"dataframe\">\n",
       "  <thead>\n",
       "    <tr style=\"text-align: right;\">\n",
       "      <th></th>\n",
       "      <th>count</th>\n",
       "      <th>mean</th>\n",
       "      <th>std</th>\n",
       "      <th>min</th>\n",
       "      <th>25%</th>\n",
       "      <th>50%</th>\n",
       "      <th>75%</th>\n",
       "      <th>max</th>\n",
       "    </tr>\n",
       "  </thead>\n",
       "  <tbody>\n",
       "    <tr>\n",
       "      <th>payment_type_id</th>\n",
       "      <td>7043.0</td>\n",
       "      <td>2.315633</td>\n",
       "      <td>1.148907</td>\n",
       "      <td>1.00</td>\n",
       "      <td>1.0</td>\n",
       "      <td>2.00</td>\n",
       "      <td>3.00</td>\n",
       "      <td>4.00</td>\n",
       "    </tr>\n",
       "    <tr>\n",
       "      <th>internet_service_type_id</th>\n",
       "      <td>7043.0</td>\n",
       "      <td>1.872923</td>\n",
       "      <td>0.737796</td>\n",
       "      <td>1.00</td>\n",
       "      <td>1.0</td>\n",
       "      <td>2.00</td>\n",
       "      <td>2.00</td>\n",
       "      <td>3.00</td>\n",
       "    </tr>\n",
       "    <tr>\n",
       "      <th>contract_type_id</th>\n",
       "      <td>7043.0</td>\n",
       "      <td>1.690473</td>\n",
       "      <td>0.833755</td>\n",
       "      <td>1.00</td>\n",
       "      <td>1.0</td>\n",
       "      <td>1.00</td>\n",
       "      <td>2.00</td>\n",
       "      <td>3.00</td>\n",
       "    </tr>\n",
       "    <tr>\n",
       "      <th>senior_citizen</th>\n",
       "      <td>7043.0</td>\n",
       "      <td>0.162147</td>\n",
       "      <td>0.368612</td>\n",
       "      <td>0.00</td>\n",
       "      <td>0.0</td>\n",
       "      <td>0.00</td>\n",
       "      <td>0.00</td>\n",
       "      <td>1.00</td>\n",
       "    </tr>\n",
       "    <tr>\n",
       "      <th>tenure</th>\n",
       "      <td>7043.0</td>\n",
       "      <td>32.371149</td>\n",
       "      <td>24.559481</td>\n",
       "      <td>0.00</td>\n",
       "      <td>9.0</td>\n",
       "      <td>29.00</td>\n",
       "      <td>55.00</td>\n",
       "      <td>72.00</td>\n",
       "    </tr>\n",
       "    <tr>\n",
       "      <th>monthly_charges</th>\n",
       "      <td>7043.0</td>\n",
       "      <td>64.761692</td>\n",
       "      <td>30.090047</td>\n",
       "      <td>18.25</td>\n",
       "      <td>35.5</td>\n",
       "      <td>70.35</td>\n",
       "      <td>89.85</td>\n",
       "      <td>118.75</td>\n",
       "    </tr>\n",
       "  </tbody>\n",
       "</table>\n",
       "</div>"
      ],
      "text/plain": [
       "                           count       mean        std    min   25%    50%  \\\n",
       "payment_type_id           7043.0   2.315633   1.148907   1.00   1.0   2.00   \n",
       "internet_service_type_id  7043.0   1.872923   0.737796   1.00   1.0   2.00   \n",
       "contract_type_id          7043.0   1.690473   0.833755   1.00   1.0   1.00   \n",
       "senior_citizen            7043.0   0.162147   0.368612   0.00   0.0   0.00   \n",
       "tenure                    7043.0  32.371149  24.559481   0.00   9.0  29.00   \n",
       "monthly_charges           7043.0  64.761692  30.090047  18.25  35.5  70.35   \n",
       "\n",
       "                            75%     max  \n",
       "payment_type_id            3.00    4.00  \n",
       "internet_service_type_id   2.00    3.00  \n",
       "contract_type_id           2.00    3.00  \n",
       "senior_citizen             0.00    1.00  \n",
       "tenure                    55.00   72.00  \n",
       "monthly_charges           89.85  118.75  "
      ]
     },
     "execution_count": 7,
     "metadata": {},
     "output_type": "execute_result"
    }
   ],
   "source": [
    "# Get summary statistics for numeric columns.\n",
    "df.describe().T"
   ]
  },
  {
   "cell_type": "code",
   "execution_count": 8,
   "id": "67879b1e",
   "metadata": {},
   "outputs": [
    {
     "name": "stdout",
     "output_type": "stream",
     "text": [
      "0002-ORFBO    1\n",
      "6616-AALSR    1\n",
      "6625-UTXEW    1\n",
      "6625-IUTTT    1\n",
      "6625-FLENO    1\n",
      "             ..\n",
      "3352-RICWQ    1\n",
      "3352-ALMCK    1\n",
      "3351-NQLDI    1\n",
      "3351-NGXYI    1\n",
      "9995-HOTOH    1\n",
      "Name: customer_id, Length: 7043, dtype: int64\n",
      "0002-ORFBO    0.000142\n",
      "6616-AALSR    0.000142\n",
      "6625-UTXEW    0.000142\n",
      "6625-IUTTT    0.000142\n",
      "6625-FLENO    0.000142\n",
      "                ...   \n",
      "3352-RICWQ    0.000142\n",
      "3352-ALMCK    0.000142\n",
      "3351-NQLDI    0.000142\n",
      "3351-NGXYI    0.000142\n",
      "9995-HOTOH    0.000142\n",
      "Name: customer_id, Length: 7043, dtype: float64\n",
      "----------------------\n",
      "Male      3555\n",
      "Female    3488\n",
      "Name: gender, dtype: int64\n",
      "Male      0.504756\n",
      "Female    0.495244\n",
      "Name: gender, dtype: float64\n",
      "----------------------\n",
      "No     3641\n",
      "Yes    3402\n",
      "Name: partner, dtype: int64\n",
      "No     0.516967\n",
      "Yes    0.483033\n",
      "Name: partner, dtype: float64\n",
      "----------------------\n",
      "No     4933\n",
      "Yes    2110\n",
      "Name: dependents, dtype: int64\n",
      "No     0.700412\n",
      "Yes    0.299588\n",
      "Name: dependents, dtype: float64\n",
      "----------------------\n",
      "Yes    6361\n",
      "No      682\n",
      "Name: phone_service, dtype: int64\n",
      "Yes    0.903166\n",
      "No     0.096834\n",
      "Name: phone_service, dtype: float64\n",
      "----------------------\n",
      "No                  3390\n",
      "Yes                 2971\n",
      "No phone service     682\n",
      "Name: multiple_lines, dtype: int64\n",
      "No                  0.481329\n",
      "Yes                 0.421837\n",
      "No phone service    0.096834\n",
      "Name: multiple_lines, dtype: float64\n",
      "----------------------\n",
      "No                     3498\n",
      "Yes                    2019\n",
      "No internet service    1526\n",
      "Name: online_security, dtype: int64\n",
      "No                     0.496663\n",
      "Yes                    0.286668\n",
      "No internet service    0.216669\n",
      "Name: online_security, dtype: float64\n",
      "----------------------\n",
      "No                     3088\n",
      "Yes                    2429\n",
      "No internet service    1526\n",
      "Name: online_backup, dtype: int64\n",
      "No                     0.438450\n",
      "Yes                    0.344881\n",
      "No internet service    0.216669\n",
      "Name: online_backup, dtype: float64\n",
      "----------------------\n",
      "No                     3095\n",
      "Yes                    2422\n",
      "No internet service    1526\n",
      "Name: device_protection, dtype: int64\n",
      "No                     0.439443\n",
      "Yes                    0.343888\n",
      "No internet service    0.216669\n",
      "Name: device_protection, dtype: float64\n",
      "----------------------\n",
      "No                     3473\n",
      "Yes                    2044\n",
      "No internet service    1526\n",
      "Name: tech_support, dtype: int64\n",
      "No                     0.493114\n",
      "Yes                    0.290217\n",
      "No internet service    0.216669\n",
      "Name: tech_support, dtype: float64\n",
      "----------------------\n",
      "No                     2810\n",
      "Yes                    2707\n",
      "No internet service    1526\n",
      "Name: streaming_tv, dtype: int64\n",
      "No                     0.398978\n",
      "Yes                    0.384353\n",
      "No internet service    0.216669\n",
      "Name: streaming_tv, dtype: float64\n",
      "----------------------\n",
      "No                     2785\n",
      "Yes                    2732\n",
      "No internet service    1526\n",
      "Name: streaming_movies, dtype: int64\n",
      "No                     0.395428\n",
      "Yes                    0.387903\n",
      "No internet service    0.216669\n",
      "Name: streaming_movies, dtype: float64\n",
      "----------------------\n",
      "Yes    4171\n",
      "No     2872\n",
      "Name: paperless_billing, dtype: int64\n",
      "Yes    0.592219\n",
      "No     0.407781\n",
      "Name: paperless_billing, dtype: float64\n",
      "----------------------\n",
      "           11\n",
      "20.2       11\n",
      "19.75       9\n",
      "19.9        8\n",
      "20.05       8\n",
      "           ..\n",
      "2387.75     1\n",
      "6302.8      1\n",
      "2058.5      1\n",
      "829.55      1\n",
      "3707.6      1\n",
      "Name: total_charges, Length: 6531, dtype: int64\n",
      "           0.001562\n",
      "20.2       0.001562\n",
      "19.75      0.001278\n",
      "19.9       0.001136\n",
      "20.05      0.001136\n",
      "             ...   \n",
      "2387.75    0.000142\n",
      "6302.8     0.000142\n",
      "2058.5     0.000142\n",
      "829.55     0.000142\n",
      "3707.6     0.000142\n",
      "Name: total_charges, Length: 6531, dtype: float64\n",
      "----------------------\n",
      "No     5174\n",
      "Yes    1869\n",
      "Name: churn, dtype: int64\n",
      "No     0.73463\n",
      "Yes    0.26537\n",
      "Name: churn, dtype: float64\n",
      "----------------------\n",
      "Month-to-month    3875\n",
      "Two year          1695\n",
      "One year          1473\n",
      "Name: contract_type, dtype: int64\n",
      "Month-to-month    0.550192\n",
      "Two year          0.240664\n",
      "One year          0.209144\n",
      "Name: contract_type, dtype: float64\n",
      "----------------------\n",
      "2022-01-31    1869\n",
      "Name: churn_month, dtype: int64\n",
      "None          0.73463\n",
      "2022-01-31    0.26537\n",
      "Name: churn_month, dtype: float64\n",
      "----------------------\n",
      "Fiber optic    3096\n",
      "DSL            2421\n",
      "None           1526\n",
      "Name: internet_service_type, dtype: int64\n",
      "Fiber optic    0.439585\n",
      "DSL            0.343746\n",
      "None           0.216669\n",
      "Name: internet_service_type, dtype: float64\n",
      "----------------------\n",
      "Electronic check             2365\n",
      "Mailed check                 1612\n",
      "Bank transfer (automatic)    1544\n",
      "Credit card (automatic)      1522\n",
      "Name: payment_type, dtype: int64\n",
      "Electronic check             0.335794\n",
      "Mailed check                 0.228880\n",
      "Bank transfer (automatic)    0.219225\n",
      "Credit card (automatic)      0.216101\n",
      "Name: payment_type, dtype: float64\n",
      "----------------------\n"
     ]
    }
   ],
   "source": [
    "# Use .describe with object columns.\n",
    "\n",
    "obj_cols = df.columns[[df[col].dtype == 'O' for col in df.columns]]\n",
    "for col in obj_cols:\n",
    "    print(df[col].value_counts())\n",
    "    print(df[col].value_counts(normalize=True, dropna=False))\n",
    "    print('----------------------')\n"
   ]
  },
  {
   "cell_type": "code",
   "execution_count": 9,
   "id": "e3999b0a",
   "metadata": {},
   "outputs": [
    {
     "data": {
      "text/plain": [
       "churn_month    5174\n",
       "dtype: int64"
      ]
     },
     "execution_count": 9,
     "metadata": {},
     "output_type": "execute_result"
    }
   ],
   "source": [
    "# Find columns with nulls and the total of missing values.\n",
    "missing = df.isnull().sum()\n",
    "missing[missing > 0]"
   ]
  },
  {
   "cell_type": "markdown",
   "id": "cb64328f",
   "metadata": {},
   "source": [
    "# Clean the Data"
   ]
  },
  {
   "cell_type": "code",
   "execution_count": 4,
   "id": "1deac02c",
   "metadata": {},
   "outputs": [
    {
     "data": {
      "text/plain": [
       "(7043, 26)"
      ]
     },
     "execution_count": 4,
     "metadata": {},
     "output_type": "execute_result"
    }
   ],
   "source": [
    "# Drop duplicates, reassign and check the shape of df. *No change to df shape\n",
    "df = df.drop_duplicates()\n",
    "df.shape"
   ]
  },
  {
   "cell_type": "code",
   "execution_count": 5,
   "id": "96c75ec8",
   "metadata": {},
   "outputs": [
    {
     "data": {
      "text/html": [
       "<div>\n",
       "<style scoped>\n",
       "    .dataframe tbody tr th:only-of-type {\n",
       "        vertical-align: middle;\n",
       "    }\n",
       "\n",
       "    .dataframe tbody tr th {\n",
       "        vertical-align: top;\n",
       "    }\n",
       "\n",
       "    .dataframe thead th {\n",
       "        text-align: right;\n",
       "    }\n",
       "</style>\n",
       "<table border=\"1\" class=\"dataframe\">\n",
       "  <thead>\n",
       "    <tr style=\"text-align: right;\">\n",
       "      <th></th>\n",
       "      <th>customer_id</th>\n",
       "      <th>senior_citizen</th>\n",
       "      <th>partner</th>\n",
       "      <th>dependents</th>\n",
       "      <th>tenure</th>\n",
       "      <th>phone_service</th>\n",
       "      <th>paperless_billing</th>\n",
       "      <th>monthly_charges</th>\n",
       "      <th>total_charges</th>\n",
       "      <th>churn</th>\n",
       "      <th>payment_type</th>\n",
       "      <th>payment_encoded</th>\n",
       "      <th>partner_Yes</th>\n",
       "      <th>dependents_Yes</th>\n",
       "      <th>paperless_billing_Yes</th>\n",
       "      <th>churn_Yes</th>\n",
       "    </tr>\n",
       "  </thead>\n",
       "  <tbody>\n",
       "    <tr>\n",
       "      <th>0</th>\n",
       "      <td>0002-ORFBO</td>\n",
       "      <td>0</td>\n",
       "      <td>Yes</td>\n",
       "      <td>Yes</td>\n",
       "      <td>9</td>\n",
       "      <td>Yes</td>\n",
       "      <td>Yes</td>\n",
       "      <td>65.60</td>\n",
       "      <td>593.30</td>\n",
       "      <td>No</td>\n",
       "      <td>Mailed check</td>\n",
       "      <td>0</td>\n",
       "      <td>1</td>\n",
       "      <td>1</td>\n",
       "      <td>1</td>\n",
       "      <td>0</td>\n",
       "    </tr>\n",
       "    <tr>\n",
       "      <th>1</th>\n",
       "      <td>0003-MKNFE</td>\n",
       "      <td>0</td>\n",
       "      <td>No</td>\n",
       "      <td>No</td>\n",
       "      <td>9</td>\n",
       "      <td>Yes</td>\n",
       "      <td>No</td>\n",
       "      <td>59.90</td>\n",
       "      <td>542.40</td>\n",
       "      <td>No</td>\n",
       "      <td>Mailed check</td>\n",
       "      <td>0</td>\n",
       "      <td>0</td>\n",
       "      <td>0</td>\n",
       "      <td>0</td>\n",
       "      <td>0</td>\n",
       "    </tr>\n",
       "    <tr>\n",
       "      <th>2</th>\n",
       "      <td>0004-TLHLJ</td>\n",
       "      <td>0</td>\n",
       "      <td>No</td>\n",
       "      <td>No</td>\n",
       "      <td>4</td>\n",
       "      <td>Yes</td>\n",
       "      <td>Yes</td>\n",
       "      <td>73.90</td>\n",
       "      <td>280.85</td>\n",
       "      <td>Yes</td>\n",
       "      <td>Electronic check</td>\n",
       "      <td>0</td>\n",
       "      <td>0</td>\n",
       "      <td>0</td>\n",
       "      <td>1</td>\n",
       "      <td>1</td>\n",
       "    </tr>\n",
       "    <tr>\n",
       "      <th>3</th>\n",
       "      <td>0011-IGKFF</td>\n",
       "      <td>1</td>\n",
       "      <td>Yes</td>\n",
       "      <td>No</td>\n",
       "      <td>13</td>\n",
       "      <td>Yes</td>\n",
       "      <td>Yes</td>\n",
       "      <td>98.00</td>\n",
       "      <td>1237.85</td>\n",
       "      <td>Yes</td>\n",
       "      <td>Electronic check</td>\n",
       "      <td>0</td>\n",
       "      <td>1</td>\n",
       "      <td>0</td>\n",
       "      <td>1</td>\n",
       "      <td>1</td>\n",
       "    </tr>\n",
       "    <tr>\n",
       "      <th>4</th>\n",
       "      <td>0013-EXCHZ</td>\n",
       "      <td>1</td>\n",
       "      <td>Yes</td>\n",
       "      <td>No</td>\n",
       "      <td>3</td>\n",
       "      <td>Yes</td>\n",
       "      <td>Yes</td>\n",
       "      <td>83.90</td>\n",
       "      <td>267.40</td>\n",
       "      <td>Yes</td>\n",
       "      <td>Mailed check</td>\n",
       "      <td>0</td>\n",
       "      <td>1</td>\n",
       "      <td>0</td>\n",
       "      <td>1</td>\n",
       "      <td>1</td>\n",
       "    </tr>\n",
       "    <tr>\n",
       "      <th>...</th>\n",
       "      <td>...</td>\n",
       "      <td>...</td>\n",
       "      <td>...</td>\n",
       "      <td>...</td>\n",
       "      <td>...</td>\n",
       "      <td>...</td>\n",
       "      <td>...</td>\n",
       "      <td>...</td>\n",
       "      <td>...</td>\n",
       "      <td>...</td>\n",
       "      <td>...</td>\n",
       "      <td>...</td>\n",
       "      <td>...</td>\n",
       "      <td>...</td>\n",
       "      <td>...</td>\n",
       "      <td>...</td>\n",
       "    </tr>\n",
       "    <tr>\n",
       "      <th>7038</th>\n",
       "      <td>9987-LUTYD</td>\n",
       "      <td>0</td>\n",
       "      <td>No</td>\n",
       "      <td>No</td>\n",
       "      <td>13</td>\n",
       "      <td>Yes</td>\n",
       "      <td>No</td>\n",
       "      <td>55.15</td>\n",
       "      <td>742.90</td>\n",
       "      <td>No</td>\n",
       "      <td>Mailed check</td>\n",
       "      <td>0</td>\n",
       "      <td>0</td>\n",
       "      <td>0</td>\n",
       "      <td>0</td>\n",
       "      <td>0</td>\n",
       "    </tr>\n",
       "    <tr>\n",
       "      <th>7039</th>\n",
       "      <td>9992-RRAMN</td>\n",
       "      <td>0</td>\n",
       "      <td>Yes</td>\n",
       "      <td>No</td>\n",
       "      <td>22</td>\n",
       "      <td>Yes</td>\n",
       "      <td>Yes</td>\n",
       "      <td>85.10</td>\n",
       "      <td>1873.70</td>\n",
       "      <td>Yes</td>\n",
       "      <td>Electronic check</td>\n",
       "      <td>0</td>\n",
       "      <td>1</td>\n",
       "      <td>0</td>\n",
       "      <td>1</td>\n",
       "      <td>1</td>\n",
       "    </tr>\n",
       "    <tr>\n",
       "      <th>7040</th>\n",
       "      <td>9992-UJOEL</td>\n",
       "      <td>0</td>\n",
       "      <td>No</td>\n",
       "      <td>No</td>\n",
       "      <td>2</td>\n",
       "      <td>Yes</td>\n",
       "      <td>Yes</td>\n",
       "      <td>50.30</td>\n",
       "      <td>92.75</td>\n",
       "      <td>No</td>\n",
       "      <td>Mailed check</td>\n",
       "      <td>0</td>\n",
       "      <td>0</td>\n",
       "      <td>0</td>\n",
       "      <td>1</td>\n",
       "      <td>0</td>\n",
       "    </tr>\n",
       "    <tr>\n",
       "      <th>7041</th>\n",
       "      <td>9993-LHIEB</td>\n",
       "      <td>0</td>\n",
       "      <td>Yes</td>\n",
       "      <td>Yes</td>\n",
       "      <td>67</td>\n",
       "      <td>Yes</td>\n",
       "      <td>No</td>\n",
       "      <td>67.85</td>\n",
       "      <td>4627.65</td>\n",
       "      <td>No</td>\n",
       "      <td>Mailed check</td>\n",
       "      <td>0</td>\n",
       "      <td>1</td>\n",
       "      <td>1</td>\n",
       "      <td>0</td>\n",
       "      <td>0</td>\n",
       "    </tr>\n",
       "    <tr>\n",
       "      <th>7042</th>\n",
       "      <td>9995-HOTOH</td>\n",
       "      <td>0</td>\n",
       "      <td>Yes</td>\n",
       "      <td>Yes</td>\n",
       "      <td>63</td>\n",
       "      <td>No</td>\n",
       "      <td>No</td>\n",
       "      <td>59.00</td>\n",
       "      <td>3707.60</td>\n",
       "      <td>No</td>\n",
       "      <td>Electronic check</td>\n",
       "      <td>0</td>\n",
       "      <td>1</td>\n",
       "      <td>1</td>\n",
       "      <td>0</td>\n",
       "      <td>0</td>\n",
       "    </tr>\n",
       "  </tbody>\n",
       "</table>\n",
       "<p>7043 rows × 16 columns</p>\n",
       "</div>"
      ],
      "text/plain": [
       "     customer_id  senior_citizen partner dependents  tenure phone_service  \\\n",
       "0     0002-ORFBO               0     Yes        Yes       9           Yes   \n",
       "1     0003-MKNFE               0      No         No       9           Yes   \n",
       "2     0004-TLHLJ               0      No         No       4           Yes   \n",
       "3     0011-IGKFF               1     Yes         No      13           Yes   \n",
       "4     0013-EXCHZ               1     Yes         No       3           Yes   \n",
       "...          ...             ...     ...        ...     ...           ...   \n",
       "7038  9987-LUTYD               0      No         No      13           Yes   \n",
       "7039  9992-RRAMN               0     Yes         No      22           Yes   \n",
       "7040  9992-UJOEL               0      No         No       2           Yes   \n",
       "7041  9993-LHIEB               0     Yes        Yes      67           Yes   \n",
       "7042  9995-HOTOH               0     Yes        Yes      63            No   \n",
       "\n",
       "     paperless_billing  monthly_charges  total_charges churn  \\\n",
       "0                  Yes            65.60         593.30    No   \n",
       "1                   No            59.90         542.40    No   \n",
       "2                  Yes            73.90         280.85   Yes   \n",
       "3                  Yes            98.00        1237.85   Yes   \n",
       "4                  Yes            83.90         267.40   Yes   \n",
       "...                ...              ...            ...   ...   \n",
       "7038                No            55.15         742.90    No   \n",
       "7039               Yes            85.10        1873.70   Yes   \n",
       "7040               Yes            50.30          92.75    No   \n",
       "7041                No            67.85        4627.65    No   \n",
       "7042                No            59.00        3707.60    No   \n",
       "\n",
       "          payment_type  payment_encoded  partner_Yes  dependents_Yes  \\\n",
       "0         Mailed check                0            1               1   \n",
       "1         Mailed check                0            0               0   \n",
       "2     Electronic check                0            0               0   \n",
       "3     Electronic check                0            1               0   \n",
       "4         Mailed check                0            1               0   \n",
       "...                ...              ...          ...             ...   \n",
       "7038      Mailed check                0            0               0   \n",
       "7039  Electronic check                0            1               0   \n",
       "7040      Mailed check                0            0               0   \n",
       "7041      Mailed check                0            1               1   \n",
       "7042  Electronic check                0            1               1   \n",
       "\n",
       "      paperless_billing_Yes  churn_Yes  \n",
       "0                         1          0  \n",
       "1                         0          0  \n",
       "2                         1          1  \n",
       "3                         1          1  \n",
       "4                         1          1  \n",
       "...                     ...        ...  \n",
       "7038                      0          0  \n",
       "7039                      1          1  \n",
       "7040                      1          0  \n",
       "7041                      0          0  \n",
       "7042                      0          0  \n",
       "\n",
       "[7043 rows x 16 columns]"
      ]
     },
     "execution_count": 5,
     "metadata": {},
     "output_type": "execute_result"
    }
   ],
   "source": [
    "df = w.prep_telco_2()\n",
    "df"
   ]
  },
  {
   "cell_type": "code",
   "execution_count": 32,
   "id": "e51dc942",
   "metadata": {},
   "outputs": [],
   "source": [
    "# encoding payment type automatic payment equals 1 and non_automatic equals 0\n",
    "df[\"payment_encoded\"] = df.payment_type.map({\"Bank transfer (automatic)\": 1, \"Credit card (automatic)\": 1, \"Mailed check\": 0, \"Electronic check\": 0})"
   ]
  },
  {
   "cell_type": "code",
   "execution_count": 36,
   "id": "a9b94185",
   "metadata": {},
   "outputs": [
    {
     "data": {
      "text/plain": [
       "0    3977\n",
       "1    3066\n",
       "Name: payment_encoded, dtype: int64"
      ]
     },
     "execution_count": 36,
     "metadata": {},
     "output_type": "execute_result"
    }
   ],
   "source": [
    "df.payment_encoded.value_counts()"
   ]
  },
  {
   "cell_type": "code",
   "execution_count": 37,
   "id": "2498d053",
   "metadata": {},
   "outputs": [
    {
     "data": {
      "text/plain": [
       "Electronic check             2365\n",
       "Mailed check                 1612\n",
       "Bank transfer (automatic)    1544\n",
       "Credit card (automatic)      1522\n",
       "Name: payment_type, dtype: int64"
      ]
     },
     "execution_count": 37,
     "metadata": {},
     "output_type": "execute_result"
    }
   ],
   "source": [
    "df.payment_type.value_counts()"
   ]
  },
  {
   "cell_type": "code",
   "execution_count": 17,
   "id": "53be21bd",
   "metadata": {},
   "outputs": [],
   "source": [
    "df1 = df[[\"partner_Yes\", \"dependents_Yes\", \"paperless_billing_Yes\", \"payment_encoded\", \"churn_Yes\"]]"
   ]
  },
  {
   "cell_type": "code",
   "execution_count": 18,
   "id": "40995bb5",
   "metadata": {},
   "outputs": [
    {
     "data": {
      "text/html": [
       "<div>\n",
       "<style scoped>\n",
       "    .dataframe tbody tr th:only-of-type {\n",
       "        vertical-align: middle;\n",
       "    }\n",
       "\n",
       "    .dataframe tbody tr th {\n",
       "        vertical-align: top;\n",
       "    }\n",
       "\n",
       "    .dataframe thead th {\n",
       "        text-align: right;\n",
       "    }\n",
       "</style>\n",
       "<table border=\"1\" class=\"dataframe\">\n",
       "  <thead>\n",
       "    <tr style=\"text-align: right;\">\n",
       "      <th></th>\n",
       "      <th>partner_Yes</th>\n",
       "      <th>dependents_Yes</th>\n",
       "      <th>paperless_billing_Yes</th>\n",
       "      <th>payment_encoded</th>\n",
       "      <th>churn_Yes</th>\n",
       "    </tr>\n",
       "  </thead>\n",
       "  <tbody>\n",
       "    <tr>\n",
       "      <th>0</th>\n",
       "      <td>1</td>\n",
       "      <td>1</td>\n",
       "      <td>1</td>\n",
       "      <td>0</td>\n",
       "      <td>0</td>\n",
       "    </tr>\n",
       "    <tr>\n",
       "      <th>1</th>\n",
       "      <td>0</td>\n",
       "      <td>0</td>\n",
       "      <td>0</td>\n",
       "      <td>0</td>\n",
       "      <td>0</td>\n",
       "    </tr>\n",
       "    <tr>\n",
       "      <th>2</th>\n",
       "      <td>0</td>\n",
       "      <td>0</td>\n",
       "      <td>1</td>\n",
       "      <td>0</td>\n",
       "      <td>1</td>\n",
       "    </tr>\n",
       "    <tr>\n",
       "      <th>3</th>\n",
       "      <td>1</td>\n",
       "      <td>0</td>\n",
       "      <td>1</td>\n",
       "      <td>0</td>\n",
       "      <td>1</td>\n",
       "    </tr>\n",
       "    <tr>\n",
       "      <th>4</th>\n",
       "      <td>1</td>\n",
       "      <td>0</td>\n",
       "      <td>1</td>\n",
       "      <td>0</td>\n",
       "      <td>1</td>\n",
       "    </tr>\n",
       "    <tr>\n",
       "      <th>...</th>\n",
       "      <td>...</td>\n",
       "      <td>...</td>\n",
       "      <td>...</td>\n",
       "      <td>...</td>\n",
       "      <td>...</td>\n",
       "    </tr>\n",
       "    <tr>\n",
       "      <th>7038</th>\n",
       "      <td>0</td>\n",
       "      <td>0</td>\n",
       "      <td>0</td>\n",
       "      <td>0</td>\n",
       "      <td>0</td>\n",
       "    </tr>\n",
       "    <tr>\n",
       "      <th>7039</th>\n",
       "      <td>1</td>\n",
       "      <td>0</td>\n",
       "      <td>1</td>\n",
       "      <td>0</td>\n",
       "      <td>1</td>\n",
       "    </tr>\n",
       "    <tr>\n",
       "      <th>7040</th>\n",
       "      <td>0</td>\n",
       "      <td>0</td>\n",
       "      <td>1</td>\n",
       "      <td>0</td>\n",
       "      <td>0</td>\n",
       "    </tr>\n",
       "    <tr>\n",
       "      <th>7041</th>\n",
       "      <td>1</td>\n",
       "      <td>1</td>\n",
       "      <td>0</td>\n",
       "      <td>0</td>\n",
       "      <td>0</td>\n",
       "    </tr>\n",
       "    <tr>\n",
       "      <th>7042</th>\n",
       "      <td>1</td>\n",
       "      <td>1</td>\n",
       "      <td>0</td>\n",
       "      <td>0</td>\n",
       "      <td>0</td>\n",
       "    </tr>\n",
       "  </tbody>\n",
       "</table>\n",
       "<p>7043 rows × 5 columns</p>\n",
       "</div>"
      ],
      "text/plain": [
       "      partner_Yes  dependents_Yes  paperless_billing_Yes  payment_encoded  \\\n",
       "0               1               1                      1                0   \n",
       "1               0               0                      0                0   \n",
       "2               0               0                      1                0   \n",
       "3               1               0                      1                0   \n",
       "4               1               0                      1                0   \n",
       "...           ...             ...                    ...              ...   \n",
       "7038            0               0                      0                0   \n",
       "7039            1               0                      1                0   \n",
       "7040            0               0                      1                0   \n",
       "7041            1               1                      0                0   \n",
       "7042            1               1                      0                0   \n",
       "\n",
       "      churn_Yes  \n",
       "0             0  \n",
       "1             0  \n",
       "2             1  \n",
       "3             1  \n",
       "4             1  \n",
       "...         ...  \n",
       "7038          0  \n",
       "7039          1  \n",
       "7040          0  \n",
       "7041          0  \n",
       "7042          0  \n",
       "\n",
       "[7043 rows x 5 columns]"
      ]
     },
     "execution_count": 18,
     "metadata": {},
     "output_type": "execute_result"
    }
   ],
   "source": [
    "df1"
   ]
  },
  {
   "cell_type": "code",
   "execution_count": 19,
   "id": "e5c481d5",
   "metadata": {},
   "outputs": [],
   "source": [
    "# cleaning column names for easier recall and because it's formal\n",
    "df1 = df1.rename(columns={\"partner_Yes\": \"partner\", \"dependents_Yes\": \"dependents\", \"paperless_billing_Yes\": \"paperless_billing\", \"payment_encoded\": \"automatic_payment\", \"churn_Yes\": \"churn\" })"
   ]
  },
  {
   "cell_type": "markdown",
   "id": "3cb0f0ab",
   "metadata": {},
   "source": [
    "# Split data "
   ]
  },
  {
   "cell_type": "code",
   "execution_count": 52,
   "id": "444a9a17",
   "metadata": {},
   "outputs": [],
   "source": [
    "target = \"churn\""
   ]
  },
  {
   "cell_type": "code",
   "execution_count": 26,
   "id": "a59f4345",
   "metadata": {},
   "outputs": [],
   "source": [
    "train, validate, test = w.split_data(df1,target)"
   ]
  },
  {
   "cell_type": "code",
   "execution_count": 29,
   "id": "2946d12c",
   "metadata": {},
   "outputs": [],
   "source": [
    "# Validate split.\n",
    "def valid_split(train, validate, test):\n",
    "    print(f'train -> {train.shape}')\n",
    "    print(f'validate -> {validate.shape}')\n",
    "    print(f'test -> {test.shape}')"
   ]
  },
  {
   "cell_type": "code",
   "execution_count": 30,
   "id": "20f962c4",
   "metadata": {},
   "outputs": [
    {
     "name": "stdout",
     "output_type": "stream",
     "text": [
      "train -> (4225, 5)\n",
      "validate -> (1409, 5)\n",
      "test -> (1409, 5)\n"
     ]
    }
   ],
   "source": [
    "valid_split(train, validate, test)"
   ]
  },
  {
   "cell_type": "code",
   "execution_count": 31,
   "id": "cd6473e7",
   "metadata": {},
   "outputs": [
    {
     "name": "stdout",
     "output_type": "stream",
     "text": [
      "<class 'pandas.core.frame.DataFrame'>\n",
      "Int64Index: 4225 entries, 5911 to 3586\n",
      "Data columns (total 5 columns):\n",
      " #   Column             Non-Null Count  Dtype\n",
      "---  ------             --------------  -----\n",
      " 0   partner            4225 non-null   uint8\n",
      " 1   dependents         4225 non-null   uint8\n",
      " 2   paperless_billing  4225 non-null   uint8\n",
      " 3   automatic_payment  4225 non-null   int64\n",
      " 4   churn              4225 non-null   uint8\n",
      "dtypes: int64(1), uint8(4)\n",
      "memory usage: 82.5 KB\n"
     ]
    }
   ],
   "source": [
    "train.info()"
   ]
  },
  {
   "cell_type": "code",
   "execution_count": 33,
   "id": "31237923",
   "metadata": {},
   "outputs": [
    {
     "data": {
      "text/html": [
       "<div>\n",
       "<style scoped>\n",
       "    .dataframe tbody tr th:only-of-type {\n",
       "        vertical-align: middle;\n",
       "    }\n",
       "\n",
       "    .dataframe tbody tr th {\n",
       "        vertical-align: top;\n",
       "    }\n",
       "\n",
       "    .dataframe thead th {\n",
       "        text-align: right;\n",
       "    }\n",
       "</style>\n",
       "<table border=\"1\" class=\"dataframe\">\n",
       "  <thead>\n",
       "    <tr style=\"text-align: right;\">\n",
       "      <th></th>\n",
       "      <th>partner</th>\n",
       "      <th>dependents</th>\n",
       "      <th>paperless_billing</th>\n",
       "      <th>automatic_payment</th>\n",
       "      <th>churn</th>\n",
       "    </tr>\n",
       "  </thead>\n",
       "  <tbody>\n",
       "    <tr>\n",
       "      <th>5911</th>\n",
       "      <td>0</td>\n",
       "      <td>1</td>\n",
       "      <td>1</td>\n",
       "      <td>1</td>\n",
       "      <td>0</td>\n",
       "    </tr>\n",
       "    <tr>\n",
       "      <th>2479</th>\n",
       "      <td>1</td>\n",
       "      <td>0</td>\n",
       "      <td>0</td>\n",
       "      <td>0</td>\n",
       "      <td>0</td>\n",
       "    </tr>\n",
       "    <tr>\n",
       "      <th>5889</th>\n",
       "      <td>0</td>\n",
       "      <td>0</td>\n",
       "      <td>1</td>\n",
       "      <td>0</td>\n",
       "      <td>1</td>\n",
       "    </tr>\n",
       "    <tr>\n",
       "      <th>6087</th>\n",
       "      <td>0</td>\n",
       "      <td>0</td>\n",
       "      <td>1</td>\n",
       "      <td>1</td>\n",
       "      <td>0</td>\n",
       "    </tr>\n",
       "    <tr>\n",
       "      <th>785</th>\n",
       "      <td>0</td>\n",
       "      <td>0</td>\n",
       "      <td>0</td>\n",
       "      <td>1</td>\n",
       "      <td>0</td>\n",
       "    </tr>\n",
       "  </tbody>\n",
       "</table>\n",
       "</div>"
      ],
      "text/plain": [
       "      partner  dependents  paperless_billing  automatic_payment  churn\n",
       "5911        0           1                  1                  1      0\n",
       "2479        1           0                  0                  0      0\n",
       "5889        0           0                  1                  0      1\n",
       "6087        0           0                  1                  1      0\n",
       "785         0           0                  0                  1      0"
      ]
     },
     "execution_count": 33,
     "metadata": {},
     "output_type": "execute_result"
    }
   ],
   "source": [
    "train.head()"
   ]
  },
  {
   "cell_type": "markdown",
   "id": "69ddcda9",
   "metadata": {},
   "source": [
    "# QUESTION 1: Do customers that have an automatic payment type more or less likely to churn?\n",
    "\n",
    "* What's the relationship between churn and payment type?"
   ]
  },
  {
   "cell_type": "code",
   "execution_count": 36,
   "id": "89803561",
   "metadata": {},
   "outputs": [
    {
     "data": {
      "image/png": "[encoded data removed]",
      "text/plain": [
       "<Figure size 640x480 with 1 Axes>"
      ]
     },
     "metadata": {},
     "output_type": "display_data"
    }
   ],
   "source": [
    "plt.title(\"What's the Relationship Between Churn and Automatic Payment Type?\")\n",
    "sns.barplot(x=\"automatic_payment\", y=\"churn\", data=train)\n",
    "population_churn_rate = train.churn.mean()\n",
    "plt.axhline(population_churn_rate, label=\"Population Churn Rate\")\n",
    "plt.legend()\n",
    "plt.show()"
   ]
  },
  {
   "cell_type": "code",
   "execution_count": 61,
   "id": "b4fba55f",
   "metadata": {},
   "outputs": [],
   "source": [
    "# Setup a crosstab of observed survival to pclass\n",
    "def cross_function(train, target_variable, feature_variable, null_hypothesis, alternative_hypothesis):\n",
    "    '''\n",
    "    This function will take the train df, target_variable, and feature_variable\n",
    "    '''\n",
    "    observed = pd.crosstab(train[target_variable], train[feature_variable])\n",
    "\n",
    "    chi2, p, degf, expected = stats.chi2_contingency(observed)\n",
    "\n",
    "    if p < alpha:\n",
    "        print(f\"Reject the null hypothesis: {null_hypothesis}\")\n",
    "        print(f\"Sufficient evidence to move forward understanding that, {alternative_hypothesis}\")\n",
    "    else:\n",
    "        print(\"Fail to reject the null\")\n",
    "        print(\"Insufficient evidence to reject the null\")\n",
    "    return p"
   ]
  },
  {
   "cell_type": "code",
   "execution_count": 63,
   "id": "f9e3e3db",
   "metadata": {},
   "outputs": [
    {
     "name": "stdout",
     "output_type": "stream",
     "text": [
      "Reject the null hypothesis: churn and automatic payment are independent\n",
      "Sufficient evidence to move forward understanding that, there is a relationship between automatic payment and churn\n"
     ]
    },
    {
     "data": {
      "text/plain": [
       "1.2588150001387785e-45"
      ]
     },
     "execution_count": 63,
     "metadata": {},
     "output_type": "execute_result"
    }
   ],
   "source": [
    "# Chi squared to compare proportions, define confidence\n",
    "alpha_Q1 = 0.05\n",
    "target_Q1 = \"churn\"\n",
    "feature_variable_Q1 = \"automatic_payment\"\n",
    "null_hypothesis_Q1 = \"churn and automatic payment are independent\"\n",
    "alternative_hypothesis_Q1 = \"there is a relationship between automatic payment and churn\"\n",
    "\n",
    "cross_function(train, target, feature_variable_Q1, null_hypothesis_Q1, alternative_hypothesis_Q1)"
   ]
  },
  {
   "cell_type": "markdown",
   "id": "c53671aa",
   "metadata": {},
   "source": [
    "# Question 2:  Do customers that have paperless billing more or less likely to churn?\n",
    "* What's the relationship between churn and paperless billing?"
   ]
  },
  {
   "cell_type": "code",
   "execution_count": 47,
   "id": "e34eb191",
   "metadata": {},
   "outputs": [
    {
     "data": {
      "image/png": "[encoded data removed]",
      "text/plain": [
       "<Figure size 640x480 with 1 Axes>"
      ]
     },
     "metadata": {},
     "output_type": "display_data"
    }
   ],
   "source": [
    "plt.title(\"What's the Relationship Between Churn and paperless billing?\")\n",
    "sns.barplot(x=\"paperless_billing\", y=\"churn\", data=train)\n",
    "population_churn_rate = train.churn.mean()\n",
    "plt.axhline(population_churn_rate, label=\"Population Churn Rate\")\n",
    "plt.legend()\n",
    "plt.show()"
   ]
  },
  {
   "cell_type": "code",
   "execution_count": 64,
   "id": "ee057a1d",
   "metadata": {},
   "outputs": [
    {
     "name": "stdout",
     "output_type": "stream",
     "text": [
      "Reject the null hypothesis: churn and paperless_billing are independent\n",
      "Sufficient evidence to move forward understanding that, there is a relationship between paperless_billing and churn\n"
     ]
    },
    {
     "data": {
      "text/plain": [
       "3.5348504574964642e-34"
      ]
     },
     "execution_count": 64,
     "metadata": {},
     "output_type": "execute_result"
    }
   ],
   "source": [
    "# Chi squared to compare proportions, define confidence\n",
    "alpha_Q2 = 0.05\n",
    "target_Q2 = \"churn\"\n",
    "feature_variable_Q2 = \"paperless_billing\"\n",
    "null_hypothesis_Q2 = \"churn and paperless_billing are independent\"\n",
    "alternative_hypothesis_Q2 = \"there is a relationship between paperless_billing and churn\"\n",
    "\n",
    "cross_function(train, target, feature_variable_Q2, null_hypothesis_Q2, alternative_hypothesis_Q2)"
   ]
  },
  {
   "cell_type": "markdown",
   "id": "c07bb76c",
   "metadata": {},
   "source": [
    "# Question 3: Do customers that have partner more or less likely to churn?\n",
    "* What's the relationship between churn and customers' with partners?"
   ]
  },
  {
   "cell_type": "code",
   "execution_count": 65,
   "id": "100614d9",
   "metadata": {},
   "outputs": [
    {
     "data": {
      "image/png": "[encoded data removed]",
      "text/plain": [
       "<Figure size 640x480 with 1 Axes>"
      ]
     },
     "metadata": {},
     "output_type": "display_data"
    }
   ],
   "source": [
    "plt.title(\"What's the Relationship Between Churn and Customers' with Partners\")\n",
    "sns.barplot(x=\"partner\", y=\"churn\", data=train)\n",
    "population_churn_rate = train.churn.mean()\n",
    "plt.axhline(population_churn_rate, label=\"Population Churn Rate\")\n",
    "plt.legend()\n",
    "plt.show()"
   ]
  },
  {
   "cell_type": "code",
   "execution_count": 66,
   "id": "cd3a2881",
   "metadata": {},
   "outputs": [
    {
     "name": "stdout",
     "output_type": "stream",
     "text": [
      "Reject the null hypothesis: churn and customers' with partners are independent\n",
      "Sufficient evidence to move forward understanding that, there is a relationship between customers' with partners and churn\n"
     ]
    },
    {
     "data": {
      "text/plain": [
       "5.362120825511991e-25"
      ]
     },
     "execution_count": 66,
     "metadata": {},
     "output_type": "execute_result"
    }
   ],
   "source": [
    "# Chi squared to compare proportions, define confidence\n",
    "alpha_Q3 = 0.05\n",
    "target_Q3 = \"churn\"\n",
    "feature_variable_Q3 = \"partner\"\n",
    "null_hypothesis_Q3 = \"churn and customers' with partners are independent\"\n",
    "alternative_hypothesis_Q3 = \"there is a relationship between customers' with partners and churn\"\n",
    "\n",
    "cross_function(train, target, feature_variable_Q3, null_hypothesis_Q3, alternative_hypothesis_Q3)"
   ]
  },
  {
   "cell_type": "markdown",
   "id": "d7d4e52f",
   "metadata": {},
   "source": [
    "# Question 4: Do customers that have dependents more or less likely to churn?\n",
    "* What's the relationship between churn and customers' with dependents?"
   ]
  },
  {
   "cell_type": "code",
   "execution_count": 46,
   "id": "e2cd4256",
   "metadata": {},
   "outputs": [
    {
     "data": {
      "image/png": "[encoded data removed]",
      "text/plain": [
       "<Figure size 640x480 with 1 Axes>"
      ]
     },
     "metadata": {},
     "output_type": "display_data"
    }
   ],
   "source": [
    "plt.title(\"What's the Relationship Between Churn and Customers' with Dependents\")\n",
    "sns.barplot(x=\"dependents\", y=\"churn\", data=train)\n",
    "population_churn_rate = train.churn.mean()\n",
    "plt.axhline(population_churn_rate, label=\"Population Churn Rate\")\n",
    "plt.legend()\n",
    "plt.show()"
   ]
  },
  {
   "cell_type": "code",
   "execution_count": 67,
   "id": "068e0ac2",
   "metadata": {},
   "outputs": [
    {
     "name": "stdout",
     "output_type": "stream",
     "text": [
      "Reject the null hypothesis: churn and customers' with dependents are independent\n",
      "Sufficient evidence to move forward understanding that, there is a relationship between customers' with dependents and churn\n"
     ]
    },
    {
     "data": {
      "text/plain": [
       "4.0728740930257527e-26"
      ]
     },
     "execution_count": 67,
     "metadata": {},
     "output_type": "execute_result"
    }
   ],
   "source": [
    "alpha_Q4 = 0.05\n",
    "target_Q4 = \"churn\"\n",
    "feature_variable_Q4 = \"dependents\"\n",
    "null_hypothesis_Q4 = \"churn and customers' with dependents are independent\"\n",
    "alternative_hypothesis_Q4 = \"there is a relationship between customers' with dependents and churn\"\n",
    "\n",
    "cross_function(train, target, feature_variable_Q4, null_hypothesis_Q4, alternative_hypothesis_Q4)"
   ]
  },
  {
   "cell_type": "markdown",
   "id": "842ca08e",
   "metadata": {},
   "source": [
    "* positive class:  not churned\n",
    "* negative class:  churned"
   ]
  },
  {
   "cell_type": "markdown",
   "id": "5f4ac545",
   "metadata": {},
   "source": [
    "# Decision Tree Model  "
   ]
  },
  {
   "cell_type": "code",
   "execution_count": 158,
   "id": "204819be",
   "metadata": {},
   "outputs": [],
   "source": [
    "def create_x_y(train, validate, test, target):\n",
    "    \"\"\"\n",
    "    This function creates x and y variables for either a decision tree or a random forest, \n",
    "    by using the unsplit df, target variable columns name and column to drop, for multiple columns that need to be \n",
    "    dropped create a list of the columns0\n",
    "    The arguments taken in are train, validate, test, target, drop_col=[])\n",
    "    The function returns x_train, y_train, x_validate, y_validate, x_test, y_test\n",
    "    \"\"\"\n",
    "    # separates train target variable\n",
    "    x_train = train.drop(columns=[target])\n",
    "    y_train = train[target]\n",
    "    # validate \n",
    "    x_validate = validate.drop(columns=[target])\n",
    "    y_validate = validate[target]\n",
    "\n",
    "    # test\n",
    "    x_test = test.drop(columns=[target])\n",
    "    y_test = test[target]\n",
    "    \n",
    "    return x_train, y_train, x_validate, y_validate, x_test, y_test"
   ]
  },
  {
   "cell_type": "code",
   "execution_count": 175,
   "id": "6e9c1fad",
   "metadata": {},
   "outputs": [
    {
     "data": {
      "text/plain": [
       "0.7346745562130178"
      ]
     },
     "execution_count": 175,
     "metadata": {},
     "output_type": "execute_result"
    }
   ],
   "source": [
    "# creating baseline:  1's = churned & 0's = not churned  baseline accuracy = 0.7346745562130178\n",
    "# positive if not churned\n",
    "baseline_accuracy = (train.churn == 0).mean()\n",
    "baseline_accuracy\n"
   ]
  },
  {
   "cell_type": "code",
   "execution_count": 163,
   "id": "0a518485",
   "metadata": {},
   "outputs": [],
   "source": [
    "# using a function to get x & y variables for the split dataset\n",
    "x_train, y_train, x_validate, y_validate, x_test, y_test = create_x_y(train, validate, test, target)"
   ]
  },
  {
   "cell_type": "code",
   "execution_count": 173,
   "id": "0843754b",
   "metadata": {},
   "outputs": [
    {
     "data": {
      "text/plain": [
       "0.7196593328601846"
      ]
     },
     "execution_count": 173,
     "metadata": {},
     "output_type": "execute_result"
    }
   ],
   "source": [
    "# create object \n",
    "tree = DecisionTreeClassifier(random_state=3)\n",
    "\n",
    "# model.fit(x, y)\n",
    "tree = tree.fit(x_train, y_train)\n",
    "\n",
    "# score for train = 0.7401183431952663 --- this is greater than the baseline\n",
    "train_accuracy = tree.score(x_train, y_train)\n",
    "\n",
    "# score for validate = 0.7196593328601846 --- this is less than the baseline\n",
    "validate_accuracy = tree.score(x_validate, y_validate)\n",
    "validate_accuracy"
   ]
  },
  {
   "cell_type": "code",
   "execution_count": 172,
   "id": "2f9e0686",
   "metadata": {},
   "outputs": [],
   "source": [
    "# make prediction on train obeservations\n",
    "y_pred = tree.predict(x_train)\n",
    "\n",
    "#estimate probablility \n",
    "y_pred_proba = tree.predict_proba(x_train)"
   ]
  },
  {
   "cell_type": "code",
   "execution_count": 124,
   "id": "02073931",
   "metadata": {},
   "outputs": [
    {
     "data": {
      "text/html": [
       "<div>\n",
       "<style scoped>\n",
       "    .dataframe tbody tr th:only-of-type {\n",
       "        vertical-align: middle;\n",
       "    }\n",
       "\n",
       "    .dataframe tbody tr th {\n",
       "        vertical-align: top;\n",
       "    }\n",
       "\n",
       "    .dataframe thead th {\n",
       "        text-align: right;\n",
       "    }\n",
       "</style>\n",
       "<table border=\"1\" class=\"dataframe\">\n",
       "  <thead>\n",
       "    <tr style=\"text-align: right;\">\n",
       "      <th></th>\n",
       "      <th>0_predict</th>\n",
       "      <th>1_predict</th>\n",
       "    </tr>\n",
       "  </thead>\n",
       "  <tbody>\n",
       "    <tr>\n",
       "      <th>0_actual</th>\n",
       "      <td>2724</td>\n",
       "      <td>380</td>\n",
       "    </tr>\n",
       "    <tr>\n",
       "      <th>1_actual</th>\n",
       "      <td>718</td>\n",
       "      <td>403</td>\n",
       "    </tr>\n",
       "  </tbody>\n",
       "</table>\n",
       "</div>"
      ],
      "text/plain": [
       "          0_predict  1_predict\n",
       "0_actual       2724        380\n",
       "1_actual        718        403"
      ]
     },
     "execution_count": 124,
     "metadata": {},
     "output_type": "execute_result"
    }
   ],
   "source": [
    "# create confusion matrix\n",
    "conf = confusion_matrix(y_train, y_pred)\n",
    "\n",
    "# nice dataframe with conf\n",
    "labels = sorted(y_train.unique())\n",
    "pd.DataFrame(conf,\n",
    "            index=[str(label) + '_actual'for label in labels],\n",
    "            columns=[str(label) + '_predict'for label in labels])"
   ]
  },
  {
   "cell_type": "code",
   "execution_count": 137,
   "id": "7d29cf2f",
   "metadata": {},
   "outputs": [
    {
     "data": {
      "text/plain": [
       "2724"
      ]
     },
     "execution_count": 137,
     "metadata": {},
     "output_type": "execute_result"
    }
   ],
   "source": [
    "TP, FP, FN, TN = conf.ravel()\n",
    "TP"
   ]
  },
  {
   "cell_type": "code",
   "execution_count": 139,
   "id": "4dbcb68d",
   "metadata": {},
   "outputs": [
    {
     "data": {
      "text/plain": [
       "0.7401183431952663"
      ]
     },
     "execution_count": 139,
     "metadata": {},
     "output_type": "execute_result"
    }
   ],
   "source": [
    "# check accuracy \n",
    "accuracy_score(y_train, y_pred)"
   ]
  },
  {
   "cell_type": "markdown",
   "id": "5678c06d",
   "metadata": {},
   "source": [
    "# Random Forest model"
   ]
  },
  {
   "cell_type": "code",
   "execution_count": 177,
   "id": "e83d3b72",
   "metadata": {},
   "outputs": [
    {
     "name": "stdout",
     "output_type": "stream",
     "text": [
      "[0.11720507 0.15751509 0.31153932 0.41374053]\n"
     ]
    }
   ],
   "source": [
    "# create object\n",
    "rf = RandomForestClassifier(random_state=3)\n",
    "\n",
    "# fit model\n",
    "rf.fit(x_train, y_train)\n",
    "\n",
    "# evaluate feature importance\n",
    "print(rf.feature_importances_)"
   ]
  },
  {
   "cell_type": "code",
   "execution_count": 178,
   "id": "8eab2c31",
   "metadata": {},
   "outputs": [],
   "source": [
    "# create prdictions\n",
    "y_pred_rf = rf.predict(x_train)\n",
    "\n",
    "# Estimate the probability\n",
    "y_pred_proba_rf = rf.predict_proba(x_train)\n"
   ]
  },
  {
   "cell_type": "code",
   "execution_count": 184,
   "id": "8580b8b9",
   "metadata": {},
   "outputs": [
    {
     "data": {
      "text/html": [
       "<div>\n",
       "<style scoped>\n",
       "    .dataframe tbody tr th:only-of-type {\n",
       "        vertical-align: middle;\n",
       "    }\n",
       "\n",
       "    .dataframe tbody tr th {\n",
       "        vertical-align: top;\n",
       "    }\n",
       "\n",
       "    .dataframe thead th {\n",
       "        text-align: right;\n",
       "    }\n",
       "</style>\n",
       "<table border=\"1\" class=\"dataframe\">\n",
       "  <thead>\n",
       "    <tr style=\"text-align: right;\">\n",
       "      <th></th>\n",
       "      <th>0_predict</th>\n",
       "      <th>1_predict</th>\n",
       "    </tr>\n",
       "  </thead>\n",
       "  <tbody>\n",
       "    <tr>\n",
       "      <th>0_actual</th>\n",
       "      <td>2724</td>\n",
       "      <td>380</td>\n",
       "    </tr>\n",
       "    <tr>\n",
       "      <th>1_actual</th>\n",
       "      <td>718</td>\n",
       "      <td>403</td>\n",
       "    </tr>\n",
       "  </tbody>\n",
       "</table>\n",
       "</div>"
      ],
      "text/plain": [
       "          0_predict  1_predict\n",
       "0_actual       2724        380\n",
       "1_actual        718        403"
      ]
     },
     "execution_count": 184,
     "metadata": {},
     "output_type": "execute_result"
    }
   ],
   "source": [
    "# create confusion matrix\n",
    "conf_rf = confusion_matrix(y_train, y_pred_rf)\n",
    "\n",
    "# nice dataframe with conf\n",
    "labels = sorted(y_train.unique())\n",
    "pd.DataFrame(conf_rf,\n",
    "            index=[str(label) + '_actual'for label in labels],\n",
    "            columns=[str(label) + '_predict'for label in labels])\n"
   ]
  },
  {
   "cell_type": "code",
   "execution_count": 186,
   "id": "1db98191",
   "metadata": {},
   "outputs": [
    {
     "name": "stdout",
     "output_type": "stream",
     "text": [
      "              precision    recall  f1-score   support\n",
      "\n",
      "           0       0.79      0.88      0.83      3104\n",
      "           1       0.51      0.36      0.42      1121\n",
      "\n",
      "    accuracy                           0.74      4225\n",
      "   macro avg       0.65      0.62      0.63      4225\n",
      "weighted avg       0.72      0.74      0.72      4225\n",
      "\n"
     ]
    }
   ],
   "source": [
    "print(classification_report(y_train, y_pred_rf))"
   ]
  },
  {
   "cell_type": "code",
   "execution_count": 211,
   "id": "504d6e97",
   "metadata": {},
   "outputs": [
    {
     "data": {
      "text/plain": [
       "0.7196593328601846"
      ]
     },
     "execution_count": 211,
     "metadata": {},
     "output_type": "execute_result"
    }
   ],
   "source": [
    "# evaluate model \n",
    "# rf train accuracy score = 0.7401183431952663\n",
    "rf.score(x_train, y_train)\n",
    "\n",
    "# rf  validate accuracy score = 0.7196593328601846\n",
    "rf.score(x_validate, y_validate)"
   ]
  },
  {
   "cell_type": "markdown",
   "id": "d490edc2",
   "metadata": {},
   "source": [
    "# Linear Regression Model"
   ]
  },
  {
   "cell_type": "code",
   "execution_count": 189,
   "id": "9dd3e534",
   "metadata": {},
   "outputs": [
    {
     "data": {
      "text/plain": [
       "LogisticRegression()"
      ]
     },
     "execution_count": 189,
     "metadata": {},
     "output_type": "execute_result"
    }
   ],
   "source": [
    "# create object\n",
    "logit = LogisticRegression()\n",
    "\n",
    "# model fit \n",
    "logit.fit(x_train, y_train)"
   ]
  },
  {
   "cell_type": "code",
   "execution_count": 190,
   "id": "d64df9e5",
   "metadata": {},
   "outputs": [
    {
     "name": "stdout",
     "output_type": "stream",
     "text": [
      "Coefficient: \n",
      " [[-0.42184525 -0.55147039  0.90267313 -0.98603615]]\n",
      "Intercept: \n",
      " [-0.90162982]\n"
     ]
    }
   ],
   "source": [
    "# evaluate importance of each feature\n",
    "print('Coefficient: \\n', logit.coef_)\n",
    "print('Intercept: \\n', logit.intercept_)\n"
   ]
  },
  {
   "cell_type": "code",
   "execution_count": 213,
   "id": "1ea6c532",
   "metadata": {},
   "outputs": [
    {
     "name": "stdout",
     "output_type": "stream",
     "text": [
      "\n",
      "    Accuracy of Logistic Regression classifier on training set: 0.74\n",
      "    Accuracy of Logistic Regression classifier on validation set: 0.72\n",
      "\n",
      "[[2724  380]\n",
      " [ 718  403]]\n"
     ]
    }
   ],
   "source": [
    "# make predictions\n",
    "y_pred_lr = logit.predict(x_train)\n",
    "y_pred_proba_lr = logit.predict_proba(x_train)\n",
    "# compute accuracy\n",
    "print(f'''\n",
    "    Accuracy of Logistic Regression classifier on training set: {round(logit.score(x_train, y_train),2)}\n",
    "    Accuracy of Logistic Regression classifier on validation set: {round(logit.score(x_validate, y_validate),2)}\n",
    "''')\n",
    "\n",
    "print(confusion_matrix(y_train, y_pred_lr))\n"
   ]
  },
  {
   "cell_type": "code",
   "execution_count": 229,
   "id": "f4a933b4",
   "metadata": {},
   "outputs": [
    {
     "name": "stdout",
     "output_type": "stream",
     "text": [
      "              precision    recall  f1-score   support\n",
      "\n",
      "           0       0.79      0.88      0.83      3104\n",
      "           1       0.51      0.36      0.42      1121\n",
      "\n",
      "    accuracy                           0.74      4225\n",
      "   macro avg       0.65      0.62      0.63      4225\n",
      "weighted avg       0.72      0.74      0.72      4225\n",
      "\n"
     ]
    },
    {
     "data": {
      "text/plain": [
       "array([[0.82294999, 0.17705001],\n",
       "       [0.78975929, 0.21024071],\n",
       "       [0.49973917, 0.50026083],\n",
       "       ...,\n",
       "       [0.49973917, 0.50026083],\n",
       "       [0.71128432, 0.28871568],\n",
       "       [0.71128432, 0.28871568]])"
      ]
     },
     "execution_count": 229,
     "metadata": {},
     "output_type": "execute_result"
    }
   ],
   "source": [
    "# classification report\n",
    "print(classification_report(y_train, y_pred_lr))\n",
    "y_pred_proba_lr"
   ]
  },
  {
   "cell_type": "code",
   "execution_count": 228,
   "id": "4bd2c140",
   "metadata": {},
   "outputs": [
    {
     "data": {
      "text/plain": [
       "<matplotlib.collections.PathCollection at 0x7fd9310e0af0>"
      ]
     },
     "execution_count": 228,
     "metadata": {},
     "output_type": "execute_result"
    },
    {
     "data": {
      "image/png": "[encoded data removed]",
      "text/plain": [
       "<Figure size 640x480 with 1 Axes>"
      ]
     },
     "metadata": {},
     "output_type": "display_data"
    },
    {
     "data": {
      "text/plain": [
       "<Figure size 1000x600 with 0 Axes>"
      ]
     },
     "metadata": {},
     "output_type": "display_data"
    }
   ],
   "source": [
    "# Visualize #################################\n",
    "# create array of probabilities of churning\n",
    "\n",
    "y_pred_proba_churn = np.array([i[1] for i in y_pred_proba_lr])\n",
    "\n",
    "fig = plt.figure()\n",
    "plt.figure(figsize=(10,6))\n",
    "ax = fig.add_subplot()\n",
    "\n",
    "\n",
    "# scatter plot where x is the probabilities and y is the churn (0, 1)\n",
    "ax.scatter(y_pred_proba_churn, y_pred_lr)\n"
   ]
  },
  {
   "cell_type": "code",
   "execution_count": 226,
   "id": "e924bbae",
   "metadata": {},
   "outputs": [
    {
     "data": {
      "text/plain": [
       "array([0.50026083, 0.50026083, 0.50026083, 0.50026083, 0.50026083,\n",
       "       0.50026083, 0.50026083, 0.50026083, 0.50026083, 0.50026083,\n",
       "       0.50026083, 0.50026083, 0.50026083, 0.50026083, 0.50026083,\n",
       "       0.50026083, 0.50026083, 0.50026083, 0.50026083, 0.50026083,\n",
       "       0.50026083, 0.50026083, 0.50026083, 0.50026083, 0.50026083,\n",
       "       0.50026083, 0.50026083, 0.50026083, 0.50026083, 0.50026083,\n",
       "       0.50026083, 0.50026083, 0.50026083, 0.50026083, 0.50026083,\n",
       "       0.50026083, 0.50026083, 0.50026083, 0.50026083, 0.50026083,\n",
       "       0.50026083, 0.50026083, 0.50026083, 0.50026083, 0.50026083,\n",
       "       0.50026083, 0.50026083, 0.50026083, 0.50026083, 0.50026083,\n",
       "       0.50026083, 0.50026083, 0.50026083, 0.50026083, 0.50026083,\n",
       "       0.50026083, 0.50026083, 0.50026083, 0.50026083, 0.50026083,\n",
       "       0.50026083, 0.50026083, 0.50026083, 0.50026083, 0.50026083,\n",
       "       0.50026083, 0.50026083, 0.50026083, 0.50026083, 0.50026083,\n",
       "       0.50026083, 0.50026083, 0.50026083, 0.50026083, 0.50026083,\n",
       "       0.50026083, 0.50026083, 0.50026083, 0.50026083, 0.50026083,\n",
       "       0.50026083, 0.50026083, 0.50026083, 0.50026083, 0.50026083,\n",
       "       0.50026083, 0.50026083, 0.50026083, 0.50026083, 0.50026083,\n",
       "       0.50026083, 0.50026083, 0.50026083, 0.50026083, 0.50026083,\n",
       "       0.50026083, 0.50026083, 0.50026083, 0.50026083, 0.50026083,\n",
       "       0.50026083, 0.50026083, 0.50026083, 0.50026083, 0.50026083,\n",
       "       0.50026083, 0.50026083, 0.50026083, 0.50026083, 0.50026083,\n",
       "       0.50026083, 0.50026083, 0.50026083, 0.50026083, 0.50026083,\n",
       "       0.50026083, 0.50026083, 0.50026083, 0.50026083, 0.50026083,\n",
       "       0.50026083, 0.50026083, 0.50026083, 0.50026083, 0.50026083,\n",
       "       0.50026083, 0.50026083, 0.50026083, 0.50026083, 0.50026083,\n",
       "       0.50026083, 0.50026083, 0.50026083, 0.50026083, 0.50026083,\n",
       "       0.50026083, 0.50026083, 0.50026083, 0.50026083, 0.50026083,\n",
       "       0.50026083, 0.50026083, 0.50026083, 0.50026083, 0.50026083,\n",
       "       0.50026083, 0.50026083, 0.50026083, 0.50026083, 0.50026083,\n",
       "       0.50026083, 0.50026083, 0.50026083, 0.50026083, 0.50026083,\n",
       "       0.50026083, 0.50026083, 0.50026083, 0.50026083, 0.50026083,\n",
       "       0.50026083, 0.50026083, 0.50026083, 0.50026083, 0.50026083,\n",
       "       0.50026083, 0.50026083, 0.50026083, 0.50026083, 0.50026083,\n",
       "       0.50026083, 0.50026083, 0.50026083, 0.50026083, 0.50026083,\n",
       "       0.50026083, 0.50026083, 0.50026083, 0.50026083, 0.50026083,\n",
       "       0.50026083, 0.50026083, 0.50026083, 0.50026083, 0.50026083,\n",
       "       0.50026083, 0.50026083, 0.50026083, 0.50026083, 0.50026083,\n",
       "       0.50026083, 0.50026083, 0.50026083, 0.50026083, 0.50026083,\n",
       "       0.50026083, 0.50026083, 0.50026083, 0.50026083, 0.50026083,\n",
       "       0.50026083, 0.50026083, 0.50026083, 0.50026083, 0.50026083,\n",
       "       0.50026083, 0.50026083, 0.50026083, 0.50026083, 0.50026083,\n",
       "       0.50026083, 0.50026083, 0.50026083, 0.50026083, 0.50026083,\n",
       "       0.50026083, 0.50026083, 0.50026083, 0.50026083, 0.50026083,\n",
       "       0.50026083, 0.50026083, 0.50026083, 0.50026083, 0.50026083,\n",
       "       0.50026083, 0.50026083, 0.50026083, 0.50026083, 0.50026083,\n",
       "       0.50026083, 0.50026083, 0.50026083, 0.50026083, 0.50026083,\n",
       "       0.50026083, 0.50026083, 0.50026083, 0.50026083, 0.50026083,\n",
       "       0.50026083, 0.50026083, 0.50026083, 0.50026083, 0.50026083,\n",
       "       0.50026083, 0.50026083, 0.50026083, 0.50026083, 0.50026083,\n",
       "       0.50026083, 0.50026083, 0.50026083, 0.50026083, 0.50026083,\n",
       "       0.50026083, 0.50026083, 0.50026083, 0.50026083, 0.50026083,\n",
       "       0.50026083, 0.50026083, 0.50026083, 0.50026083, 0.50026083,\n",
       "       0.50026083, 0.50026083, 0.50026083, 0.50026083, 0.50026083,\n",
       "       0.50026083, 0.50026083, 0.50026083, 0.50026083, 0.50026083,\n",
       "       0.50026083, 0.50026083, 0.50026083, 0.50026083, 0.50026083,\n",
       "       0.50026083, 0.50026083, 0.50026083, 0.50026083, 0.50026083,\n",
       "       0.50026083, 0.50026083, 0.50026083, 0.50026083, 0.50026083,\n",
       "       0.50026083, 0.50026083, 0.50026083, 0.50026083, 0.50026083,\n",
       "       0.50026083, 0.50026083, 0.50026083, 0.50026083, 0.50026083,\n",
       "       0.50026083, 0.50026083, 0.50026083, 0.50026083, 0.50026083,\n",
       "       0.50026083, 0.50026083, 0.50026083, 0.50026083, 0.50026083,\n",
       "       0.50026083, 0.50026083, 0.50026083, 0.50026083, 0.50026083,\n",
       "       0.50026083, 0.50026083, 0.50026083, 0.50026083, 0.50026083,\n",
       "       0.50026083, 0.50026083, 0.50026083, 0.50026083, 0.50026083,\n",
       "       0.50026083, 0.50026083, 0.50026083, 0.50026083, 0.50026083,\n",
       "       0.50026083, 0.50026083, 0.50026083, 0.50026083, 0.50026083,\n",
       "       0.50026083, 0.50026083, 0.50026083, 0.50026083, 0.50026083,\n",
       "       0.50026083, 0.50026083, 0.50026083, 0.50026083, 0.50026083,\n",
       "       0.50026083, 0.50026083, 0.50026083, 0.50026083, 0.50026083,\n",
       "       0.50026083, 0.50026083, 0.50026083, 0.50026083, 0.50026083,\n",
       "       0.50026083, 0.50026083, 0.50026083, 0.50026083, 0.50026083,\n",
       "       0.50026083, 0.50026083, 0.50026083, 0.50026083, 0.50026083,\n",
       "       0.50026083, 0.50026083, 0.50026083, 0.50026083, 0.50026083,\n",
       "       0.50026083, 0.50026083, 0.50026083, 0.50026083, 0.50026083,\n",
       "       0.50026083, 0.50026083, 0.50026083, 0.50026083, 0.50026083,\n",
       "       0.50026083, 0.50026083, 0.50026083, 0.50026083, 0.50026083,\n",
       "       0.50026083, 0.50026083, 0.50026083, 0.50026083, 0.50026083,\n",
       "       0.50026083, 0.50026083, 0.50026083, 0.50026083, 0.50026083,\n",
       "       0.50026083, 0.50026083, 0.50026083, 0.50026083, 0.50026083,\n",
       "       0.50026083, 0.50026083, 0.50026083, 0.50026083, 0.50026083,\n",
       "       0.50026083, 0.50026083, 0.50026083, 0.50026083, 0.50026083,\n",
       "       0.50026083, 0.50026083, 0.50026083, 0.50026083, 0.50026083,\n",
       "       0.50026083, 0.50026083, 0.50026083, 0.50026083, 0.50026083,\n",
       "       0.50026083, 0.50026083, 0.50026083, 0.50026083, 0.50026083,\n",
       "       0.50026083, 0.50026083, 0.50026083, 0.50026083, 0.50026083,\n",
       "       0.50026083, 0.50026083, 0.50026083, 0.50026083, 0.50026083,\n",
       "       0.50026083, 0.50026083, 0.50026083, 0.50026083, 0.50026083,\n",
       "       0.50026083, 0.50026083, 0.50026083, 0.50026083, 0.50026083,\n",
       "       0.50026083, 0.50026083, 0.50026083, 0.50026083, 0.50026083,\n",
       "       0.50026083, 0.50026083, 0.50026083, 0.50026083, 0.50026083,\n",
       "       0.50026083, 0.50026083, 0.50026083, 0.50026083, 0.50026083,\n",
       "       0.50026083, 0.50026083, 0.50026083, 0.50026083, 0.50026083,\n",
       "       0.50026083, 0.50026083, 0.50026083, 0.50026083, 0.50026083,\n",
       "       0.50026083, 0.50026083, 0.50026083, 0.50026083, 0.50026083,\n",
       "       0.50026083, 0.50026083, 0.50026083, 0.50026083, 0.50026083,\n",
       "       0.50026083, 0.50026083, 0.50026083, 0.50026083, 0.50026083,\n",
       "       0.50026083, 0.50026083, 0.50026083, 0.50026083, 0.50026083,\n",
       "       0.50026083, 0.50026083, 0.50026083, 0.50026083, 0.50026083,\n",
       "       0.50026083, 0.50026083, 0.50026083, 0.50026083, 0.50026083,\n",
       "       0.50026083, 0.50026083, 0.50026083, 0.50026083, 0.50026083,\n",
       "       0.50026083, 0.50026083, 0.50026083, 0.50026083, 0.50026083,\n",
       "       0.50026083, 0.50026083, 0.50026083, 0.50026083, 0.50026083,\n",
       "       0.50026083, 0.50026083, 0.50026083, 0.50026083, 0.50026083,\n",
       "       0.50026083, 0.50026083, 0.50026083, 0.50026083, 0.50026083,\n",
       "       0.50026083, 0.50026083, 0.50026083, 0.50026083, 0.50026083,\n",
       "       0.50026083, 0.50026083, 0.50026083, 0.50026083, 0.50026083,\n",
       "       0.50026083, 0.50026083, 0.50026083, 0.50026083, 0.50026083,\n",
       "       0.50026083, 0.50026083, 0.50026083, 0.50026083, 0.50026083,\n",
       "       0.50026083, 0.50026083, 0.50026083, 0.50026083, 0.50026083,\n",
       "       0.50026083, 0.50026083, 0.50026083, 0.50026083, 0.50026083,\n",
       "       0.50026083, 0.50026083, 0.50026083, 0.50026083, 0.50026083,\n",
       "       0.50026083, 0.50026083, 0.50026083, 0.50026083, 0.50026083,\n",
       "       0.50026083, 0.50026083, 0.50026083, 0.50026083, 0.50026083,\n",
       "       0.50026083, 0.50026083, 0.50026083, 0.50026083, 0.50026083,\n",
       "       0.50026083, 0.50026083, 0.50026083, 0.50026083, 0.50026083,\n",
       "       0.50026083, 0.50026083, 0.50026083, 0.50026083, 0.50026083,\n",
       "       0.50026083, 0.50026083, 0.50026083, 0.50026083, 0.50026083,\n",
       "       0.50026083, 0.50026083, 0.50026083, 0.50026083, 0.50026083,\n",
       "       0.50026083, 0.50026083, 0.50026083, 0.50026083, 0.50026083,\n",
       "       0.50026083, 0.50026083, 0.50026083, 0.50026083, 0.50026083,\n",
       "       0.50026083, 0.50026083, 0.50026083, 0.50026083, 0.50026083,\n",
       "       0.50026083, 0.50026083, 0.50026083, 0.50026083, 0.50026083,\n",
       "       0.50026083, 0.50026083, 0.50026083, 0.50026083, 0.50026083,\n",
       "       0.50026083, 0.50026083, 0.50026083, 0.50026083, 0.50026083,\n",
       "       0.50026083, 0.50026083, 0.50026083, 0.50026083, 0.50026083,\n",
       "       0.50026083, 0.50026083, 0.50026083, 0.50026083, 0.50026083,\n",
       "       0.50026083, 0.50026083, 0.50026083, 0.50026083, 0.50026083,\n",
       "       0.50026083, 0.50026083, 0.50026083, 0.50026083, 0.50026083,\n",
       "       0.50026083, 0.50026083, 0.50026083, 0.50026083, 0.50026083,\n",
       "       0.50026083, 0.50026083, 0.50026083, 0.50026083, 0.50026083,\n",
       "       0.50026083, 0.50026083, 0.50026083, 0.50026083, 0.50026083,\n",
       "       0.50026083, 0.50026083, 0.50026083, 0.50026083, 0.50026083,\n",
       "       0.50026083, 0.50026083, 0.50026083, 0.50026083, 0.50026083,\n",
       "       0.50026083, 0.50026083, 0.50026083, 0.50026083, 0.50026083,\n",
       "       0.50026083, 0.50026083, 0.50026083, 0.50026083, 0.50026083,\n",
       "       0.50026083, 0.50026083, 0.50026083, 0.50026083, 0.50026083,\n",
       "       0.50026083, 0.50026083, 0.50026083, 0.50026083, 0.50026083,\n",
       "       0.50026083, 0.50026083, 0.50026083, 0.50026083, 0.50026083,\n",
       "       0.50026083, 0.50026083, 0.50026083, 0.50026083, 0.50026083,\n",
       "       0.50026083, 0.50026083, 0.50026083, 0.50026083, 0.50026083,\n",
       "       0.50026083, 0.50026083, 0.50026083, 0.50026083, 0.50026083,\n",
       "       0.50026083, 0.50026083, 0.50026083, 0.50026083, 0.50026083,\n",
       "       0.50026083, 0.50026083, 0.50026083, 0.50026083, 0.50026083,\n",
       "       0.50026083, 0.50026083, 0.50026083, 0.50026083, 0.50026083,\n",
       "       0.50026083, 0.50026083, 0.50026083, 0.50026083, 0.50026083,\n",
       "       0.50026083, 0.50026083, 0.50026083, 0.50026083, 0.50026083,\n",
       "       0.50026083, 0.50026083, 0.50026083, 0.50026083, 0.50026083,\n",
       "       0.50026083, 0.50026083, 0.50026083, 0.50026083, 0.50026083,\n",
       "       0.50026083, 0.50026083, 0.50026083, 0.50026083, 0.50026083,\n",
       "       0.50026083, 0.50026083, 0.50026083, 0.50026083, 0.50026083,\n",
       "       0.50026083, 0.50026083, 0.50026083, 0.50026083, 0.50026083,\n",
       "       0.50026083, 0.50026083, 0.50026083, 0.50026083, 0.50026083,\n",
       "       0.50026083, 0.50026083, 0.50026083, 0.50026083, 0.50026083,\n",
       "       0.50026083, 0.50026083, 0.50026083, 0.50026083, 0.50026083,\n",
       "       0.50026083, 0.50026083, 0.50026083, 0.50026083, 0.50026083,\n",
       "       0.50026083, 0.50026083, 0.50026083])"
      ]
     },
     "execution_count": 226,
     "metadata": {},
     "output_type": "execute_result"
    }
   ],
   "source": [
    "y_pred_proba_churn[y_pred_proba_churn > 0.5]"
   ]
  },
  {
   "cell_type": "code",
   "execution_count": 230,
   "id": "89931130",
   "metadata": {},
   "outputs": [
    {
     "name": "stdout",
     "output_type": "stream",
     "text": [
      "\n",
      "    Accuracy of Logistic Regression classifier on training set: 0.74\n",
      "    Accuracy of Logistic Regression classifier on validation set: 0.72\n",
      "    Accuracy of Logistic Regression classifier on test set: 0.74\n",
      "\n"
     ]
    }
   ],
   "source": [
    "# Test Model\n",
    "print(f'''\n",
    "    Accuracy of Logistic Regression classifier on training set: {round(logit.score(x_train, y_train),2)}\n",
    "    Accuracy of Logistic Regression classifier on validation set: {round(logit.score(x_validate, y_validate),2)}\n",
    "    Accuracy of Logistic Regression classifier on test set: {round(logit.score(x_test, y_test),2)}\n",
    "    \n",
    "''')"
   ]
  },
  {
   "cell_type": "code",
   "execution_count": null,
   "id": "59f0e516",
   "metadata": {},
   "outputs": [],
   "source": []
  }
 ],
 "metadata": {
  "kernelspec": {
   "display_name": "Python 3 (ipykernel)",
   "language": "python",
   "name": "python3"
  },
  "language_info": {
   "codemirror_mode": {
    "name": "ipython",
    "version": 3
   },
   "file_extension": ".py",
   "mimetype": "text/x-python",
   "name": "python",
   "nbconvert_exporter": "python",
   "pygments_lexer": "ipython3",
   "version": "3.9.13"
  }
 },
 "nbformat": 4,
 "nbformat_minor": 5
}
