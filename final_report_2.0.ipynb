{
 "cells": [
  {
   "cell_type": "code",
   "execution_count": 1,
   "id": "c1e026da",
   "metadata": {},
   "outputs": [],
   "source": [
    "import warnings\n",
    "warnings.filterwarnings(\"ignore\")\n",
    "import os\n",
    "import pandas as pd\n",
    "import numpy as np\n",
    "import matplotlib.pyplot as plt\n",
    "import seaborn as sns\n",
    "from scipy import stats\n",
    "\n",
    "# sklearn imports\n",
    "from sklearn.model_selection import train_test_split\n",
    "from sklearn.metrics import confusion_matrix, classification_report, accuracy_score\n",
    "\n",
    "# tree classifier\n",
    "from sklearn.model_selection import train_test_split\n",
    "from sklearn.tree import DecisionTreeClassifier, plot_tree\n",
    "\n",
    "# rainforest classifier\n",
    "from sklearn.ensemble import RandomForestClassifier\n",
    "\n",
    "# linear regession classifier\n",
    "from sklearn.linear_model import LogisticRegression\n",
    "\n",
    "# knn classifier\n",
    "from sklearn.neighbors import KNeighborsClassifier\n",
    "import wrangle as w\n",
    "import explore as e\n",
    "import model as m\n"
   ]
  },
  {
   "cell_type": "markdown",
   "id": "e3473025",
   "metadata": {},
   "source": [
    "# Acquire\n",
    "* Aquire dataset from Codeup database\n",
    "* It contained 7043 rows and 26 columns before cleaning\n",
    "* Each row represents a customer at Telco\n",
    "* Each column represents a feature of those customers"
   ]
  },
  {
   "cell_type": "markdown",
   "id": "da454eb8",
   "metadata": {},
   "source": [
    "# Prepare\n",
    "- Prepare Actions:\n",
    "\n",
    "    * Removed columns that did not contain useful information\n",
    "    * Renamed columns to promote readability\n",
    "    * Checked for nulls in the data (there were nulls within churn_month column, which was dropped)\n",
    "    * Checked that column data types were appropriate\n",
    "    * Removed white space from total_charge columns with 0's and coverted type to float\n",
    "    * Added automatic_payment column, which divides the four payment types in payment_type column into two categories: automatic or non-automatic\n",
    "    * Removed features:\n",
    "        - customer_id            \n",
    "        - senior_citizen                         \n",
    "        - phone_service            \n",
    "        - monthly_charges        \n",
    "        - total_charges          \n",
    "        - payment_type           \n",
    "      \n",
    "    * Encoded categorical variables\n",
    "    * Split data into train, validate and test (approx. 60/20/20), stratifying on 'churn'\n",
    "    * Outliers have not been removed for this iteration of the project"
   ]
  },
  {
   "cell_type": "markdown",
   "id": "f1d8846f",
   "metadata": {},
   "source": [
    "# Data Dictionary "
   ]
  },
  {
   "cell_type": "code",
   "execution_count": 2,
   "id": "217d8b91",
   "metadata": {},
   "outputs": [],
   "source": [
    "# acquiring, cleaning, and adding features to data\n",
    "df = w.prep_telco()\n",
    "df\n",
    "\n",
    "# splitting data into train, validate, and test\n",
    "target = \"churn\"\n",
    "train, validate, test = w.split_data(df,target)\n"
   ]
  },
  {
   "cell_type": "markdown",
   "id": "03864c7a",
   "metadata": {},
   "source": [
    "# Summarize df "
   ]
  },
  {
   "cell_type": "code",
   "execution_count": 3,
   "id": "29cc51a2",
   "metadata": {},
   "outputs": [
    {
     "data": {
      "text/html": [
       "<div>\n",
       "<style scoped>\n",
       "    .dataframe tbody tr th:only-of-type {\n",
       "        vertical-align: middle;\n",
       "    }\n",
       "\n",
       "    .dataframe tbody tr th {\n",
       "        vertical-align: top;\n",
       "    }\n",
       "\n",
       "    .dataframe thead th {\n",
       "        text-align: right;\n",
       "    }\n",
       "</style>\n",
       "<table border=\"1\" class=\"dataframe\">\n",
       "  <thead>\n",
       "    <tr style=\"text-align: right;\">\n",
       "      <th></th>\n",
       "      <th>partner</th>\n",
       "      <th>dependents</th>\n",
       "      <th>paperless_billing</th>\n",
       "      <th>automatic_payment</th>\n",
       "      <th>churn</th>\n",
       "      <th>gender</th>\n",
       "      <th>tenure</th>\n",
       "    </tr>\n",
       "  </thead>\n",
       "  <tbody>\n",
       "    <tr>\n",
       "      <th>5911</th>\n",
       "      <td>0</td>\n",
       "      <td>1</td>\n",
       "      <td>1</td>\n",
       "      <td>1</td>\n",
       "      <td>0</td>\n",
       "      <td>1</td>\n",
       "      <td>26</td>\n",
       "    </tr>\n",
       "    <tr>\n",
       "      <th>2479</th>\n",
       "      <td>1</td>\n",
       "      <td>0</td>\n",
       "      <td>0</td>\n",
       "      <td>0</td>\n",
       "      <td>0</td>\n",
       "      <td>0</td>\n",
       "      <td>47</td>\n",
       "    </tr>\n",
       "    <tr>\n",
       "      <th>5889</th>\n",
       "      <td>0</td>\n",
       "      <td>0</td>\n",
       "      <td>1</td>\n",
       "      <td>0</td>\n",
       "      <td>1</td>\n",
       "      <td>0</td>\n",
       "      <td>1</td>\n",
       "    </tr>\n",
       "    <tr>\n",
       "      <th>6087</th>\n",
       "      <td>0</td>\n",
       "      <td>0</td>\n",
       "      <td>1</td>\n",
       "      <td>1</td>\n",
       "      <td>0</td>\n",
       "      <td>1</td>\n",
       "      <td>69</td>\n",
       "    </tr>\n",
       "    <tr>\n",
       "      <th>785</th>\n",
       "      <td>0</td>\n",
       "      <td>0</td>\n",
       "      <td>0</td>\n",
       "      <td>1</td>\n",
       "      <td>0</td>\n",
       "      <td>0</td>\n",
       "      <td>51</td>\n",
       "    </tr>\n",
       "  </tbody>\n",
       "</table>\n",
       "</div>"
      ],
      "text/plain": [
       "      partner  dependents  paperless_billing  automatic_payment  churn  \\\n",
       "5911        0           1                  1                  1      0   \n",
       "2479        1           0                  0                  0      0   \n",
       "5889        0           0                  1                  0      1   \n",
       "6087        0           0                  1                  1      0   \n",
       "785         0           0                  0                  1      0   \n",
       "\n",
       "      gender  tenure  \n",
       "5911       1      26  \n",
       "2479       0      47  \n",
       "5889       0       1  \n",
       "6087       1      69  \n",
       "785        0      51  "
      ]
     },
     "execution_count": 3,
     "metadata": {},
     "output_type": "execute_result"
    }
   ],
   "source": [
    "# overview of data\n",
    "train.head()"
   ]
  },
  {
   "cell_type": "markdown",
   "id": "084a77bb",
   "metadata": {},
   "source": [
    "# Explore"
   ]
  },
  {
   "cell_type": "markdown",
   "id": "9be902c5",
   "metadata": {},
   "source": [
    "## How often are customers' churning?"
   ]
  },
  {
   "cell_type": "code",
   "execution_count": 4,
   "id": "ac7b973b",
   "metadata": {},
   "outputs": [
    {
     "data": {
      "image/png": "[encoded data removed]",
      "text/plain": [
       "<Figure size 640x480 with 1 Axes>"
      ]
     },
     "metadata": {},
     "output_type": "display_data"
    }
   ],
   "source": [
    "e.churn_pie(train)"
   ]
  },
  {
   "cell_type": "markdown",
   "id": "f95770d1",
   "metadata": {},
   "source": [
    "* Approximately 27% of customers' in the training data have churned"
   ]
  },
  {
   "cell_type": "markdown",
   "id": "54b22d36",
   "metadata": {},
   "source": [
    "## Question 1: What's the relationship between churn and automatic payment?"
   ]
  },
  {
   "cell_type": "code",
   "execution_count": 5,
   "id": "b98dd5b5",
   "metadata": {},
   "outputs": [
    {
     "data": {
      "image/png": "[encoded data removed]",
      "text/plain": [
       "<Figure size 640x480 with 1 Axes>"
      ]
     },
     "metadata": {},
     "output_type": "display_data"
    }
   ],
   "source": [
    "graph_title_Q1 = \"What's the Relationship Between Churn and Automatic Payment?\"\n",
    "feature_Q1 = \"automatic_payment\"\n",
    "\n",
    "e.relationship_churn(train, graph_title_Q1, feature_Q1, target)"
   ]
  },
  {
   "cell_type": "markdown",
   "id": "0f2576c7",
   "metadata": {},
   "source": [
    "**I will use chi-square to investigate whether churning and customers' with automatic payment are related**\n",
    "\n",
    "* I will use a confidence interval of 95%\n",
    "* The alpha is .05\n",
    "\n",
    "\n",
    "* $H_o$: 'Churn' and 'Automatic Payment' are independent.\n",
    "* $H_a$: 'Churn' and 'Automatic Payment' are related."
   ]
  },
  {
   "cell_type": "code",
   "execution_count": 6,
   "id": "88fbf76c",
   "metadata": {},
   "outputs": [
    {
     "name": "stdout",
     "output_type": "stream",
     "text": [
      "Reject the null hypothesis: 'Churn' and 'Automatic Payments' are independent\n",
      "Sufficient evidence to move forward understanding that, 'Churn' and 'Automatic Payments'are related\n",
      " chi^2 = 201.00756246968632 p = 1.2588150001387785e-45\n"
     ]
    }
   ],
   "source": [
    "# Chi squared to compare proportions, define confidence\n",
    "# alpha is set to 0.05\n",
    "alpha = 0.05\n",
    "\n",
    "null_hypothesis_Q1 = \"'Churn' and 'Automatic Payments' are independent\"\n",
    "alternative_hypothesis_Q1 = \"'Churn' and 'Automatic Payments'are related\"\n",
    "\n",
    "e.cross_function(train, target, feature_Q1, null_hypothesis_Q1, alternative_hypothesis_Q1)"
   ]
  },
  {
   "cell_type": "markdown",
   "id": "671bb047",
   "metadata": {},
   "source": [
    "**The p-value is greater than the alpha. Therefore, we have evidence to support that 'Churn' and 'Automatic Payments'are related. Based on this, I believe that using the 'Automatic Payment' feature in modeling will likely have a small positive impact on the model's accuracy.**"
   ]
  },
  {
   "cell_type": "markdown",
   "id": "0bdbed39",
   "metadata": {},
   "source": [
    "# Question 2:  What's the relationship between churn and paperless billing?"
   ]
  },
  {
   "cell_type": "code",
   "execution_count": 7,
   "id": "7bfd4ec5",
   "metadata": {},
   "outputs": [
    {
     "data": {
      "image/png": "[encoded data removed]",
      "text/plain": [
       "<Figure size 640x480 with 1 Axes>"
      ]
     },
     "metadata": {},
     "output_type": "display_data"
    }
   ],
   "source": [
    "graph_title_Q2 = \"What's the Relationship Between Churn and Paperless Billing?\"\n",
    "feature_Q2 = \"paperless_billing\"\n",
    "\n",
    "e.relationship_churn(train, graph_title_Q2, feature_Q2, target)"
   ]
  },
  {
   "cell_type": "markdown",
   "id": "128f68c7",
   "metadata": {},
   "source": [
    "**I will use chi-square to investigate whether churning and customers' with paperless billing are related**\n",
    "\n",
    "* I will use a confidence interval of 95%\n",
    "* The alpha is .05\n",
    "\n",
    "\n",
    "* $H_o$: 'Churn' and 'Paperless Billing' are independent.\n",
    "* $H_a$: 'Churn' and 'Paperless Billing' are related."
   ]
  },
  {
   "cell_type": "code",
   "execution_count": 8,
   "id": "45cd199f",
   "metadata": {},
   "outputs": [
    {
     "name": "stdout",
     "output_type": "stream",
     "text": [
      "Reject the null hypothesis: 'Churn' and 'Paperless Billing' are independent.\n",
      "Sufficient evidence to move forward understanding that, 'Churn' and 'Paperless Billing' are related.'\n",
      " chi^2 = 148.58446697144495 p = 3.5348504574964642e-34\n"
     ]
    }
   ],
   "source": [
    "# Chi squared to compare proportions, define confidence\n",
    "null_hypothesis_Q2 = \"'Churn' and 'Paperless Billing' are independent.\"\n",
    "alternative_hypothesis_Q2 = \"'Churn' and 'Paperless Billing' are related.'\"\n",
    "\n",
    "e.cross_function(train, target, feature_Q2, null_hypothesis_Q2, alternative_hypothesis_Q2)"
   ]
  },
  {
   "cell_type": "markdown",
   "id": "1e62617b",
   "metadata": {},
   "source": [
    "**The p-value is greater than the alpha. Therefore, we have evidence to support that 'Churn' and 'Paperless Billing' are related. Based on this, I believe that using the 'Paperless Billing' feature in modeling will likely have a small positive impact on the model's accuracy.**"
   ]
  },
  {
   "cell_type": "markdown",
   "id": "9d640897",
   "metadata": {},
   "source": [
    "# Question 3: What's the Relationship Between Churn and Customers' with a Partner?"
   ]
  },
  {
   "cell_type": "code",
   "execution_count": 9,
   "id": "3e866901",
   "metadata": {},
   "outputs": [
    {
     "data": {
      "image/png": "[encoded data removed]",
      "text/plain": [
       "<Figure size 640x480 with 1 Axes>"
      ]
     },
     "metadata": {},
     "output_type": "display_data"
    }
   ],
   "source": [
    "graph_title_Q3 = \"What's the Relationship Between Churn and Customers' with a Partner?\"\n",
    "feature_Q3 = \"partner\"\n",
    "\n",
    "e.relationship_churn(train, graph_title_Q3, feature_Q3, target)"
   ]
  },
  {
   "cell_type": "markdown",
   "id": "a37f7ae1",
   "metadata": {},
   "source": [
    "**I will use chi-square to investigate whether churning and customers' with a Partner?**\n",
    "\n",
    "* I will use a confidence interval of 95%\n",
    "* The alpha is .05\n",
    "\n",
    "\n",
    "* $H_o$: 'Churn' and 'Partner' are independent.\n",
    "* $H_a$: 'Churn' and 'Partner' are related."
   ]
  },
  {
   "cell_type": "code",
   "execution_count": 10,
   "id": "05632b8a",
   "metadata": {},
   "outputs": [
    {
     "name": "stdout",
     "output_type": "stream",
     "text": [
      "Reject the null hypothesis: 'Churn' and 'Partners' are independent\n",
      "Sufficient evidence to move forward understanding that, 'Churn' and 'Partners' are related\n",
      " chi^2 = 106.63124069338238 p = 5.362120825511991e-25\n"
     ]
    }
   ],
   "source": [
    "# Chi squared to compare proportions, define confidence\n",
    "null_hypothesis_Q3 = \"'Churn' and 'Partners' are independent\"\n",
    "alternative_hypothesis_Q3 = \"'Churn' and 'Partners' are related\"\n",
    "\n",
    "e.cross_function(train, target, feature_Q3, null_hypothesis_Q3, alternative_hypothesis_Q3)"
   ]
  },
  {
   "cell_type": "markdown",
   "id": "32a2fff3",
   "metadata": {},
   "source": [
    "**The p-value is greater than the alpha. Therefore, we have evidence to support that 'Churn' and 'Partners' are related. Based on this, I believe that using the 'Partners' feature in modeling will likely have a small positive impact on the model's accuracy.**"
   ]
  },
  {
   "cell_type": "markdown",
   "id": "07fce5d1",
   "metadata": {},
   "source": [
    "# Question 4: What's the relationship between churn and customers' with dependents?"
   ]
  },
  {
   "cell_type": "code",
   "execution_count": 11,
   "id": "4e007305",
   "metadata": {},
   "outputs": [
    {
     "data": {
      "image/png": "[encoded data removed]",
      "text/plain": [
       "<Figure size 640x480 with 1 Axes>"
      ]
     },
     "metadata": {},
     "output_type": "display_data"
    }
   ],
   "source": [
    "graph_title_Q4 = \"What's the Relationship Between Churn and Customers' with Dependents\"\n",
    "feature_Q4 = \"dependents\"\n",
    "\n",
    "e.relationship_churn(train, graph_title_Q3, feature_Q4, target)"
   ]
  },
  {
   "cell_type": "markdown",
   "id": "28d3a344",
   "metadata": {},
   "source": [
    "**I will use chi-square to investigate whether churning and customers' with Dependents?**\n",
    "\n",
    "* I will use a confidence interval of 95%\n",
    "* The alpha is .05\n",
    "\n",
    "\n",
    "* $H_o$: 'Churn' and 'Dependents' are independent.\n",
    "* $H_a$: 'Churn' and 'Dependents' are related."
   ]
  },
  {
   "cell_type": "code",
   "execution_count": 12,
   "id": "8e6d60c6",
   "metadata": {},
   "outputs": [
    {
     "name": "stdout",
     "output_type": "stream",
     "text": [
      "Reject the null hypothesis: 'Churn' and 'Dependents' are independent.\n",
      "Sufficient evidence to move forward understanding that, 'Churn' and 'Dependents' are related.\n",
      " chi^2 = 111.74045071817626 p = 4.0728740930257527e-26\n"
     ]
    }
   ],
   "source": [
    "alpha = 0.05\n",
    "\n",
    "null_hypothesis_Q4 = \"'Churn' and 'Dependents' are independent.\"\n",
    "alternative_hypothesis_Q4 = \"'Churn' and 'Dependents' are related.\"\n",
    "\n",
    "e.cross_function(train, target, feature_Q4, null_hypothesis_Q4, alternative_hypothesis_Q4)"
   ]
  },
  {
   "cell_type": "markdown",
   "id": "0955b3f0",
   "metadata": {},
   "source": [
    "**The p-value is greater than the alpha. Therefore, we have evidence to support that 'Churn' and 'Dependents' are related. Based on this, I believe that using the 'Dependents' feature in modeling will likely have a small positive impact on the model's accuracy.**"
   ]
  },
  {
   "cell_type": "markdown",
   "id": "ca62a6c0",
   "metadata": {},
   "source": [
    "# Exploration Summary"
   ]
  },
  {
   "cell_type": "markdown",
   "id": "2095ace7",
   "metadata": {},
   "source": [
    "* \"Automatic Payment\" was found to be a driver of \"Churn\"\n",
    "* \"Paperless Billing\" was found to be a driver of \"Churn\"\n",
    "* \"Partner\" was found to be a driver of \"Churn\"\n",
    "* \"Dependents\" was found to be a driver of \"Churn\""
   ]
  },
  {
   "cell_type": "markdown",
   "id": "eadbb995",
   "metadata": {},
   "source": [
    "# Features continuing to modeling\n",
    "\n",
    "* \"Automatic Payment\" was found to be a driver of \"Churn\" (small difference in churn percentage, but relationship to churn is statistically significant)\n",
    "* \"Paperless Billing\" was found to be a driver of \"Churn\" (small difference in churn percentage, but relationship to churn is statistically significant)\n",
    "* \"Partner\" was found to be a driver of \"Churn\" (small difference in churn percentage, but relationship to churn is statistically significant)\n",
    "* \"Dependents\" was found to be a driver of \"Churn\" (small difference in churn percentage, but relationship to churn is statistically significant)\n"
   ]
  },
  {
   "cell_type": "markdown",
   "id": "68466d3f",
   "metadata": {},
   "source": [
    "# Modeling\n",
    "\n",
    "* My evaluation metric will use accuracy.\n",
    "* Non-churn is approximately 73% of the data."
   ]
  },
  {
   "cell_type": "markdown",
   "id": "919d5b71",
   "metadata": {},
   "source": [
    "* Assuming non-churn for every customer, the baseline accuracy is 73%, and will continue to use for this project.\n",
    "* I will be evaluating models developed using three different model types and various hyperparameter configurations.\n",
    "* Models will be evaluated on train and validate data.\n",
    "* The model that performs the best will then be evaluated on test data."
   ]
  },
  {
   "cell_type": "markdown",
   "id": "c29f0a94",
   "metadata": {},
   "source": [
    "* positive class:  not churned\n",
    "* negative class:  churned"
   ]
  },
  {
   "cell_type": "code",
   "execution_count": 13,
   "id": "8f87e4a5",
   "metadata": {},
   "outputs": [],
   "source": [
    "# baseline accuracy \n",
    "baseline_accuracy = (train.churn == 0).mean()\n",
    "#  prep data for modeling\n",
    "x_train, y_train, x_validate, y_validate, x_test, y_test = m.create_x_y(train, validate, test, target)"
   ]
  },
  {
   "cell_type": "markdown",
   "id": "6ce4b4dc",
   "metadata": {},
   "source": [
    "# Decision Tree Model  "
   ]
  },
  {
   "cell_type": "code",
   "execution_count": 14,
   "id": "bec91c43",
   "metadata": {},
   "outputs": [
    {
     "name": "stdout",
     "output_type": "stream",
     "text": [
      "\n",
      "    Accuracy of Decision Tree classifier on training set: 0.77\n",
      "    Accuracy of Decision Tree classifier on validation set: 0.77\n",
      "    \n"
     ]
    }
   ],
   "source": [
    "m.best_tree(x_train, y_train, x_validate, y_validate)"
   ]
  },
  {
   "cell_type": "markdown",
   "id": "4c1b5720",
   "metadata": {},
   "source": [
    "* The Decision Tree is approximately 4% greater than the baseline."
   ]
  },
  {
   "cell_type": "markdown",
   "id": "5154bf7d",
   "metadata": {},
   "source": [
    "# Random Forest model"
   ]
  },
  {
   "cell_type": "code",
   "execution_count": 15,
   "id": "00e2ea9d",
   "metadata": {},
   "outputs": [
    {
     "name": "stdout",
     "output_type": "stream",
     "text": [
      "\n",
      "    Accuracy of Decision Tree classifier on training set: 0.78\n",
      "    Accuracy of Decision Tree classifier on validation set: 0.778\n",
      "    \n"
     ]
    }
   ],
   "source": [
    "m.best_forest(x_train, y_train, x_validate, y_validate)"
   ]
  },
  {
   "cell_type": "markdown",
   "id": "06c15c73",
   "metadata": {},
   "source": [
    "* The Random Forest is approximately 4-5% greater than the baseline."
   ]
  },
  {
   "cell_type": "markdown",
   "id": "89f8ecb4",
   "metadata": {},
   "source": [
    "# Linear Regression Model"
   ]
  },
  {
   "cell_type": "code",
   "execution_count": 16,
   "id": "95518bde",
   "metadata": {},
   "outputs": [
    {
     "name": "stdout",
     "output_type": "stream",
     "text": [
      "\n",
      "\n",
      "    Accuracy of Logistic Regression on training set: 0.769\n",
      "    Accuracy of Logistic Regression on validation set: 0.774\n",
      "    \n"
     ]
    }
   ],
   "source": [
    "m.logit_accuracy(x_train, y_train, x_validate, y_validate)"
   ]
  },
  {
   "cell_type": "markdown",
   "id": "4cc8a14a",
   "metadata": {},
   "source": [
    "* The Linear Regression is approximately 3-4% greater than the baseline."
   ]
  },
  {
   "cell_type": "markdown",
   "id": "e3d4ed22",
   "metadata": {},
   "source": [
    "# KNN Model"
   ]
  },
  {
   "cell_type": "code",
   "execution_count": 17,
   "id": "d93100cc",
   "metadata": {},
   "outputs": [
    {
     "name": "stdout",
     "output_type": "stream",
     "text": [
      "\n",
      "    Accuracy of KNN on training set: 0.783\n",
      "    Accuracy of KNN on validation set: 0.752\n",
      "    \n"
     ]
    }
   ],
   "source": [
    "m.best_knn(x_train, y_train, x_validate, y_validate)"
   ]
  },
  {
   "cell_type": "code",
   "execution_count": 18,
   "id": "15de61e3",
   "metadata": {},
   "outputs": [
    {
     "ename": "SyntaxError",
     "evalue": "invalid syntax (3093856375.py, line 1)",
     "output_type": "error",
     "traceback": [
      "\u001b[0;36m  File \u001b[0;32m\"/var/folders/bf/lhpb5n_j1xj4msxy6nrm9h7h0000gn/T/ipykernel_14822/3093856375.py\"\u001b[0;36m, line \u001b[0;32m1\u001b[0m\n\u001b[0;31m    * The KNN Model  Regression is approximately 3-4% greater than the baseline.\u001b[0m\n\u001b[0m          ^\u001b[0m\n\u001b[0;31mSyntaxError\u001b[0m\u001b[0;31m:\u001b[0m invalid syntax\n"
     ]
    }
   ],
   "source": [
    "* The KNN Model  Regression is approximately 3-4% greater than the baseline."
   ]
  },
  {
   "cell_type": "markdown",
   "id": "4e704f8d",
   "metadata": {},
   "source": [
    "# Comparing Models"
   ]
  },
  {
   "cell_type": "code",
   "execution_count": null,
   "id": "2544ad9b",
   "metadata": {},
   "outputs": [],
   "source": [
    "Decision Tree, Random Forest, and Logistic Regression models all performed about equal or greater than the baseline on train and validate\n",
    "The KNN model performed slightly better on train data but was worse on validate data. It is likely overfit.\n",
    "Because the results of the Decision Tree, Random Forest, and Logistic Regression models were all very similar I could proceed to test with any of these models.\n",
    "I have chosen to move forward with the Logistic Regression model"
   ]
  },
  {
   "cell_type": "markdown",
   "id": "34ef5a23",
   "metadata": {},
   "source": [
    "# Test Model "
   ]
  },
  {
   "cell_type": "code",
   "execution_count": null,
   "id": "956e06af",
   "metadata": {},
   "outputs": [],
   "source": [
    "# Test Model\n",
    "print(f'''\n",
    "    Accuracy of Logistic Regression classifier on training set: {round(logit.score(x_train, y_train),2)}\n",
    "    Accuracy of Logistic Regression classifier on validation set: {round(logit.score(x_validate, y_validate),2)}\n",
    "    Accuracy of Logistic Regression classifier on test set: {round(logit.score(x_test, y_test),2)}\n",
    "    \n",
    "''')\n"
   ]
  }
 ],
 "metadata": {
  "kernelspec": {
   "display_name": "Python 3 (ipykernel)",
   "language": "python",
   "name": "python3"
  },
  "language_info": {
   "codemirror_mode": {
    "name": "ipython",
    "version": 3
   },
   "file_extension": ".py",
   "mimetype": "text/x-python",
   "name": "python",
   "nbconvert_exporter": "python",
   "pygments_lexer": "ipython3",
   "version": "3.9.13"
  }
 },
 "nbformat": 4,
 "nbformat_minor": 5
}
