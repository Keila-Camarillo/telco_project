# imports
import warnings
warnings.filterwarnings("ignore")
import os
import pandas as pd
import numpy as np
import matplotlib.pyplot as plt
import seaborn as sns
from scipy import stats

# sklearn imports
from sklearn.model_selection import train_test_split
from sklearn.metrics import confusion_matrix, classification_report, accuracy_score

# tree classifier
from sklearn.model_selection import train_test_split
from sklearn.tree import DecisionTreeClassifier, plot_tree

# rainforest classifier
from sklearn.ensemble import RandomForestClassifier

# linear regession classifier
from sklearn.linear_model import LogisticRegression

# knn classifier
from sklearn.neighbors import KNeighborsClassifier
import wrangle as w
import explore as e
import model as m



# df_feat with all explore features
df_feat = w.prep_telco()
# acquiring, cleaning, and adding valuable features to data
df = w.prep_clean_telco()

# splitting data into train, validate, and test
target = "churn"
train_feat, validate_feat, test_feat = w.split_data(df_feat,target)
train, validate, test = w.split_data(df,target)


# overview of data
train_feat.head()


# pie chart churn
e.churn_pie(train)


# graph for Churn and Automatic Payment
graph_title_Q1 = "What's the Relationship Between Churn and Automatic Payment?"
feature_Q1 = "automatic_payment"

e.relationship_churn(train_feat, graph_title_Q1, feature_Q1, target)


# Chi squared to compare proportions, define confidence
# alpha is set to 0.05
alpha = 0.05

null_hypothesis_Q1 = "'Churn' and 'Automatic Payments' are independent"
alternative_hypothesis_Q1 = "'Churn' and 'Automatic Payments'are related"

e.cross_function(train_feat, target, feature_Q1, null_hypothesis_Q1, alternative_hypothesis_Q1)


# graph for Churn and Paperless Billing
graph_title_Q2 = "What's the Relationship Between Churn and Paperless Billing?"
feature_Q2 = "paperless_billing"

e.relationship_churn(train_feat, graph_title_Q2, feature_Q2, target)


# Chi squared to compare proportions, define confidence
null_hypothesis_Q2 = "'Churn' and 'Paperless Billing' are independent."
alternative_hypothesis_Q2 = "'Churn' and 'Paperless Billing' are related.'"

e.cross_function(train_feat, target, feature_Q2, null_hypothesis_Q2, alternative_hypothesis_Q2)


# graph for Churn and Partner
graph_title_Q3 = "What's the Relationship Between Churn and Customers' with a Partner?"
feature_Q3 = "partner"

e.relationship_churn(train_feat, graph_title_Q3, feature_Q3, target)


# Chi squared to compare proportions, define confidence
null_hypothesis_Q3 = "'Churn' and 'Partners' are independent"
alternative_hypothesis_Q3 = "'Churn' and 'Partners' are related"

e.cross_function(train_feat, target, feature_Q3, null_hypothesis_Q3, alternative_hypothesis_Q3)


# graph for Churn and Dependents
graph_title_Q4 = "What's the Relationship Between Churn and Customers' with Dependents"
feature_Q4 = "dependents"

e.relationship_churn(train_feat, graph_title_Q4, feature_Q4, target)


# Chi squared to compare proportions, define confidence
alpha = 0.05

null_hypothesis_Q4 = "'Churn' and 'Dependents' are independent."
alternative_hypothesis_Q4 = "'Churn' and 'Dependents' are related."

e.cross_function(train_feat, target, feature_Q4, null_hypothesis_Q4, alternative_hypothesis_Q4)


# graph for churn and tenure
did_churn = train_feat[train_feat.churn == 1]
did_not_churn = train_feat[train_feat.churn == 0]
plt.hist(data=did_not_churn, x='tenure', label="Did Not Churn", color="C0")
plt.hist(data=did_churn, x='tenure', label="Did Churn", color="C1")

plt.legend()
plt.show()


# t-test to compare tenure, define confidence
null_hypothesis_Q6 = "'Tenure' of customers who 'Churn' equals that of those who don't 'Churn'"
alternative_hypothesis_Q6 = "'Tenure' of customers who 'Churn' is not equal to that of those who don't 'Churn'"
churn_sample = train[train.churn == 1].tenure
no_churn_sample = train[train.churn == 0].tenure

e.tenure_ttest(churn_sample, no_churn_sample, null_hypothesis_Q6, alternative_hypothesis_Q6)


# graph for Churn and Gender
graph_title_Q5 = "What's the Relationship Between Churn and Customers' gender"
feature_Q5 = "gender"

e.relationship_churn2(train_feat, graph_title_Q5, feature_Q5, target)


# Chi squared to compare proportions, define confidence
null_hypothesis_Q5 = "'Churn' and 'Gender' are independent."
alternative_hypothesis_Q5 = "'Churn' and 'Gender' are related."

e.cross_function(train_feat, target, feature_Q5, null_hypothesis_Q5, alternative_hypothesis_Q5)


# baseline accuracy 
baseline_accuracy = (train.churn == 0).mean()
round(baseline_accuracy, 2)


#  prep data for modeling
x_train, y_train, x_validate, y_validate, x_test, y_test = m.create_x_y(train, validate, test, target)


# decision tree results
m.best_tree(x_train, y_train, x_validate, y_validate)


m.best_forest(x_train, y_train, x_validate, y_validate)


# logistic regression results
m.logit_accuracy(x_train, y_train, x_validate, y_validate)


# the knn results
m.best_knn(x_train, y_train, x_validate, y_validate)


# get test results for final model
m.best_model(x_train, y_train, x_validate, y_validate, x_test, y_test)
